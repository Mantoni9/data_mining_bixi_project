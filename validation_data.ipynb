{
 "cells": [
  {
   "cell_type": "code",
   "execution_count": 3,
   "id": "80b02ee8",
   "metadata": {},
   "outputs": [],
   "source": [
    "import pandas as pd\n",
    "import matplotlib as plt\n",
    "import numpy as np"
   ]
  },
  {
   "cell_type": "code",
   "execution_count": 4,
   "id": "04e57061",
   "metadata": {},
   "outputs": [],
   "source": [
    "df = pd.read_csv('data/preprocessed_data/all.csv')"
   ]
  },
  {
   "cell_type": "code",
   "execution_count": 5,
   "id": "78a0fd4b",
   "metadata": {},
   "outputs": [
    {
     "data": {
      "text/html": [
       "<div>\n",
       "<style scoped>\n",
       "    .dataframe tbody tr th:only-of-type {\n",
       "        vertical-align: middle;\n",
       "    }\n",
       "\n",
       "    .dataframe tbody tr th {\n",
       "        vertical-align: top;\n",
       "    }\n",
       "\n",
       "    .dataframe thead th {\n",
       "        text-align: right;\n",
       "    }\n",
       "</style>\n",
       "<table border=\"1\" class=\"dataframe\">\n",
       "  <thead>\n",
       "    <tr style=\"text-align: right;\">\n",
       "      <th></th>\n",
       "      <th>latitude</th>\n",
       "      <th>longitude</th>\n",
       "      <th>distance_to_center</th>\n",
       "      <th>year</th>\n",
       "      <th>month</th>\n",
       "      <th>weekday</th>\n",
       "      <th>pm</th>\n",
       "      <th>holiday</th>\n",
       "      <th>mean_temperature</th>\n",
       "      <th>total_precipitation</th>\n",
       "      <th>stations_count</th>\n",
       "      <th>elevation_meters</th>\n",
       "      <th>density</th>\n",
       "      <th>count</th>\n",
       "    </tr>\n",
       "  </thead>\n",
       "  <tbody>\n",
       "    <tr>\n",
       "      <th>0</th>\n",
       "      <td>45.523319</td>\n",
       "      <td>-73.520127</td>\n",
       "      <td>4.380002</td>\n",
       "      <td>2014</td>\n",
       "      <td>4</td>\n",
       "      <td>1</td>\n",
       "      <td>0</td>\n",
       "      <td>False</td>\n",
       "      <td>5.8</td>\n",
       "      <td>8.9</td>\n",
       "      <td>455</td>\n",
       "      <td>11</td>\n",
       "      <td>1</td>\n",
       "      <td>1</td>\n",
       "    </tr>\n",
       "    <tr>\n",
       "      <th>1</th>\n",
       "      <td>45.510351</td>\n",
       "      <td>-73.556508</td>\n",
       "      <td>1.219082</td>\n",
       "      <td>2014</td>\n",
       "      <td>4</td>\n",
       "      <td>1</td>\n",
       "      <td>0</td>\n",
       "      <td>False</td>\n",
       "      <td>5.8</td>\n",
       "      <td>8.9</td>\n",
       "      <td>455</td>\n",
       "      <td>13</td>\n",
       "      <td>25</td>\n",
       "      <td>2</td>\n",
       "    </tr>\n",
       "    <tr>\n",
       "      <th>2</th>\n",
       "      <td>45.510351</td>\n",
       "      <td>-73.556508</td>\n",
       "      <td>1.219082</td>\n",
       "      <td>2014</td>\n",
       "      <td>4</td>\n",
       "      <td>1</td>\n",
       "      <td>1</td>\n",
       "      <td>False</td>\n",
       "      <td>5.8</td>\n",
       "      <td>8.9</td>\n",
       "      <td>455</td>\n",
       "      <td>13</td>\n",
       "      <td>25</td>\n",
       "      <td>3</td>\n",
       "    </tr>\n",
       "    <tr>\n",
       "      <th>3</th>\n",
       "      <td>45.511007</td>\n",
       "      <td>-73.567602</td>\n",
       "      <td>0.834790</td>\n",
       "      <td>2014</td>\n",
       "      <td>4</td>\n",
       "      <td>1</td>\n",
       "      <td>0</td>\n",
       "      <td>False</td>\n",
       "      <td>5.8</td>\n",
       "      <td>8.9</td>\n",
       "      <td>455</td>\n",
       "      <td>34</td>\n",
       "      <td>45</td>\n",
       "      <td>1</td>\n",
       "    </tr>\n",
       "    <tr>\n",
       "      <th>4</th>\n",
       "      <td>45.498112</td>\n",
       "      <td>-73.577615</td>\n",
       "      <td>0.915128</td>\n",
       "      <td>2014</td>\n",
       "      <td>4</td>\n",
       "      <td>1</td>\n",
       "      <td>0</td>\n",
       "      <td>False</td>\n",
       "      <td>5.8</td>\n",
       "      <td>8.9</td>\n",
       "      <td>455</td>\n",
       "      <td>54</td>\n",
       "      <td>34</td>\n",
       "      <td>4</td>\n",
       "    </tr>\n",
       "  </tbody>\n",
       "</table>\n",
       "</div>"
      ],
      "text/plain": [
       "    latitude  longitude  distance_to_center  year  month  weekday  pm  \\\n",
       "0  45.523319 -73.520127            4.380002  2014      4        1   0   \n",
       "1  45.510351 -73.556508            1.219082  2014      4        1   0   \n",
       "2  45.510351 -73.556508            1.219082  2014      4        1   1   \n",
       "3  45.511007 -73.567602            0.834790  2014      4        1   0   \n",
       "4  45.498112 -73.577615            0.915128  2014      4        1   0   \n",
       "\n",
       "   holiday  mean_temperature  total_precipitation  stations_count  \\\n",
       "0    False               5.8                  8.9             455   \n",
       "1    False               5.8                  8.9             455   \n",
       "2    False               5.8                  8.9             455   \n",
       "3    False               5.8                  8.9             455   \n",
       "4    False               5.8                  8.9             455   \n",
       "\n",
       "   elevation_meters  density  count  \n",
       "0                11        1      1  \n",
       "1                13       25      2  \n",
       "2                13       25      3  \n",
       "3                34       45      1  \n",
       "4                54       34      4  "
      ]
     },
     "execution_count": 5,
     "metadata": {},
     "output_type": "execute_result"
    }
   ],
   "source": [
    "df.head()"
   ]
  },
  {
   "cell_type": "code",
   "execution_count": 6,
   "id": "b26ac28a",
   "metadata": {},
   "outputs": [
    {
     "name": "stdout",
     "output_type": "stream",
     "text": [
      "<class 'pandas.core.frame.DataFrame'>\n",
      "RangeIndex: 1163551 entries, 0 to 1163550\n",
      "Data columns (total 14 columns):\n",
      " #   Column               Non-Null Count    Dtype  \n",
      "---  ------               --------------    -----  \n",
      " 0   latitude             1163551 non-null  float64\n",
      " 1   longitude            1163551 non-null  float64\n",
      " 2   distance_to_center   1163551 non-null  float64\n",
      " 3   year                 1163551 non-null  int64  \n",
      " 4   month                1163551 non-null  int64  \n",
      " 5   weekday              1163551 non-null  int64  \n",
      " 6   pm                   1163551 non-null  int64  \n",
      " 7   holiday              1163551 non-null  bool   \n",
      " 8   mean_temperature     1163551 non-null  float64\n",
      " 9   total_precipitation  1163551 non-null  float64\n",
      " 10  stations_count       1163551 non-null  int64  \n",
      " 11  elevation_meters     1163551 non-null  int64  \n",
      " 12  density              1163551 non-null  int64  \n",
      " 13  count                1163551 non-null  int64  \n",
      "dtypes: bool(1), float64(5), int64(8)\n",
      "memory usage: 116.5 MB\n"
     ]
    }
   ],
   "source": [
    "df.info()"
   ]
  },
  {
   "cell_type": "code",
   "execution_count": 9,
   "id": "13ee4e5f",
   "metadata": {},
   "outputs": [
    {
     "name": "stdout",
     "output_type": "stream",
     "text": [
      "There is no missing datapoint for elevation_meters\n"
     ]
    }
   ],
   "source": [
    "# Check if API had no result for elevation_meters\n",
    "if (df['elevation_meters'] != 0).all():\n",
    "    print ('There is no missing datapoint for elevation_meters')"
   ]
  },
  {
   "cell_type": "code",
   "execution_count": 22,
   "id": "528bea6b",
   "metadata": {},
   "outputs": [
    {
     "name": "stdout",
     "output_type": "stream",
     "text": [
      "All elevation meters are in plausible range\n",
      "All stations are above NN\n"
     ]
    }
   ],
   "source": [
    "# Check if elevation_meters are higher than highest point on earth\n",
    "if (df['elevation_meters'] < 9000).all():\n",
    "    print(\"All elevation meters are in plausible range\")\n",
    "else:\n",
    "    print(\"There are some datapoints which are higher than the highest point on earth\")\n",
    "    \n",
    "# Check if elevations_meters are negative\n",
    "if (df['elevation_meters'] < 0).all():\n",
    "    print(\"There are stations beneath NN\")\n",
    "else:\n",
    "    print(\"All stations are above NN\")"
   ]
  },
  {
   "cell_type": "code",
   "execution_count": 23,
   "id": "d2020949",
   "metadata": {},
   "outputs": [
    {
     "name": "stdout",
     "output_type": "stream",
     "text": [
      "All mean temperatures are inside the valid ares\n"
     ]
    }
   ],
   "source": [
    "# Check if mean_temperature is greater than max and min temperature in montreal\n",
    "if (df['mean_temperature'] < 37.6).all() | (df['mean_temperature'] > -37.8).all():\n",
    "    print (\"All mean temperatures are inside the valid ares\")\n",
    "else:\n",
    "    print(\"There are some mean temperatures that are not valid\")"
   ]
  },
  {
   "cell_type": "code",
   "execution_count": 24,
   "id": "459acc31",
   "metadata": {},
   "outputs": [
    {
     "name": "stdout",
     "output_type": "stream",
     "text": [
      "Density of Stations is valid\n"
     ]
    }
   ],
   "source": [
    "#Check if density of Stations has more results than total stations Count\n",
    "if (df['density'] < df['stations_count']).all():\n",
    "    print(\"Density of Stations is valid\")\n",
    "else: \n",
    "    print('Density has more stations than total count of stations')"
   ]
  },
  {
   "cell_type": "code",
   "execution_count": 27,
   "id": "c99ebf8b",
   "metadata": {},
   "outputs": [
    {
     "name": "stdout",
     "output_type": "stream",
     "text": [
      "Month range is correct\n"
     ]
    }
   ],
   "source": [
    "#Check if data is in expected month Range\n",
    "if (df['month'] > 3).all() | (df['month'] < 12).all():\n",
    "    print('Month range is correct')\n",
    "else:\n",
    "    print(\"Month range is incorrect\")"
   ]
  },
  {
   "cell_type": "code",
   "execution_count": 29,
   "id": "804732c8",
   "metadata": {},
   "outputs": [
    {
     "name": "stdout",
     "output_type": "stream",
     "text": [
      "Year range is correct\n"
     ]
    }
   ],
   "source": [
    "#Check if data is in expected year Range\n",
    "if (df['year'] > 2013).all() | (df['year'] < 2021).all():\n",
    "    print('Year range is correct')\n",
    "else:\n",
    "    print(\"Year range is incorrect\")"
   ]
  },
  {
   "cell_type": "code",
   "execution_count": 32,
   "id": "64a5bccf",
   "metadata": {},
   "outputs": [
    {
     "name": "stdout",
     "output_type": "stream",
     "text": [
      "All precipitation are inside the valid ares\n"
     ]
    }
   ],
   "source": [
    "# Check if total_precipitation is greater than max and min percipitation in montreal\n",
    "if (df['total_precipitation'] < 93.5).all() | (df['total_precipitation'] > 1.7).all():\n",
    "    print (\"All precipitation are inside the valid ares\")\n",
    "else:\n",
    "    print(\"There are some precipitation that are not valid\")"
   ]
  },
  {
   "cell_type": "code",
   "execution_count": 37,
   "id": "bff5bac4",
   "metadata": {},
   "outputs": [
    {
     "name": "stdout",
     "output_type": "stream",
     "text": [
      "Data is invalid\n"
     ]
    }
   ],
   "source": [
    "#Check if pm is valid\n",
    "if (df['pm'] > 2).all() | (df['pm'] < 0).all():\n",
    "    print(\"Data is valid\")\n",
    "else:\n",
    "    print(\"Data is invalid\")"
   ]
  },
  {
   "cell_type": "code",
   "execution_count": 38,
   "id": "0265bf53",
   "metadata": {},
   "outputs": [
    {
     "name": "stdout",
     "output_type": "stream",
     "text": [
      "Weekday range is correct\n"
     ]
    }
   ],
   "source": [
    "#Check if data is in expected day Range\n",
    "if (df['weekday'] >= 0).all() | (df['year'] <= 6).all():\n",
    "    print('Weekday range is correct')\n",
    "else:\n",
    "    print(\"Weekday range is incorrect\")"
   ]
  },
  {
   "cell_type": "code",
   "execution_count": 40,
   "id": "877e2491",
   "metadata": {},
   "outputs": [
    {
     "name": "stdout",
     "output_type": "stream",
     "text": [
      "There are some precipitation that are not valid\n"
     ]
    }
   ],
   "source": [
    "# Check if total_precipitation is greater than max and min percipitation in montreal\n",
    "if (df['total_precipitation'] == 0).all():\n",
    "    print (\"Kein Regenta\")\n",
    "else:\n",
    "    print(\"There are some precipitation that are not valid\")"
   ]
  },
  {
   "cell_type": "code",
   "execution_count": null,
   "id": "fd4c74e4",
   "metadata": {},
   "outputs": [],
   "source": []
  }
 ],
 "metadata": {
  "kernelspec": {
   "display_name": "Python 3 (ipykernel)",
   "language": "python",
   "name": "python3"
  },
  "language_info": {
   "codemirror_mode": {
    "name": "ipython",
    "version": 3
   },
   "file_extension": ".py",
   "mimetype": "text/x-python",
   "name": "python",
   "nbconvert_exporter": "python",
   "pygments_lexer": "ipython3",
   "version": "3.9.12"
  }
 },
 "nbformat": 4,
 "nbformat_minor": 5
}
