{
 "cells": [
  {
   "cell_type": "markdown",
   "id": "2d13a369-99c5-4ab2-b8ab-b9bc4d58560b",
   "metadata": {},
   "source": [
    "# Decision Tree Model"
   ]
  },
  {
   "cell_type": "code",
   "execution_count": 1,
   "id": "370a2501-42c3-488b-9f8f-0f7baf8c8dac",
   "metadata": {},
   "outputs": [],
   "source": [
    "# import necessary packages\n",
    "\n",
    "import pandas as pd\n",
    "import optuna\n",
    "from sklearn.model_selection import train_test_split\n",
    "from sklearn.metrics import r2_score, mean_squared_error\n",
    "# TODO: modell mit eurem ersetzen\n",
    "from sklearn.tree import DecisionTreeRegressor"
   ]
  },
  {
   "cell_type": "code",
   "execution_count": 2,
   "id": "851d13cc-d1db-48f1-aa8e-af9ffa985376",
   "metadata": {},
   "outputs": [],
   "source": [
    "# read data\n",
    "\n",
    "train_df = pd.read_csv('data/preprocessed_data/train.csv')\n",
    "val_df = pd.read_csv('data/preprocessed_data/validation.csv')\n",
    "test_df = pd.read_csv('data/preprocessed_data/test.csv')"
   ]
  },
  {
   "cell_type": "code",
   "execution_count": 3,
   "id": "baf1aa43-f423-4156-adf4-6e7b1a93db1b",
   "metadata": {},
   "outputs": [],
   "source": [
    "#TODO: this should be done in preprocessing\n",
    "\n",
    "# drop null values\n",
    "train_df = train_df.dropna()\n",
    "test_df = test_df.dropna()\n",
    "val_df = val_df.dropna()"
   ]
  },
  {
   "cell_type": "code",
   "execution_count": 4,
   "id": "c69e98f4-0254-418a-9214-deea6d4bad7f",
   "metadata": {},
   "outputs": [],
   "source": [
    "# split data\n",
    "\n",
    "X_train = train_df.drop(columns='count')\n",
    "y_train = train_df['count']\n",
    "\n",
    "X_val = val_df.drop(columns='count')\n",
    "y_val = val_df['count']\n",
    "\n",
    "X_test = test_df.drop(columns='count')\n",
    "y_test = test_df['count']"
   ]
  },
  {
   "cell_type": "code",
   "execution_count": 5,
   "id": "4d1a4193-d276-4a7a-9c73-1232ec73dd6d",
   "metadata": {
    "jupyter": {
     "outputs_hidden": true
    },
    "tags": []
   },
   "outputs": [
    {
     "name": "stderr",
     "output_type": "stream",
     "text": [
      "\u001b[32m[I 2022-11-20 19:41:22,537]\u001b[0m A new study created in memory with name: no-name-3bacafcf-6f0c-4dda-a742-1dd4ed252f3c\u001b[0m\n",
      "C:\\Users\\danie\\AppData\\Local\\Temp\\ipykernel_9916\\3028227842.py:44: FutureWarning: The frame.append method is deprecated and will be removed from pandas in a future version. Use pandas.concat instead.\n",
      "  hyperparameters_df = hyperparameters_df.append(\n",
      "\u001b[32m[I 2022-11-20 19:41:27,708]\u001b[0m Trial 0 finished with value: 15.869578187064489 and parameters: {'criterion': 'friedman_mse', 'splitter': 'best'}. Best is trial 0 with value: 15.869578187064489.\u001b[0m\n",
      "C:\\Users\\danie\\AppData\\Local\\Temp\\ipykernel_9916\\3028227842.py:44: FutureWarning: The frame.append method is deprecated and will be removed from pandas in a future version. Use pandas.concat instead.\n",
      "  hyperparameters_df = hyperparameters_df.append(\n",
      "\u001b[32m[I 2022-11-20 19:41:32,349]\u001b[0m Trial 1 finished with value: 16.102580661411203 and parameters: {'criterion': 'friedman_mse', 'splitter': 'best'}. Best is trial 0 with value: 15.869578187064489.\u001b[0m\n",
      "C:\\Users\\danie\\AppData\\Local\\Temp\\ipykernel_9916\\3028227842.py:44: FutureWarning: The frame.append method is deprecated and will be removed from pandas in a future version. Use pandas.concat instead.\n",
      "  hyperparameters_df = hyperparameters_df.append(\n",
      "\u001b[32m[I 2022-11-20 19:41:41,696]\u001b[0m Trial 2 finished with value: 20.22487354464361 and parameters: {'criterion': 'poisson', 'splitter': 'best'}. Best is trial 0 with value: 15.869578187064489.\u001b[0m\n",
      "C:\\Users\\danie\\AppData\\Local\\Temp\\ipykernel_9916\\3028227842.py:44: FutureWarning: The frame.append method is deprecated and will be removed from pandas in a future version. Use pandas.concat instead.\n",
      "  hyperparameters_df = hyperparameters_df.append(\n",
      "\u001b[32m[I 2022-11-20 19:41:44,190]\u001b[0m Trial 3 finished with value: 17.014347171229325 and parameters: {'criterion': 'squared_error', 'splitter': 'random'}. Best is trial 0 with value: 15.869578187064489.\u001b[0m\n",
      "C:\\Users\\danie\\AppData\\Local\\Temp\\ipykernel_9916\\3028227842.py:44: FutureWarning: The frame.append method is deprecated and will be removed from pandas in a future version. Use pandas.concat instead.\n",
      "  hyperparameters_df = hyperparameters_df.append(\n",
      "\u001b[32m[I 2022-11-20 19:41:48,886]\u001b[0m Trial 4 finished with value: 16.125415957085423 and parameters: {'criterion': 'squared_error', 'splitter': 'best'}. Best is trial 0 with value: 15.869578187064489.\u001b[0m\n",
      "C:\\Users\\danie\\AppData\\Local\\Temp\\ipykernel_9916\\3028227842.py:44: FutureWarning: The frame.append method is deprecated and will be removed from pandas in a future version. Use pandas.concat instead.\n",
      "  hyperparameters_df = hyperparameters_df.append(\n",
      "\u001b[32m[I 2022-11-20 19:41:53,538]\u001b[0m Trial 5 finished with value: 16.259189561119914 and parameters: {'criterion': 'squared_error', 'splitter': 'best'}. Best is trial 0 with value: 15.869578187064489.\u001b[0m\n",
      "C:\\Users\\danie\\AppData\\Local\\Temp\\ipykernel_9916\\3028227842.py:44: FutureWarning: The frame.append method is deprecated and will be removed from pandas in a future version. Use pandas.concat instead.\n",
      "  hyperparameters_df = hyperparameters_df.append(\n",
      "\u001b[32m[I 2022-11-20 19:42:03,153]\u001b[0m Trial 6 finished with value: 20.21715874576969 and parameters: {'criterion': 'poisson', 'splitter': 'best'}. Best is trial 0 with value: 15.869578187064489.\u001b[0m\n",
      "C:\\Users\\danie\\AppData\\Local\\Temp\\ipykernel_9916\\3028227842.py:44: FutureWarning: The frame.append method is deprecated and will be removed from pandas in a future version. Use pandas.concat instead.\n",
      "  hyperparameters_df = hyperparameters_df.append(\n",
      "\u001b[32m[I 2022-11-20 19:42:05,692]\u001b[0m Trial 7 finished with value: 17.952044815329735 and parameters: {'criterion': 'squared_error', 'splitter': 'random'}. Best is trial 0 with value: 15.869578187064489.\u001b[0m\n",
      "C:\\Users\\danie\\AppData\\Local\\Temp\\ipykernel_9916\\3028227842.py:44: FutureWarning: The frame.append method is deprecated and will be removed from pandas in a future version. Use pandas.concat instead.\n",
      "  hyperparameters_df = hyperparameters_df.append(\n",
      "\u001b[32m[I 2022-11-20 19:42:08,461]\u001b[0m Trial 8 finished with value: 18.547658276368416 and parameters: {'criterion': 'poisson', 'splitter': 'random'}. Best is trial 0 with value: 15.869578187064489.\u001b[0m\n",
      "C:\\Users\\danie\\AppData\\Local\\Temp\\ipykernel_9916\\3028227842.py:44: FutureWarning: The frame.append method is deprecated and will be removed from pandas in a future version. Use pandas.concat instead.\n",
      "  hyperparameters_df = hyperparameters_df.append(\n",
      "\u001b[32m[I 2022-11-20 19:42:11,135]\u001b[0m Trial 9 finished with value: 19.08905827979828 and parameters: {'criterion': 'poisson', 'splitter': 'random'}. Best is trial 0 with value: 15.869578187064489.\u001b[0m\n"
     ]
    }
   ],
   "source": [
    "# hyperparameter tuning\n",
    "\n",
    "try:\n",
    "    # TODO: file-name ersetzen (in diesem File werden die Ergebnisse des Hyperparameter Tuning gespeichert)\n",
    "    hyperparameters_df = pd.read_csv('data/hyperparameter_tuning/decision_tree.csv')\n",
    "    \n",
    "except FileNotFoundError:\n",
    "    \n",
    "    # df containing hyperparameters and evaluation metrics of each run\n",
    "    hyperparameters_df = pd.DataFrame()\n",
    "    \n",
    "    # this function is used by optuna to tune the hyperparameters\n",
    "    def objective(trial):\n",
    "        # TODO: die Hyperparameter mit denen eures Modells ersetzen\n",
    "        # - integers: trial.suggest_int(name, low, high)\n",
    "        # - floats: trial.suggest_int(name, low, high)\n",
    "        # - kategorisch: trial.suggest_categorical(name, choices)\n",
    "        # (https://optuna.readthedocs.io/en/v2.0.0/reference/generated/optuna.trial.Trial.html)\n",
    "        \n",
    "        # define hyperparameters\n",
    "        # criterion=absolute_error takes long to calculate\n",
    "        #criterion = trial.suggest_categorical('criterion', ['squared_error','friedman_mse','absolute_error','poisson'])\n",
    "        criterion = trial.suggest_categorical('criterion', ['squared_error','friedman_mse','poisson'])\n",
    "        splitter = trial.suggest_categorical('splitter', ['best','random'])\n",
    "        \n",
    "        # TODO: mit eurem Modell ersetzen\n",
    "        # setup and train model\n",
    "        dt_reg = DecisionTreeRegressor(\n",
    "            criterion=criterion,\n",
    "            splitter=splitter\n",
    "        )\n",
    "        dt_reg.fit(X_train, y_train)\n",
    "        \n",
    "        # make predictions\n",
    "        y_val_pred = dt_reg.predict(X_val)\n",
    "        \n",
    "        # evaluate predictions\n",
    "        r_squared = r2_score(y_val, y_val_pred)\n",
    "        rmse = mean_squared_error(y_val, y_val_pred) ** 0.5\n",
    "        \n",
    "        # TODO: mit euren Hyperparametern ersetzen\n",
    "        # insert results in dataframe\n",
    "        global hyperparameters_df \n",
    "        hyperparameters_df = hyperparameters_df.append(\n",
    "            {'criterion': criterion,\n",
    "             'splitter': splitter,\n",
    "             'r_squared': r_squared,\n",
    "             'rmse': rmse},\n",
    "            ignore_index=True\n",
    "        )\n",
    "        \n",
    "        # return rmse -> optuna will optimize rmse\n",
    "        return rmse\n",
    "        \n",
    "        \n",
    "    study = optuna.create_study()\n",
    "    # start optimization\n",
    "    study.optimize(objective, n_trials=10)\n",
    "    \n",
    "    # TODO: evtl. müsst ihr auch noch mal die Datentypen anpassen\n",
    "    # convert to correct data types\n",
    "    #hyperparameters_df[['n_estimators', 'max_depth']] = hyperparameters_df[['n_estimators', 'max_depth']].astype('int')\n",
    "    \n",
    "    # sort hyperparameter tuning results and save file\n",
    "    hyperparameters_df = hyperparameters_df.sort_values('rmse', ascending=True)\n",
    "    hyperparameters_df = hyperparameters_df.reset_index(drop=True)\n",
    "    hyperparameters_df.to_csv('data/hyperparameter_tuning/decision_tree.csv', index=False)"
   ]
  },
  {
   "cell_type": "code",
   "execution_count": 6,
   "id": "b1604c78-99a2-4ada-b6c2-3d46eadb92ac",
   "metadata": {},
   "outputs": [
    {
     "data": {
      "text/html": [
       "<div>\n",
       "<style scoped>\n",
       "    .dataframe tbody tr th:only-of-type {\n",
       "        vertical-align: middle;\n",
       "    }\n",
       "\n",
       "    .dataframe tbody tr th {\n",
       "        vertical-align: top;\n",
       "    }\n",
       "\n",
       "    .dataframe thead th {\n",
       "        text-align: right;\n",
       "    }\n",
       "</style>\n",
       "<table border=\"1\" class=\"dataframe\">\n",
       "  <thead>\n",
       "    <tr style=\"text-align: right;\">\n",
       "      <th></th>\n",
       "      <th>criterion</th>\n",
       "      <th>splitter</th>\n",
       "      <th>r_squared</th>\n",
       "      <th>rmse</th>\n",
       "    </tr>\n",
       "  </thead>\n",
       "  <tbody>\n",
       "    <tr>\n",
       "      <th>0</th>\n",
       "      <td>friedman_mse</td>\n",
       "      <td>best</td>\n",
       "      <td>0.638561</td>\n",
       "      <td>15.869578</td>\n",
       "    </tr>\n",
       "    <tr>\n",
       "      <th>1</th>\n",
       "      <td>friedman_mse</td>\n",
       "      <td>best</td>\n",
       "      <td>0.627869</td>\n",
       "      <td>16.102581</td>\n",
       "    </tr>\n",
       "    <tr>\n",
       "      <th>2</th>\n",
       "      <td>squared_error</td>\n",
       "      <td>best</td>\n",
       "      <td>0.626813</td>\n",
       "      <td>16.125416</td>\n",
       "    </tr>\n",
       "    <tr>\n",
       "      <th>3</th>\n",
       "      <td>squared_error</td>\n",
       "      <td>best</td>\n",
       "      <td>0.620595</td>\n",
       "      <td>16.259190</td>\n",
       "    </tr>\n",
       "    <tr>\n",
       "      <th>4</th>\n",
       "      <td>squared_error</td>\n",
       "      <td>random</td>\n",
       "      <td>0.584534</td>\n",
       "      <td>17.014347</td>\n",
       "    </tr>\n",
       "  </tbody>\n",
       "</table>\n",
       "</div>"
      ],
      "text/plain": [
       "       criterion splitter  r_squared       rmse\n",
       "0   friedman_mse     best   0.638561  15.869578\n",
       "1   friedman_mse     best   0.627869  16.102581\n",
       "2  squared_error     best   0.626813  16.125416\n",
       "3  squared_error     best   0.620595  16.259190\n",
       "4  squared_error   random   0.584534  17.014347"
      ]
     },
     "execution_count": 6,
     "metadata": {},
     "output_type": "execute_result"
    }
   ],
   "source": [
    "hyperparameters_df.head()"
   ]
  },
  {
   "cell_type": "markdown",
   "id": "d80d11ea",
   "metadata": {},
   "source": [
    "Note: If splitter=random is optimal hyperparameter, final model evaluation can turn out worse than what was achieved in optimazation (due to randomness).\n",
    "Vllt. beim optimieren immer als Zwischenstand das aktuell beste Modell speichern?"
   ]
  },
  {
   "cell_type": "code",
   "execution_count": 7,
   "id": "00be0ae7-5b16-49fd-be21-c212ae88169a",
   "metadata": {},
   "outputs": [
    {
     "name": "stdout",
     "output_type": "stream",
     "text": [
      "R^2:\t0.46658067286910765\n",
      "RMSE:\t19.401274395987524\n"
     ]
    }
   ],
   "source": [
    "# final model evaluation\n",
    "\n",
    "# TODO: mit eurem Modell und Hyperparametern ersetzen\n",
    "# build and train model using the most successful hyperparameters\n",
    "dt_reg = DecisionTreeRegressor(\n",
    "    criterion=hyperparameters_df.loc[0, 'criterion'],\n",
    "    splitter=hyperparameters_df.loc[0, 'splitter']\n",
    ")\n",
    "dt_reg.fit(X_train, y_train)\n",
    "\n",
    "# make predictions\n",
    "y_test_pred = dt_reg.predict(X_test)\n",
    "\n",
    "# evaluate predictions\n",
    "r_squared = r2_score(y_test, y_test_pred)\n",
    "rmse = mean_squared_error(y_test, y_test_pred) ** 0.5\n",
    "\n",
    "print(f'R^2:\\t{r_squared}')\n",
    "print(f'RMSE:\\t{rmse}')"
   ]
  },
  {
   "cell_type": "code",
   "execution_count": null,
   "id": "1e8d9e29",
   "metadata": {},
   "outputs": [],
   "source": []
  }
 ],
 "metadata": {
  "kernelspec": {
   "display_name": "Python 3 (ipykernel)",
   "language": "python",
   "name": "python3"
  },
  "language_info": {
   "codemirror_mode": {
    "name": "ipython",
    "version": 3
   },
   "file_extension": ".py",
   "mimetype": "text/x-python",
   "name": "python",
   "nbconvert_exporter": "python",
   "pygments_lexer": "ipython3",
   "version": "3.9.12"
  }
 },
 "nbformat": 4,
 "nbformat_minor": 5
}
