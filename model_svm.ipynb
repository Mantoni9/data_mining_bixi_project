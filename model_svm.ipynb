{
 "cells": [
  {
   "cell_type": "markdown",
   "id": "2d13a369-99c5-4ab2-b8ab-b9bc4d58560b",
   "metadata": {},
   "source": [
    "# Model Template"
   ]
  },
  {
   "cell_type": "code",
   "execution_count": 1,
   "id": "370a2501-42c3-488b-9f8f-0f7baf8c8dac",
   "metadata": {},
   "outputs": [
    {
     "name": "stderr",
     "output_type": "stream",
     "text": [
      "c:\\anaconda\\envs\\data-mining-bixi\\lib\\site-packages\\tqdm\\auto.py:22: TqdmWarning: IProgress not found. Please update jupyter and ipywidgets. See https://ipywidgets.readthedocs.io/en/stable/user_install.html\n",
      "  from .autonotebook import tqdm as notebook_tqdm\n"
     ]
    }
   ],
   "source": [
    "# import necessary packages\n",
    "\n",
    "import pandas as pd\n",
    "import optuna\n",
    "from sklearn.model_selection import train_test_split\n",
    "from sklearn.metrics import r2_score, mean_squared_error\n",
    "# TODO: modell mit eurem ersetzen\n",
    "from sklearn.svm import SVR\n",
    "from sklearn.preprocessing import StandardScaler, MinMaxScaler\n",
    "import matplotlib.pyplot as plt\n",
    "\n",
    "# Empfohlen von sklearn als Alternative zu SVR, da besser skalierbar auf größere Datensätze\n",
    "from sklearn.svm import LinearSVR\n",
    "# from sklearn.linear_model import SGDRegressor"
   ]
  },
  {
   "cell_type": "code",
   "execution_count": 2,
   "id": "851d13cc-d1db-48f1-aa8e-af9ffa985376",
   "metadata": {},
   "outputs": [],
   "source": [
    "# read data\n",
    "\n",
    "train_df = pd.read_csv('data/preprocessed_data/train.csv')\n",
    "val_df = pd.read_csv('data/preprocessed_data/validation.csv')\n",
    "test_df = pd.read_csv('data/preprocessed_data/test.csv')\n",
    "corona_df = pd.read_csv('data/preprocessed_data/corona.csv')"
   ]
  },
  {
   "cell_type": "code",
   "execution_count": 60,
   "id": "c54807d5",
   "metadata": {},
   "outputs": [
    {
     "name": "stdout",
     "output_type": "stream",
     "text": [
      "False\n"
     ]
    }
   ],
   "source": [
    "print(0 in train_df[\"elevation_meters\"].values)"
   ]
  },
  {
   "cell_type": "code",
   "execution_count": 61,
   "id": "303ce704",
   "metadata": {},
   "outputs": [
    {
     "name": "stdout",
     "output_type": "stream",
     "text": [
      "False\n"
     ]
    }
   ],
   "source": [
    "print(0 in train_df[\"density\"].values)"
   ]
  },
  {
   "cell_type": "code",
   "execution_count": 62,
   "id": "377a9e95",
   "metadata": {},
   "outputs": [
    {
     "data": {
      "text/plain": [
       "<AxesSubplot:>"
      ]
     },
     "execution_count": 62,
     "metadata": {},
     "output_type": "execute_result"
    },
    {
     "data": {
      "image/png": "[encoded data removed]",
      "text/plain": [
       "<Figure size 640x480 with 1 Axes>"
      ]
     },
     "metadata": {},
     "output_type": "display_data"
    }
   ],
   "source": [
    "train_df[\"total_precipitation\"].plot()"
   ]
  },
  {
   "cell_type": "code",
   "execution_count": 63,
   "id": "49d09b66",
   "metadata": {},
   "outputs": [],
   "source": [
    "# drop start date for regression (is represented as month, day, pm) \n",
    "# train_df = train_df.drop(columns='start_date')\n",
    "# test_df = test_df.drop(columns='start_date')\n",
    "\n",
    "# drop null values\n",
    "# train_df = train_df.dropna()\n",
    "# val_df = val_df.dropna()\n",
    "# test_df = test_df.dropna()"
   ]
  },
  {
   "cell_type": "code",
   "execution_count": 64,
   "id": "0fdce9f2",
   "metadata": {},
   "outputs": [],
   "source": [
    "# scaler = StandardScaler()\n",
    "\n",
    "# train_df = scaler.fit_transform(train_df) \n",
    "# val_df = scaler.fit_transform(val_df) \n",
    "# test_df = scaler.fit_transform(test_df)"
   ]
  },
  {
   "cell_type": "code",
   "execution_count": 65,
   "id": "c319119a",
   "metadata": {},
   "outputs": [
    {
     "data": {
      "text/plain": [
       "latitude               0\n",
       "longitude              0\n",
       "distance_to_center     0\n",
       "year                   0\n",
       "month                  0\n",
       "weekday                0\n",
       "pm                     0\n",
       "holiday                0\n",
       "mean_temperature       0\n",
       "total_precipitation    0\n",
       "stations_count         0\n",
       "elevation_meters       0\n",
       "density                0\n",
       "count                  0\n",
       "dtype: int64"
      ]
     },
     "execution_count": 65,
     "metadata": {},
     "output_type": "execute_result"
    }
   ],
   "source": [
    "train_df.isna().sum()"
   ]
  },
  {
   "cell_type": "code",
   "execution_count": 3,
   "id": "c69e98f4-0254-418a-9214-deea6d4bad7f",
   "metadata": {},
   "outputs": [],
   "source": [
    "# split data\n",
    "\n",
    "X_train = train_df.drop(columns='count')\n",
    "y_train = train_df['count']\n",
    "\n",
    "X_val = val_df.drop(columns='count')\n",
    "y_val = val_df['count']\n",
    "\n",
    "X_test = test_df.drop(columns='count')\n",
    "y_test = test_df['count']\n",
    "\n",
    "X_corona = corona_df.drop(columns='count')\n",
    "y_corona = corona_df['count']"
   ]
  },
  {
   "cell_type": "markdown",
   "id": "2612aa94",
   "metadata": {},
   "source": [
    "## Support Vector Regression"
   ]
  },
  {
   "cell_type": "code",
   "execution_count": 68,
   "id": "4d1a4193-d276-4a7a-9c73-1232ec73dd6d",
   "metadata": {
    "collapsed": true,
    "jupyter": {
     "outputs_hidden": true
    },
    "tags": []
   },
   "outputs": [],
   "source": [
    "# # hyperparameter tuning\n",
    "\n",
    "# try:\n",
    "#     # TODO: file-name ersetzen (in diesem File werden die Ergebnisse des Hyperparameter Tuning gespeichert)\n",
    "#     hyperparameters_df = pd.read_csv('data/hyperparameter_tuning/SVR.csv')\n",
    "    \n",
    "# except FileNotFoundError:\n",
    "    \n",
    "#     # df containing hyperparameters and evaluation metrics of each run\n",
    "#     hyperparameters_df = pd.DataFrame()\n",
    "    \n",
    "#     # this function is used by optuna to tune the hyperparameters\n",
    "#     def objective(trial):\n",
    "#         # TODO: die Hyperparameter mit denen eures Modells ersetzen\n",
    "#         # - integers: trial.suggest_int(name, low, high)\n",
    "#         # - floats: trial.suggest_int(name, low, high)\n",
    "#         # - kategorisch: trial.suggest_categorical(name, choices)\n",
    "#         # (https://optuna.readthedocs.io/en/v2.0.0/reference/generated/optuna.trial.Trial.html)\n",
    "#         # define hyperparameters\n",
    "#         kernel = trial.suggest_categorical('kernel', ['poly', 'rbf'])\n",
    "#         gamma = trial.suggest_categorical('gamma', ['scale', 'auto'])\n",
    "#         c_regularizaion = trial.suggest_float('C', 1, 100)\n",
    "        \n",
    "#         # TODO: mit eurem Modell ersetzen\n",
    "#         # setup and train model\n",
    "#         SVR_reg = SVR(\n",
    "#             kernel=kernel,\n",
    "#             gamma=gamma,\n",
    "#             C=c_regularizaion\n",
    "#         )\n",
    "#         SVR_reg.fit(X_train, y_train)\n",
    "        \n",
    "#         # make predictions\n",
    "#         y_val_pred = SVR_reg.predict(X_val)\n",
    "        \n",
    "#         # evaluate predictions\n",
    "#         r_squared = r2_score(y_val, y_val_pred)\n",
    "#         rmse = mean_squared_error(y_val, y_val_pred) ** 0.5\n",
    "        \n",
    "#         # TODO: mit euren Hyperparametern ersetzen\n",
    "#         # insert results in dataframe\n",
    "#         global hyperparameters_df\n",
    "#         hyperparameters_df = hyperparameters_df.append(\n",
    "#             {'kernel': kernel,\n",
    "#              'gamma': gamma,\n",
    "#              'C': c_regularizaion,\n",
    "#              'r_squared': r_squared,\n",
    "#              'rmse': rmse},\n",
    "#             ignore_index=True\n",
    "#         )\n",
    "        \n",
    "#         # return rmse -> optuna will optimize rmse\n",
    "#         return rmse\n",
    "        \n",
    "        \n",
    "#     study = optuna.create_study()\n",
    "#     # start optimization\n",
    "#     study.optimize(objective, n_trials=25)\n",
    "    \n",
    "#     # TODO: evtl. müsst ihr auch noch mal die Datentypen anpassen\n",
    "#     # convert to correct data types\n",
    "#     # hyperparameters_df[['n_estimators', 'max_depth']] = hyperparameters_df[['n_estimators', 'max_depth']].astype('int')\n",
    "    \n",
    "#     # sort hyperparameter tuning results and save file\n",
    "#     hyperparameters_df = hyperparameters_df.sort_values('rmse', ascending=True)\n",
    "#     hyperparameters_df = hyperparameters_df.reset_index(drop=True)\n",
    "#     hyperparameters_df.to_csv('data/hyperparameter_tuning/SVR.csv', index=False)"
   ]
  },
  {
   "cell_type": "code",
   "execution_count": 69,
   "id": "b1604c78-99a2-4ada-b6c2-3d46eadb92ac",
   "metadata": {},
   "outputs": [],
   "source": [
    "# hyperparameters_df.head()"
   ]
  },
  {
   "cell_type": "code",
   "execution_count": 70,
   "id": "00be0ae7-5b16-49fd-be21-c212ae88169a",
   "metadata": {},
   "outputs": [],
   "source": [
    "# # final model evaluation\n",
    "\n",
    "# # TODO: mit eurem Modell und Hyperparametern ersetzen\n",
    "# # build and train model using the most successful hyperparameters\n",
    "# SVR_reg = SVR()\n",
    "# SVR_reg.fit(X_train, y_train)\n",
    "\n",
    "# # make predictions\n",
    "# y_test_pred = SVR_reg.predict(X_test)\n",
    "\n",
    "# # evaluate predictions\n",
    "# r_squared = r2_score(y_test, y_test_pred)\n",
    "# rmse = mean_squared_error(y_test, y_test_pred) ** 0.5\n",
    "\n",
    "# print(f'R^2:\\t{r_squared}')\n",
    "# print(f'RMSE:\\t{rmse}')"
   ]
  },
  {
   "cell_type": "markdown",
   "id": "e528a22b",
   "metadata": {},
   "source": [
    "# LinearSVR"
   ]
  },
  {
   "cell_type": "code",
   "execution_count": 4,
   "id": "f1622d1f",
   "metadata": {},
   "outputs": [
    {
     "name": "stderr",
     "output_type": "stream",
     "text": [
      "\u001b[32m[I 2022-11-24 16:00:35,087]\u001b[0m A new study created in memory with name: no-name-5b7668dc-d3fb-46e0-93c8-4c90d8ff8326\u001b[0m\n",
      "C:\\Users\\NicoDöring\\AppData\\Local\\Temp\\ipykernel_6108\\3349086273.py:44: FutureWarning: The frame.append method is deprecated and will be removed from pandas in a future version. Use pandas.concat instead.\n",
      "  hyperparameters_df = hyperparameters_df.append(\n",
      "\u001b[32m[I 2022-11-24 16:00:57,397]\u001b[0m Trial 0 finished with value: 22.889541069527812 and parameters: {'epsilon': 0.6000000000000001, 'loss': 'epsilon_insensitive', 'C': 20.632771245517755}. Best is trial 0 with value: 22.889541069527812.\u001b[0m\n",
      "c:\\anaconda\\envs\\data-mining-bixi\\lib\\site-packages\\sklearn\\svm\\_base.py:1225: ConvergenceWarning: Liblinear failed to converge, increase the number of iterations.\n",
      "  warnings.warn(\n",
      "C:\\Users\\NicoDöring\\AppData\\Local\\Temp\\ipykernel_6108\\3349086273.py:44: FutureWarning: The frame.append method is deprecated and will be removed from pandas in a future version. Use pandas.concat instead.\n",
      "  hyperparameters_df = hyperparameters_df.append(\n",
      "\u001b[32m[I 2022-11-24 16:05:12,962]\u001b[0m Trial 1 finished with value: 21.543893803394543 and parameters: {'epsilon': 0.8, 'loss': 'squared_epsilon_insensitive', 'C': 95.46158513944854}. Best is trial 1 with value: 21.543893803394543.\u001b[0m\n",
      "c:\\anaconda\\envs\\data-mining-bixi\\lib\\site-packages\\sklearn\\svm\\_base.py:1225: ConvergenceWarning: Liblinear failed to converge, increase the number of iterations.\n",
      "  warnings.warn(\n",
      "C:\\Users\\NicoDöring\\AppData\\Local\\Temp\\ipykernel_6108\\3349086273.py:44: FutureWarning: The frame.append method is deprecated and will be removed from pandas in a future version. Use pandas.concat instead.\n",
      "  hyperparameters_df = hyperparameters_df.append(\n",
      "\u001b[32m[I 2022-11-24 16:09:23,469]\u001b[0m Trial 2 finished with value: 21.410357722816844 and parameters: {'epsilon': 1.0, 'loss': 'squared_epsilon_insensitive', 'C': 62.31467654076403}. Best is trial 2 with value: 21.410357722816844.\u001b[0m\n",
      "c:\\anaconda\\envs\\data-mining-bixi\\lib\\site-packages\\sklearn\\svm\\_base.py:1225: ConvergenceWarning: Liblinear failed to converge, increase the number of iterations.\n",
      "  warnings.warn(\n",
      "C:\\Users\\NicoDöring\\AppData\\Local\\Temp\\ipykernel_6108\\3349086273.py:44: FutureWarning: The frame.append method is deprecated and will be removed from pandas in a future version. Use pandas.concat instead.\n",
      "  hyperparameters_df = hyperparameters_df.append(\n",
      "\u001b[32m[I 2022-11-24 16:13:34,444]\u001b[0m Trial 3 finished with value: 21.39141464252261 and parameters: {'epsilon': 0.4, 'loss': 'squared_epsilon_insensitive', 'C': 49.32499331421204}. Best is trial 3 with value: 21.39141464252261.\u001b[0m\n",
      "C:\\Users\\NicoDöring\\AppData\\Local\\Temp\\ipykernel_6108\\3349086273.py:44: FutureWarning: The frame.append method is deprecated and will be removed from pandas in a future version. Use pandas.concat instead.\n",
      "  hyperparameters_df = hyperparameters_df.append(\n",
      "\u001b[32m[I 2022-11-24 16:14:02,534]\u001b[0m Trial 4 finished with value: 22.82455668557717 and parameters: {'epsilon': 0.2, 'loss': 'epsilon_insensitive', 'C': 27.845294354699853}. Best is trial 3 with value: 21.39141464252261.\u001b[0m\n",
      "c:\\anaconda\\envs\\data-mining-bixi\\lib\\site-packages\\sklearn\\svm\\_base.py:1225: ConvergenceWarning: Liblinear failed to converge, increase the number of iterations.\n",
      "  warnings.warn(\n",
      "C:\\Users\\NicoDöring\\AppData\\Local\\Temp\\ipykernel_6108\\3349086273.py:44: FutureWarning: The frame.append method is deprecated and will be removed from pandas in a future version. Use pandas.concat instead.\n",
      "  hyperparameters_df = hyperparameters_df.append(\n",
      "\u001b[32m[I 2022-11-24 16:18:11,062]\u001b[0m Trial 5 finished with value: 21.393883464756723 and parameters: {'epsilon': 0.4, 'loss': 'squared_epsilon_insensitive', 'C': 51.66895982875688}. Best is trial 3 with value: 21.39141464252261.\u001b[0m\n",
      "c:\\anaconda\\envs\\data-mining-bixi\\lib\\site-packages\\sklearn\\svm\\_base.py:1225: ConvergenceWarning: Liblinear failed to converge, increase the number of iterations.\n",
      "  warnings.warn(\n",
      "C:\\Users\\NicoDöring\\AppData\\Local\\Temp\\ipykernel_6108\\3349086273.py:44: FutureWarning: The frame.append method is deprecated and will be removed from pandas in a future version. Use pandas.concat instead.\n",
      "  hyperparameters_df = hyperparameters_df.append(\n",
      "\u001b[32m[I 2022-11-24 16:22:17,969]\u001b[0m Trial 6 finished with value: 21.408079763720735 and parameters: {'epsilon': 0.2, 'loss': 'squared_epsilon_insensitive', 'C': 59.23616571292691}. Best is trial 3 with value: 21.39141464252261.\u001b[0m\n",
      "c:\\anaconda\\envs\\data-mining-bixi\\lib\\site-packages\\sklearn\\svm\\_base.py:1225: ConvergenceWarning: Liblinear failed to converge, increase the number of iterations.\n",
      "  warnings.warn(\n",
      "C:\\Users\\NicoDöring\\AppData\\Local\\Temp\\ipykernel_6108\\3349086273.py:44: FutureWarning: The frame.append method is deprecated and will be removed from pandas in a future version. Use pandas.concat instead.\n",
      "  hyperparameters_df = hyperparameters_df.append(\n",
      "\u001b[32m[I 2022-11-24 16:23:23,801]\u001b[0m Trial 7 finished with value: 22.85263584591959 and parameters: {'epsilon': 0.4, 'loss': 'epsilon_insensitive', 'C': 86.95786454889081}. Best is trial 3 with value: 21.39141464252261.\u001b[0m\n",
      "c:\\anaconda\\envs\\data-mining-bixi\\lib\\site-packages\\sklearn\\svm\\_base.py:1225: ConvergenceWarning: Liblinear failed to converge, increase the number of iterations.\n",
      "  warnings.warn(\n",
      "C:\\Users\\NicoDöring\\AppData\\Local\\Temp\\ipykernel_6108\\3349086273.py:44: FutureWarning: The frame.append method is deprecated and will be removed from pandas in a future version. Use pandas.concat instead.\n",
      "  hyperparameters_df = hyperparameters_df.append(\n",
      "\u001b[32m[I 2022-11-24 16:24:31,600]\u001b[0m Trial 8 finished with value: 22.94381175364825 and parameters: {'epsilon': 0.4, 'loss': 'epsilon_insensitive', 'C': 92.92102857082217}. Best is trial 3 with value: 21.39141464252261.\u001b[0m\n",
      "c:\\anaconda\\envs\\data-mining-bixi\\lib\\site-packages\\sklearn\\svm\\_base.py:1225: ConvergenceWarning: Liblinear failed to converge, increase the number of iterations.\n",
      "  warnings.warn(\n",
      "C:\\Users\\NicoDöring\\AppData\\Local\\Temp\\ipykernel_6108\\3349086273.py:44: FutureWarning: The frame.append method is deprecated and will be removed from pandas in a future version. Use pandas.concat instead.\n",
      "  hyperparameters_df = hyperparameters_df.append(\n",
      "\u001b[32m[I 2022-11-24 16:28:42,799]\u001b[0m Trial 9 finished with value: 21.49321670025248 and parameters: {'epsilon': 1.0, 'loss': 'squared_epsilon_insensitive', 'C': 85.94092871435178}. Best is trial 3 with value: 21.39141464252261.\u001b[0m\n",
      "C:\\Users\\NicoDöring\\AppData\\Local\\Temp\\ipykernel_6108\\3349086273.py:44: FutureWarning: The frame.append method is deprecated and will be removed from pandas in a future version. Use pandas.concat instead.\n",
      "  hyperparameters_df = hyperparameters_df.append(\n",
      "\u001b[32m[I 2022-11-24 16:29:31,384]\u001b[0m Trial 10 finished with value: 21.39959227176813 and parameters: {'epsilon': 0.0, 'loss': 'squared_epsilon_insensitive', 'C': 1.7048289558537348}. Best is trial 3 with value: 21.39141464252261.\u001b[0m\n",
      "c:\\anaconda\\envs\\data-mining-bixi\\lib\\site-packages\\sklearn\\svm\\_base.py:1225: ConvergenceWarning: Liblinear failed to converge, increase the number of iterations.\n",
      "  warnings.warn(\n",
      "C:\\Users\\NicoDöring\\AppData\\Local\\Temp\\ipykernel_6108\\3349086273.py:44: FutureWarning: The frame.append method is deprecated and will be removed from pandas in a future version. Use pandas.concat instead.\n",
      "  hyperparameters_df = hyperparameters_df.append(\n",
      "\u001b[32m[I 2022-11-24 16:33:41,661]\u001b[0m Trial 11 finished with value: 21.386705878054624 and parameters: {'epsilon': 0.6000000000000001, 'loss': 'squared_epsilon_insensitive', 'C': 41.965299732253435}. Best is trial 11 with value: 21.386705878054624.\u001b[0m\n",
      "c:\\anaconda\\envs\\data-mining-bixi\\lib\\site-packages\\sklearn\\svm\\_base.py:1225: ConvergenceWarning: Liblinear failed to converge, increase the number of iterations.\n",
      "  warnings.warn(\n",
      "C:\\Users\\NicoDöring\\AppData\\Local\\Temp\\ipykernel_6108\\3349086273.py:44: FutureWarning: The frame.append method is deprecated and will be removed from pandas in a future version. Use pandas.concat instead.\n",
      "  hyperparameters_df = hyperparameters_df.append(\n",
      "\u001b[32m[I 2022-11-24 16:37:55,654]\u001b[0m Trial 12 finished with value: 21.38662933116225 and parameters: {'epsilon': 0.7000000000000001, 'loss': 'squared_epsilon_insensitive', 'C': 33.75557920716386}. Best is trial 12 with value: 21.38662933116225.\u001b[0m\n",
      "c:\\anaconda\\envs\\data-mining-bixi\\lib\\site-packages\\sklearn\\svm\\_base.py:1225: ConvergenceWarning: Liblinear failed to converge, increase the number of iterations.\n",
      "  warnings.warn(\n",
      "C:\\Users\\NicoDöring\\AppData\\Local\\Temp\\ipykernel_6108\\3349086273.py:44: FutureWarning: The frame.append method is deprecated and will be removed from pandas in a future version. Use pandas.concat instead.\n",
      "  hyperparameters_df = hyperparameters_df.append(\n",
      "\u001b[32m[I 2022-11-24 16:42:37,812]\u001b[0m Trial 13 finished with value: 21.38658789095041 and parameters: {'epsilon': 0.7000000000000001, 'loss': 'squared_epsilon_insensitive', 'C': 34.607875469979916}. Best is trial 13 with value: 21.38658789095041.\u001b[0m\n",
      "c:\\anaconda\\envs\\data-mining-bixi\\lib\\site-packages\\sklearn\\svm\\_base.py:1225: ConvergenceWarning: Liblinear failed to converge, increase the number of iterations.\n",
      "  warnings.warn(\n",
      "C:\\Users\\NicoDöring\\AppData\\Local\\Temp\\ipykernel_6108\\3349086273.py:44: FutureWarning: The frame.append method is deprecated and will be removed from pandas in a future version. Use pandas.concat instead.\n",
      "  hyperparameters_df = hyperparameters_df.append(\n",
      "\u001b[32m[I 2022-11-24 16:47:26,769]\u001b[0m Trial 14 finished with value: 21.38728157669253 and parameters: {'epsilon': 0.8, 'loss': 'squared_epsilon_insensitive', 'C': 30.607300565222257}. Best is trial 13 with value: 21.38658789095041.\u001b[0m\n",
      "c:\\anaconda\\envs\\data-mining-bixi\\lib\\site-packages\\sklearn\\svm\\_base.py:1225: ConvergenceWarning: Liblinear failed to converge, increase the number of iterations.\n",
      "  warnings.warn(\n",
      "C:\\Users\\NicoDöring\\AppData\\Local\\Temp\\ipykernel_6108\\3349086273.py:44: FutureWarning: The frame.append method is deprecated and will be removed from pandas in a future version. Use pandas.concat instead.\n",
      "  hyperparameters_df = hyperparameters_df.append(\n",
      "\u001b[32m[I 2022-11-24 16:52:13,645]\u001b[0m Trial 15 finished with value: 21.395024176623494 and parameters: {'epsilon': 0.8, 'loss': 'squared_epsilon_insensitive', 'C': 9.622354874917633}. Best is trial 13 with value: 21.38658789095041.\u001b[0m\n",
      "c:\\anaconda\\envs\\data-mining-bixi\\lib\\site-packages\\sklearn\\svm\\_base.py:1225: ConvergenceWarning: Liblinear failed to converge, increase the number of iterations.\n",
      "  warnings.warn(\n",
      "C:\\Users\\NicoDöring\\AppData\\Local\\Temp\\ipykernel_6108\\3349086273.py:44: FutureWarning: The frame.append method is deprecated and will be removed from pandas in a future version. Use pandas.concat instead.\n",
      "  hyperparameters_df = hyperparameters_df.append(\n",
      "\u001b[32m[I 2022-11-24 16:57:01,230]\u001b[0m Trial 16 finished with value: 21.44573109201724 and parameters: {'epsilon': 0.7000000000000001, 'loss': 'squared_epsilon_insensitive', 'C': 73.14491649947851}. Best is trial 13 with value: 21.38658789095041.\u001b[0m\n",
      "c:\\anaconda\\envs\\data-mining-bixi\\lib\\site-packages\\sklearn\\svm\\_base.py:1225: ConvergenceWarning: Liblinear failed to converge, increase the number of iterations.\n",
      "  warnings.warn(\n",
      "C:\\Users\\NicoDöring\\AppData\\Local\\Temp\\ipykernel_6108\\3349086273.py:44: FutureWarning: The frame.append method is deprecated and will be removed from pandas in a future version. Use pandas.concat instead.\n",
      "  hyperparameters_df = hyperparameters_df.append(\n",
      "\u001b[32m[I 2022-11-24 17:01:47,643]\u001b[0m Trial 17 finished with value: 21.38533075127052 and parameters: {'epsilon': 0.9, 'loss': 'squared_epsilon_insensitive', 'C': 34.49866236746338}. Best is trial 17 with value: 21.38533075127052.\u001b[0m\n",
      "C:\\Users\\NicoDöring\\AppData\\Local\\Temp\\ipykernel_6108\\3349086273.py:44: FutureWarning: The frame.append method is deprecated and will be removed from pandas in a future version. Use pandas.concat instead.\n",
      "  hyperparameters_df = hyperparameters_df.append(\n",
      "\u001b[32m[I 2022-11-24 17:02:16,701]\u001b[0m Trial 18 finished with value: 22.853841134433463 and parameters: {'epsilon': 0.9, 'loss': 'epsilon_insensitive', 'C': 21.52266841773411}. Best is trial 17 with value: 21.38533075127052.\u001b[0m\n",
      "c:\\anaconda\\envs\\data-mining-bixi\\lib\\site-packages\\sklearn\\svm\\_base.py:1225: ConvergenceWarning: Liblinear failed to converge, increase the number of iterations.\n",
      "  warnings.warn(\n",
      "C:\\Users\\NicoDöring\\AppData\\Local\\Temp\\ipykernel_6108\\3349086273.py:44: FutureWarning: The frame.append method is deprecated and will be removed from pandas in a future version. Use pandas.concat instead.\n",
      "  hyperparameters_df = hyperparameters_df.append(\n",
      "\u001b[32m[I 2022-11-24 17:07:04,769]\u001b[0m Trial 19 finished with value: 21.385714443818564 and parameters: {'epsilon': 0.9, 'loss': 'squared_epsilon_insensitive', 'C': 43.628998054396504}. Best is trial 17 with value: 21.38533075127052.\u001b[0m\n",
      "c:\\anaconda\\envs\\data-mining-bixi\\lib\\site-packages\\sklearn\\svm\\_base.py:1225: ConvergenceWarning: Liblinear failed to converge, increase the number of iterations.\n",
      "  warnings.warn(\n",
      "C:\\Users\\NicoDöring\\AppData\\Local\\Temp\\ipykernel_6108\\3349086273.py:44: FutureWarning: The frame.append method is deprecated and will be removed from pandas in a future version. Use pandas.concat instead.\n",
      "  hyperparameters_df = hyperparameters_df.append(\n",
      "\u001b[32m[I 2022-11-24 17:11:52,401]\u001b[0m Trial 20 finished with value: 21.43704652813411 and parameters: {'epsilon': 0.9, 'loss': 'squared_epsilon_insensitive', 'C': 71.31897697387633}. Best is trial 17 with value: 21.38533075127052.\u001b[0m\n",
      "c:\\anaconda\\envs\\data-mining-bixi\\lib\\site-packages\\sklearn\\svm\\_base.py:1225: ConvergenceWarning: Liblinear failed to converge, increase the number of iterations.\n",
      "  warnings.warn(\n",
      "C:\\Users\\NicoDöring\\AppData\\Local\\Temp\\ipykernel_6108\\3349086273.py:44: FutureWarning: The frame.append method is deprecated and will be removed from pandas in a future version. Use pandas.concat instead.\n",
      "  hyperparameters_df = hyperparameters_df.append(\n",
      "\u001b[32m[I 2022-11-24 17:16:41,144]\u001b[0m Trial 21 finished with value: 21.385113483715116 and parameters: {'epsilon': 0.9, 'loss': 'squared_epsilon_insensitive', 'C': 40.77727274972085}. Best is trial 21 with value: 21.385113483715116.\u001b[0m\n",
      "c:\\anaconda\\envs\\data-mining-bixi\\lib\\site-packages\\sklearn\\svm\\_base.py:1225: ConvergenceWarning: Liblinear failed to converge, increase the number of iterations.\n",
      "  warnings.warn(\n",
      "C:\\Users\\NicoDöring\\AppData\\Local\\Temp\\ipykernel_6108\\3349086273.py:44: FutureWarning: The frame.append method is deprecated and will be removed from pandas in a future version. Use pandas.concat instead.\n",
      "  hyperparameters_df = hyperparameters_df.append(\n",
      "\u001b[32m[I 2022-11-24 17:21:28,753]\u001b[0m Trial 22 finished with value: 21.385279801958312 and parameters: {'epsilon': 0.9, 'loss': 'squared_epsilon_insensitive', 'C': 41.81219753281518}. Best is trial 21 with value: 21.385113483715116.\u001b[0m\n",
      "c:\\anaconda\\envs\\data-mining-bixi\\lib\\site-packages\\sklearn\\svm\\_base.py:1225: ConvergenceWarning: Liblinear failed to converge, increase the number of iterations.\n",
      "  warnings.warn(\n",
      "C:\\Users\\NicoDöring\\AppData\\Local\\Temp\\ipykernel_6108\\3349086273.py:44: FutureWarning: The frame.append method is deprecated and will be removed from pandas in a future version. Use pandas.concat instead.\n",
      "  hyperparameters_df = hyperparameters_df.append(\n",
      "\u001b[32m[I 2022-11-24 17:26:16,000]\u001b[0m Trial 23 finished with value: 21.384576498579595 and parameters: {'epsilon': 1.0, 'loss': 'squared_epsilon_insensitive', 'C': 42.78010397066625}. Best is trial 23 with value: 21.384576498579595.\u001b[0m\n",
      "c:\\anaconda\\envs\\data-mining-bixi\\lib\\site-packages\\sklearn\\svm\\_base.py:1225: ConvergenceWarning: Liblinear failed to converge, increase the number of iterations.\n",
      "  warnings.warn(\n",
      "C:\\Users\\NicoDöring\\AppData\\Local\\Temp\\ipykernel_6108\\3349086273.py:44: FutureWarning: The frame.append method is deprecated and will be removed from pandas in a future version. Use pandas.concat instead.\n",
      "  hyperparameters_df = hyperparameters_df.append(\n",
      "\u001b[32m[I 2022-11-24 17:31:06,903]\u001b[0m Trial 24 finished with value: 21.398522738915155 and parameters: {'epsilon': 1.0, 'loss': 'squared_epsilon_insensitive', 'C': 56.38212979988469}. Best is trial 23 with value: 21.384576498579595.\u001b[0m\n"
     ]
    }
   ],
   "source": [
    "# hyperparameter tuning\n",
    "\n",
    "try:\n",
    "    # TODO: file-name ersetzen (in diesem File werden die Ergebnisse des Hyperparameter Tuning gespeichert)\n",
    "    hyperparameters_df = pd.read_csv('data/hyperparameter_tuning/linearSVR.csv')\n",
    "    \n",
    "except FileNotFoundError:\n",
    "    \n",
    "    # df containing hyperparameters and evaluation metrics of each run\n",
    "    hyperparameters_df = pd.DataFrame()\n",
    "    \n",
    "    # this function is used by optuna to tune the hyperparameters\n",
    "    def objective(trial):\n",
    "        # TODO: die Hyperparameter mit denen eures Modells ersetzen\n",
    "        # - integers: trial.suggest_int(name, low, high)\n",
    "        # - floats: trial.suggest_int(name, low, high)\n",
    "        # - kategorisch: trial.suggest_categorical(name, choices)\n",
    "        # (https://optuna.readthedocs.io/en/v2.0.0/reference/generated/optuna.trial.Trial.html)\n",
    "        # define hyperparameters\n",
    "        epsilon = trial.suggest_float('epsilon', 0, 1, step=0.1)\n",
    "        loss = trial.suggest_categorical('loss', ['epsilon_insensitive', 'squared_epsilon_insensitive'])\n",
    "        c_regularizaion = trial.suggest_float('C', 1, 100)\n",
    "        \n",
    "        # TODO: mit eurem Modell ersetzen\n",
    "        # setup and train model\n",
    "        LinearSVR_reg = LinearSVR(\n",
    "            epsilon=epsilon,\n",
    "            loss=loss,\n",
    "            C=c_regularizaion,\n",
    "            random_state=1\n",
    "        )\n",
    "        LinearSVR_reg.fit(X_train, y_train)\n",
    "        \n",
    "        # make predictions\n",
    "        y_val_pred = LinearSVR_reg.predict(X_val)\n",
    "        \n",
    "        # evaluate predictions\n",
    "        r_squared = r2_score(y_val, y_val_pred)\n",
    "        rmse = mean_squared_error(y_val, y_val_pred) ** 0.5\n",
    "        \n",
    "        # TODO: mit euren Hyperparametern ersetzen\n",
    "        # insert results in dataframe\n",
    "        global hyperparameters_df\n",
    "        hyperparameters_df = hyperparameters_df.append(\n",
    "            { 'epsilon': epsilon,\n",
    "            'loss': loss,\n",
    "             'C': c_regularizaion,\n",
    "             'r_squared': r_squared,\n",
    "             'rmse': rmse},\n",
    "            ignore_index=True\n",
    "        )\n",
    "        \n",
    "        # return rmse -> optuna will optimize rmse\n",
    "        return rmse\n",
    "        \n",
    "        \n",
    "    study = optuna.create_study()\n",
    "    # start optimization\n",
    "    study.optimize(objective, n_trials=25)\n",
    "    \n",
    "    # TODO: evtl. müsst ihr auch noch mal die Datentypen anpassen\n",
    "    # convert to correct data types\n",
    "    hyperparameters_df['epsilon'] = hyperparameters_df['epsilon'].astype('float')\n",
    "    hyperparameters_df['C'] = hyperparameters_df['C'].astype('int')\n",
    "    \n",
    "    # sort hyperparameter tuning results and save file\n",
    "    hyperparameters_df = hyperparameters_df.sort_values('rmse', ascending=True)\n",
    "    hyperparameters_df = hyperparameters_df.reset_index(drop=True)\n",
    "    hyperparameters_df.to_csv('data/hyperparameter_tuning/linearSVR.csv', index=False)"
   ]
  },
  {
   "cell_type": "code",
   "execution_count": 5,
   "id": "607e8ce6",
   "metadata": {},
   "outputs": [
    {
     "data": {
      "text/html": [
       "<div>\n",
       "<style scoped>\n",
       "    .dataframe tbody tr th:only-of-type {\n",
       "        vertical-align: middle;\n",
       "    }\n",
       "\n",
       "    .dataframe tbody tr th {\n",
       "        vertical-align: top;\n",
       "    }\n",
       "\n",
       "    .dataframe thead th {\n",
       "        text-align: right;\n",
       "    }\n",
       "</style>\n",
       "<table border=\"1\" class=\"dataframe\">\n",
       "  <thead>\n",
       "    <tr style=\"text-align: right;\">\n",
       "      <th></th>\n",
       "      <th>epsilon</th>\n",
       "      <th>loss</th>\n",
       "      <th>C</th>\n",
       "      <th>r_squared</th>\n",
       "      <th>rmse</th>\n",
       "    </tr>\n",
       "  </thead>\n",
       "  <tbody>\n",
       "    <tr>\n",
       "      <th>0</th>\n",
       "      <td>1.0</td>\n",
       "      <td>squared_epsilon_insensitive</td>\n",
       "      <td>42</td>\n",
       "      <td>0.336076</td>\n",
       "      <td>21.384576</td>\n",
       "    </tr>\n",
       "    <tr>\n",
       "      <th>1</th>\n",
       "      <td>0.9</td>\n",
       "      <td>squared_epsilon_insensitive</td>\n",
       "      <td>40</td>\n",
       "      <td>0.336042</td>\n",
       "      <td>21.385113</td>\n",
       "    </tr>\n",
       "    <tr>\n",
       "      <th>2</th>\n",
       "      <td>0.9</td>\n",
       "      <td>squared_epsilon_insensitive</td>\n",
       "      <td>41</td>\n",
       "      <td>0.336032</td>\n",
       "      <td>21.385280</td>\n",
       "    </tr>\n",
       "    <tr>\n",
       "      <th>3</th>\n",
       "      <td>0.9</td>\n",
       "      <td>squared_epsilon_insensitive</td>\n",
       "      <td>34</td>\n",
       "      <td>0.336029</td>\n",
       "      <td>21.385331</td>\n",
       "    </tr>\n",
       "    <tr>\n",
       "      <th>4</th>\n",
       "      <td>0.9</td>\n",
       "      <td>squared_epsilon_insensitive</td>\n",
       "      <td>43</td>\n",
       "      <td>0.336005</td>\n",
       "      <td>21.385714</td>\n",
       "    </tr>\n",
       "  </tbody>\n",
       "</table>\n",
       "</div>"
      ],
      "text/plain": [
       "   epsilon                         loss   C  r_squared       rmse\n",
       "0      1.0  squared_epsilon_insensitive  42   0.336076  21.384576\n",
       "1      0.9  squared_epsilon_insensitive  40   0.336042  21.385113\n",
       "2      0.9  squared_epsilon_insensitive  41   0.336032  21.385280\n",
       "3      0.9  squared_epsilon_insensitive  34   0.336029  21.385331\n",
       "4      0.9  squared_epsilon_insensitive  43   0.336005  21.385714"
      ]
     },
     "execution_count": 5,
     "metadata": {},
     "output_type": "execute_result"
    }
   ],
   "source": [
    "hyperparameters_df.head()"
   ]
  },
  {
   "cell_type": "code",
   "execution_count": 6,
   "id": "3ac8df42",
   "metadata": {},
   "outputs": [
    {
     "name": "stdout",
     "output_type": "stream",
     "text": [
      "R^2:\t0.3308593802898566\n",
      "RMSE:\t21.75384603457775\n"
     ]
    },
    {
     "name": "stderr",
     "output_type": "stream",
     "text": [
      "c:\\anaconda\\envs\\data-mining-bixi\\lib\\site-packages\\sklearn\\svm\\_base.py:1225: ConvergenceWarning: Liblinear failed to converge, increase the number of iterations.\n",
      "  warnings.warn(\n"
     ]
    }
   ],
   "source": [
    "# final model evaluation\n",
    "\n",
    "# TODO: mit eurem Modell und Hyperparametern ersetzen\n",
    "# build and train model using the most successful hyperparameters\n",
    "LinearSVR_reg = LinearSVR(\n",
    "            epsilon=hyperparameters_df.loc[0, 'epsilon'],\n",
    "            loss=hyperparameters_df.loc[0, 'loss'],\n",
    "            C=hyperparameters_df.loc[0, 'C'],\n",
    "            random_state=1\n",
    ")\n",
    "\n",
    "LinearSVR_reg.fit(X_train, y_train)\n",
    "\n",
    "# make predictions\n",
    "y_test_pred = LinearSVR_reg.predict(X_test)\n",
    "\n",
    "# evaluate predictions\n",
    "r_squared = r2_score(y_test, y_test_pred)\n",
    "rmse = mean_squared_error(y_test, y_test_pred) ** 0.5\n",
    "\n",
    "print(f'R^2:\\t{r_squared}')\n",
    "print(f'RMSE:\\t{rmse}')"
   ]
  },
  {
   "cell_type": "code",
   "execution_count": 7,
   "id": "a252c4b9",
   "metadata": {},
   "outputs": [
    {
     "name": "stdout",
     "output_type": "stream",
     "text": [
      "R^2:\t-0.4073286278492132\n",
      "RMSE:\t18.571656317232446\n"
     ]
    }
   ],
   "source": [
    "# predictions on corona year 2020\n",
    "\n",
    "# make predictions\n",
    "y_corona_pred = LinearSVR_reg.predict(X_corona)\n",
    "\n",
    "# evaluate predictions\n",
    "r_squared_c = r2_score(y_corona, y_corona_pred)\n",
    "rmse_c = mean_squared_error(y_corona, y_corona_pred) ** 0.5\n",
    "\n",
    "print(f'R^2:\\t{r_squared_c}')\n",
    "print(f'RMSE:\\t{rmse_c}')"
   ]
  },
  {
   "cell_type": "code",
   "execution_count": 74,
   "id": "303df955",
   "metadata": {},
   "outputs": [],
   "source": [
    "# from sklearn.feature_selection import RFECV"
   ]
  },
  {
   "cell_type": "code",
   "execution_count": 75,
   "id": "81dbeca4",
   "metadata": {},
   "outputs": [
    {
     "name": "stderr",
     "output_type": "stream",
     "text": [
      "c:\\anaconda\\envs\\data-mining-bixi\\lib\\site-packages\\sklearn\\svm\\_base.py:1225: ConvergenceWarning: Liblinear failed to converge, increase the number of iterations.\n",
      "  warnings.warn(\n",
      "c:\\anaconda\\envs\\data-mining-bixi\\lib\\site-packages\\sklearn\\svm\\_base.py:1225: ConvergenceWarning: Liblinear failed to converge, increase the number of iterations.\n",
      "  warnings.warn(\n",
      "c:\\anaconda\\envs\\data-mining-bixi\\lib\\site-packages\\sklearn\\svm\\_base.py:1225: ConvergenceWarning: Liblinear failed to converge, increase the number of iterations.\n",
      "  warnings.warn(\n",
      "c:\\anaconda\\envs\\data-mining-bixi\\lib\\site-packages\\sklearn\\svm\\_base.py:1225: ConvergenceWarning: Liblinear failed to converge, increase the number of iterations.\n",
      "  warnings.warn(\n",
      "c:\\anaconda\\envs\\data-mining-bixi\\lib\\site-packages\\sklearn\\svm\\_base.py:1225: ConvergenceWarning: Liblinear failed to converge, increase the number of iterations.\n",
      "  warnings.warn(\n",
      "c:\\anaconda\\envs\\data-mining-bixi\\lib\\site-packages\\sklearn\\svm\\_base.py:1225: ConvergenceWarning: Liblinear failed to converge, increase the number of iterations.\n",
      "  warnings.warn(\n",
      "c:\\anaconda\\envs\\data-mining-bixi\\lib\\site-packages\\sklearn\\svm\\_base.py:1225: ConvergenceWarning: Liblinear failed to converge, increase the number of iterations.\n",
      "  warnings.warn(\n",
      "c:\\anaconda\\envs\\data-mining-bixi\\lib\\site-packages\\sklearn\\svm\\_base.py:1225: ConvergenceWarning: Liblinear failed to converge, increase the number of iterations.\n",
      "  warnings.warn(\n",
      "c:\\anaconda\\envs\\data-mining-bixi\\lib\\site-packages\\sklearn\\svm\\_base.py:1225: ConvergenceWarning: Liblinear failed to converge, increase the number of iterations.\n",
      "  warnings.warn(\n",
      "c:\\anaconda\\envs\\data-mining-bixi\\lib\\site-packages\\sklearn\\svm\\_base.py:1225: ConvergenceWarning: Liblinear failed to converge, increase the number of iterations.\n",
      "  warnings.warn(\n",
      "c:\\anaconda\\envs\\data-mining-bixi\\lib\\site-packages\\sklearn\\svm\\_base.py:1225: ConvergenceWarning: Liblinear failed to converge, increase the number of iterations.\n",
      "  warnings.warn(\n",
      "c:\\anaconda\\envs\\data-mining-bixi\\lib\\site-packages\\sklearn\\svm\\_base.py:1225: ConvergenceWarning: Liblinear failed to converge, increase the number of iterations.\n",
      "  warnings.warn(\n",
      "c:\\anaconda\\envs\\data-mining-bixi\\lib\\site-packages\\sklearn\\svm\\_base.py:1225: ConvergenceWarning: Liblinear failed to converge, increase the number of iterations.\n",
      "  warnings.warn(\n",
      "c:\\anaconda\\envs\\data-mining-bixi\\lib\\site-packages\\sklearn\\svm\\_base.py:1225: ConvergenceWarning: Liblinear failed to converge, increase the number of iterations.\n",
      "  warnings.warn(\n",
      "c:\\anaconda\\envs\\data-mining-bixi\\lib\\site-packages\\sklearn\\svm\\_base.py:1225: ConvergenceWarning: Liblinear failed to converge, increase the number of iterations.\n",
      "  warnings.warn(\n",
      "c:\\anaconda\\envs\\data-mining-bixi\\lib\\site-packages\\sklearn\\svm\\_base.py:1225: ConvergenceWarning: Liblinear failed to converge, increase the number of iterations.\n",
      "  warnings.warn(\n",
      "c:\\anaconda\\envs\\data-mining-bixi\\lib\\site-packages\\sklearn\\svm\\_base.py:1225: ConvergenceWarning: Liblinear failed to converge, increase the number of iterations.\n",
      "  warnings.warn(\n",
      "c:\\anaconda\\envs\\data-mining-bixi\\lib\\site-packages\\sklearn\\svm\\_base.py:1225: ConvergenceWarning: Liblinear failed to converge, increase the number of iterations.\n",
      "  warnings.warn(\n",
      "c:\\anaconda\\envs\\data-mining-bixi\\lib\\site-packages\\sklearn\\svm\\_base.py:1225: ConvergenceWarning: Liblinear failed to converge, increase the number of iterations.\n",
      "  warnings.warn(\n",
      "c:\\anaconda\\envs\\data-mining-bixi\\lib\\site-packages\\sklearn\\svm\\_base.py:1225: ConvergenceWarning: Liblinear failed to converge, increase the number of iterations.\n",
      "  warnings.warn(\n",
      "c:\\anaconda\\envs\\data-mining-bixi\\lib\\site-packages\\sklearn\\svm\\_base.py:1225: ConvergenceWarning: Liblinear failed to converge, increase the number of iterations.\n",
      "  warnings.warn(\n",
      "c:\\anaconda\\envs\\data-mining-bixi\\lib\\site-packages\\sklearn\\svm\\_base.py:1225: ConvergenceWarning: Liblinear failed to converge, increase the number of iterations.\n",
      "  warnings.warn(\n",
      "c:\\anaconda\\envs\\data-mining-bixi\\lib\\site-packages\\sklearn\\svm\\_base.py:1225: ConvergenceWarning: Liblinear failed to converge, increase the number of iterations.\n",
      "  warnings.warn(\n",
      "c:\\anaconda\\envs\\data-mining-bixi\\lib\\site-packages\\sklearn\\svm\\_base.py:1225: ConvergenceWarning: Liblinear failed to converge, increase the number of iterations.\n",
      "  warnings.warn(\n",
      "c:\\anaconda\\envs\\data-mining-bixi\\lib\\site-packages\\sklearn\\svm\\_base.py:1225: ConvergenceWarning: Liblinear failed to converge, increase the number of iterations.\n",
      "  warnings.warn(\n",
      "c:\\anaconda\\envs\\data-mining-bixi\\lib\\site-packages\\sklearn\\svm\\_base.py:1225: ConvergenceWarning: Liblinear failed to converge, increase the number of iterations.\n",
      "  warnings.warn(\n",
      "c:\\anaconda\\envs\\data-mining-bixi\\lib\\site-packages\\sklearn\\svm\\_base.py:1225: ConvergenceWarning: Liblinear failed to converge, increase the number of iterations.\n",
      "  warnings.warn(\n",
      "c:\\anaconda\\envs\\data-mining-bixi\\lib\\site-packages\\sklearn\\svm\\_base.py:1225: ConvergenceWarning: Liblinear failed to converge, increase the number of iterations.\n",
      "  warnings.warn(\n",
      "c:\\anaconda\\envs\\data-mining-bixi\\lib\\site-packages\\sklearn\\svm\\_base.py:1225: ConvergenceWarning: Liblinear failed to converge, increase the number of iterations.\n",
      "  warnings.warn(\n",
      "c:\\anaconda\\envs\\data-mining-bixi\\lib\\site-packages\\sklearn\\svm\\_base.py:1225: ConvergenceWarning: Liblinear failed to converge, increase the number of iterations.\n",
      "  warnings.warn(\n",
      "c:\\anaconda\\envs\\data-mining-bixi\\lib\\site-packages\\sklearn\\svm\\_base.py:1225: ConvergenceWarning: Liblinear failed to converge, increase the number of iterations.\n",
      "  warnings.warn(\n",
      "c:\\anaconda\\envs\\data-mining-bixi\\lib\\site-packages\\sklearn\\svm\\_base.py:1225: ConvergenceWarning: Liblinear failed to converge, increase the number of iterations.\n",
      "  warnings.warn(\n",
      "c:\\anaconda\\envs\\data-mining-bixi\\lib\\site-packages\\sklearn\\svm\\_base.py:1225: ConvergenceWarning: Liblinear failed to converge, increase the number of iterations.\n",
      "  warnings.warn(\n",
      "c:\\anaconda\\envs\\data-mining-bixi\\lib\\site-packages\\sklearn\\svm\\_base.py:1225: ConvergenceWarning: Liblinear failed to converge, increase the number of iterations.\n",
      "  warnings.warn(\n",
      "c:\\anaconda\\envs\\data-mining-bixi\\lib\\site-packages\\sklearn\\svm\\_base.py:1225: ConvergenceWarning: Liblinear failed to converge, increase the number of iterations.\n",
      "  warnings.warn(\n",
      "c:\\anaconda\\envs\\data-mining-bixi\\lib\\site-packages\\sklearn\\svm\\_base.py:1225: ConvergenceWarning: Liblinear failed to converge, increase the number of iterations.\n",
      "  warnings.warn(\n",
      "c:\\anaconda\\envs\\data-mining-bixi\\lib\\site-packages\\sklearn\\svm\\_base.py:1225: ConvergenceWarning: Liblinear failed to converge, increase the number of iterations.\n",
      "  warnings.warn(\n"
     ]
    }
   ],
   "source": [
    "# estimator = LinearSVR(\n",
    "#             epsilon=hyperparameters_df.loc[0, 'epsilon'],\n",
    "#             loss=hyperparameters_df.loc[0, 'loss'],\n",
    "#             C=hyperparameters_df.loc[0, 'C'],\n",
    "#             random_state=1\n",
    "# )\n",
    "\n",
    "# selector = RFECV(estimator, step=1, cv=5)\n",
    "# selector.fit(X_train, y_train)\n",
    "\n",
    "# selector.support_"
   ]
  }
 ],
 "metadata": {
  "kernelspec": {
   "display_name": "Python 3.10.8 ('data-mining-bixi')",
   "language": "python",
   "name": "python3"
  },
  "language_info": {
   "codemirror_mode": {
    "name": "ipython",
    "version": 3
   },
   "file_extension": ".py",
   "mimetype": "text/x-python",
   "name": "python",
   "nbconvert_exporter": "python",
   "pygments_lexer": "ipython3",
   "version": "3.10.8"
  },
  "vscode": {
   "interpreter": {
    "hash": "96e673fa94a25c38f19d506dea23d01ecc2204c15434feb33c96a3bd0d805035"
   }
  }
 },
 "nbformat": 4,
 "nbformat_minor": 5
}
