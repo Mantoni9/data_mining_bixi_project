{
 "cells": [
  {
   "cell_type": "markdown",
   "id": "2d13a369-99c5-4ab2-b8ab-b9bc4d58560b",
   "metadata": {},
   "source": [
    "# Model Template"
   ]
  },
  {
   "cell_type": "code",
   "execution_count": 1,
   "id": "370a2501-42c3-488b-9f8f-0f7baf8c8dac",
   "metadata": {},
   "outputs": [
    {
     "name": "stderr",
     "output_type": "stream",
     "text": [
      "c:\\anaconda\\envs\\data-mining-bixi\\lib\\site-packages\\tqdm\\auto.py:22: TqdmWarning: IProgress not found. Please update jupyter and ipywidgets. See https://ipywidgets.readthedocs.io/en/stable/user_install.html\n",
      "  from .autonotebook import tqdm as notebook_tqdm\n"
     ]
    }
   ],
   "source": [
    "# import necessary packages\n",
    "\n",
    "import pandas as pd\n",
    "import optuna\n",
    "from sklearn.model_selection import train_test_split\n",
    "from sklearn.metrics import r2_score, mean_squared_error\n",
    "# TODO: modell mit eurem ersetzen\n",
    "from sklearn.svm import SVR\n",
    "from sklearn.preprocessing import StandardScaler, MinMaxScaler\n",
    "import matplotlib.pyplot as plt\n",
    "\n",
    "# Empfohlen von sklearn als Alternative zu SVR, da besser skalierbar auf größere Datensätze\n",
    "from sklearn.svm import LinearSVR\n",
    "from sklearn.linear_model import SGDRegressor"
   ]
  },
  {
   "cell_type": "code",
   "execution_count": 2,
   "id": "851d13cc-d1db-48f1-aa8e-af9ffa985376",
   "metadata": {},
   "outputs": [],
   "source": [
    "# read data\n",
    "\n",
    "train_df = pd.read_csv('data/preprocessed_data/train.csv')\n",
    "val_df = pd.read_csv('data/preprocessed_data/validation.csv')\n",
    "test_df = pd.read_csv('data/preprocessed_data/test.csv')\n",
    "corona_df = pd.read_csv('data/preprocessed_data/corona.csv')"
   ]
  },
  {
   "cell_type": "code",
   "execution_count": 3,
   "id": "c54807d5",
   "metadata": {},
   "outputs": [
    {
     "name": "stdout",
     "output_type": "stream",
     "text": [
      "True\n"
     ]
    }
   ],
   "source": [
    "print(0 in train_df[\"elevation_meters\"].values)"
   ]
  },
  {
   "cell_type": "code",
   "execution_count": 4,
   "id": "303ce704",
   "metadata": {},
   "outputs": [
    {
     "name": "stdout",
     "output_type": "stream",
     "text": [
      "True\n"
     ]
    }
   ],
   "source": [
    "print(0 in train_df[\"density\"].values)"
   ]
  },
  {
   "cell_type": "code",
   "execution_count": 5,
   "id": "377a9e95",
   "metadata": {},
   "outputs": [
    {
     "data": {
      "text/plain": [
       "<AxesSubplot:>"
      ]
     },
     "execution_count": 5,
     "metadata": {},
     "output_type": "execute_result"
    },
    {
     "data": {
      "image/png": "[encoded data removed]",
      "text/plain": [
       "<Figure size 640x480 with 1 Axes>"
      ]
     },
     "metadata": {},
     "output_type": "display_data"
    }
   ],
   "source": [
    "train_df[\"total_precipitation\"].plot()"
   ]
  },
  {
   "cell_type": "code",
   "execution_count": 6,
   "id": "49d09b66",
   "metadata": {},
   "outputs": [],
   "source": [
    "# drop start date for regression (is represented as month, day, pm) \n",
    "# train_df = train_df.drop(columns='start_date')\n",
    "# test_df = test_df.drop(columns='start_date')\n",
    "\n",
    "# drop null values\n",
    "# train_df = train_df.dropna()\n",
    "# val_df = val_df.dropna()\n",
    "# test_df = test_df.dropna()"
   ]
  },
  {
   "cell_type": "code",
   "execution_count": 7,
   "id": "0fdce9f2",
   "metadata": {},
   "outputs": [],
   "source": [
    "# scaler = StandardScaler()\n",
    "\n",
    "# train_df = scaler.fit_transform(train_df) \n",
    "# val_df = scaler.fit_transform(val_df) \n",
    "# test_df = scaler.fit_transform(test_df)"
   ]
  },
  {
   "cell_type": "code",
   "execution_count": 7,
   "id": "c319119a",
   "metadata": {},
   "outputs": [
    {
     "data": {
      "text/plain": [
       "latitude               0\n",
       "longitude              0\n",
       "distance_to_center     0\n",
       "year                   0\n",
       "month                  0\n",
       "weekday                0\n",
       "pm                     0\n",
       "holiday                0\n",
       "mean_temperature       0\n",
       "total_precipitation    0\n",
       "stations_count         0\n",
       "elevation_meters       0\n",
       "density                0\n",
       "count                  0\n",
       "dtype: int64"
      ]
     },
     "execution_count": 7,
     "metadata": {},
     "output_type": "execute_result"
    }
   ],
   "source": [
    "train_df.isna().sum()"
   ]
  },
  {
   "cell_type": "code",
   "execution_count": 8,
   "id": "c69e98f4-0254-418a-9214-deea6d4bad7f",
   "metadata": {},
   "outputs": [],
   "source": [
    "# split data\n",
    "\n",
    "X_train = train_df.drop(columns='count')\n",
    "y_train = train_df['count']\n",
    "\n",
    "X_val = val_df.drop(columns='count')\n",
    "y_val = val_df['count']\n",
    "\n",
    "X_test = test_df.drop(columns='count')\n",
    "y_test = test_df['count']\n",
    "\n",
    "X_corona = corona_df.drop(columns='count')\n",
    "y_corona = corona_df['count']"
   ]
  },
  {
   "cell_type": "markdown",
   "id": "2612aa94",
   "metadata": {},
   "source": [
    "## Support Vector Regression"
   ]
  },
  {
   "cell_type": "code",
   "execution_count": 10,
   "id": "4d1a4193-d276-4a7a-9c73-1232ec73dd6d",
   "metadata": {
    "collapsed": true,
    "jupyter": {
     "outputs_hidden": true
    },
    "tags": []
   },
   "outputs": [],
   "source": [
    "# # hyperparameter tuning\n",
    "\n",
    "# try:\n",
    "#     # TODO: file-name ersetzen (in diesem File werden die Ergebnisse des Hyperparameter Tuning gespeichert)\n",
    "#     hyperparameters_df = pd.read_csv('data/hyperparameter_tuning/SVR.csv')\n",
    "    \n",
    "# except FileNotFoundError:\n",
    "    \n",
    "#     # df containing hyperparameters and evaluation metrics of each run\n",
    "#     hyperparameters_df = pd.DataFrame()\n",
    "    \n",
    "#     # this function is used by optuna to tune the hyperparameters\n",
    "#     def objective(trial):\n",
    "#         # TODO: die Hyperparameter mit denen eures Modells ersetzen\n",
    "#         # - integers: trial.suggest_int(name, low, high)\n",
    "#         # - floats: trial.suggest_int(name, low, high)\n",
    "#         # - kategorisch: trial.suggest_categorical(name, choices)\n",
    "#         # (https://optuna.readthedocs.io/en/v2.0.0/reference/generated/optuna.trial.Trial.html)\n",
    "#         # define hyperparameters\n",
    "#         kernel = trial.suggest_categorical('kernel', ['poly', 'rbf'])\n",
    "#         gamma = trial.suggest_categorical('gamma', ['scale', 'auto'])\n",
    "#         c_regularizaion = trial.suggest_float('C', 1, 100)\n",
    "        \n",
    "#         # TODO: mit eurem Modell ersetzen\n",
    "#         # setup and train model\n",
    "#         SVR_reg = SVR(\n",
    "#             kernel=kernel,\n",
    "#             gamma=gamma,\n",
    "#             C=c_regularizaion\n",
    "#         )\n",
    "#         SVR_reg.fit(X_train, y_train)\n",
    "        \n",
    "#         # make predictions\n",
    "#         y_val_pred = SVR_reg.predict(X_val)\n",
    "        \n",
    "#         # evaluate predictions\n",
    "#         r_squared = r2_score(y_val, y_val_pred)\n",
    "#         rmse = mean_squared_error(y_val, y_val_pred) ** 0.5\n",
    "        \n",
    "#         # TODO: mit euren Hyperparametern ersetzen\n",
    "#         # insert results in dataframe\n",
    "#         global hyperparameters_df\n",
    "#         hyperparameters_df = hyperparameters_df.append(\n",
    "#             {'kernel': kernel,\n",
    "#              'gamma': gamma,\n",
    "#              'C': c_regularizaion,\n",
    "#              'r_squared': r_squared,\n",
    "#              'rmse': rmse},\n",
    "#             ignore_index=True\n",
    "#         )\n",
    "        \n",
    "#         # return rmse -> optuna will optimize rmse\n",
    "#         return rmse\n",
    "        \n",
    "        \n",
    "#     study = optuna.create_study()\n",
    "#     # start optimization\n",
    "#     study.optimize(objective, n_trials=25)\n",
    "    \n",
    "#     # TODO: evtl. müsst ihr auch noch mal die Datentypen anpassen\n",
    "#     # convert to correct data types\n",
    "#     # hyperparameters_df[['n_estimators', 'max_depth']] = hyperparameters_df[['n_estimators', 'max_depth']].astype('int')\n",
    "    \n",
    "#     # sort hyperparameter tuning results and save file\n",
    "#     hyperparameters_df = hyperparameters_df.sort_values('rmse', ascending=True)\n",
    "#     hyperparameters_df = hyperparameters_df.reset_index(drop=True)\n",
    "#     hyperparameters_df.to_csv('data/hyperparameter_tuning/SVR.csv', index=False)"
   ]
  },
  {
   "cell_type": "code",
   "execution_count": 11,
   "id": "b1604c78-99a2-4ada-b6c2-3d46eadb92ac",
   "metadata": {},
   "outputs": [],
   "source": [
    "# hyperparameters_df.head()"
   ]
  },
  {
   "cell_type": "code",
   "execution_count": 12,
   "id": "00be0ae7-5b16-49fd-be21-c212ae88169a",
   "metadata": {},
   "outputs": [],
   "source": [
    "# # final model evaluation\n",
    "\n",
    "# # TODO: mit eurem Modell und Hyperparametern ersetzen\n",
    "# # build and train model using the most successful hyperparameters\n",
    "# SVR_reg = SVR()\n",
    "# SVR_reg.fit(X_train, y_train)\n",
    "\n",
    "# # make predictions\n",
    "# y_test_pred = SVR_reg.predict(X_test)\n",
    "\n",
    "# # evaluate predictions\n",
    "# r_squared = r2_score(y_test, y_test_pred)\n",
    "# rmse = mean_squared_error(y_test, y_test_pred) ** 0.5\n",
    "\n",
    "# print(f'R^2:\\t{r_squared}')\n",
    "# print(f'RMSE:\\t{rmse}')"
   ]
  },
  {
   "cell_type": "markdown",
   "id": "e528a22b",
   "metadata": {},
   "source": [
    "# LinearSVR"
   ]
  },
  {
   "cell_type": "code",
   "execution_count": 9,
   "id": "f1622d1f",
   "metadata": {},
   "outputs": [],
   "source": [
    "# hyperparameter tuning\n",
    "\n",
    "try:\n",
    "    # TODO: file-name ersetzen (in diesem File werden die Ergebnisse des Hyperparameter Tuning gespeichert)\n",
    "    hyperparameters_df = pd.read_csv('data/hyperparameter_tuning/linearSVR.csv')\n",
    "    \n",
    "except FileNotFoundError:\n",
    "    \n",
    "    # df containing hyperparameters and evaluation metrics of each run\n",
    "    hyperparameters_df = pd.DataFrame()\n",
    "    \n",
    "    # this function is used by optuna to tune the hyperparameters\n",
    "    def objective(trial):\n",
    "        # TODO: die Hyperparameter mit denen eures Modells ersetzen\n",
    "        # - integers: trial.suggest_int(name, low, high)\n",
    "        # - floats: trial.suggest_int(name, low, high)\n",
    "        # - kategorisch: trial.suggest_categorical(name, choices)\n",
    "        # (https://optuna.readthedocs.io/en/v2.0.0/reference/generated/optuna.trial.Trial.html)\n",
    "        # define hyperparameters\n",
    "        epsilon = trial.suggest_float('epsilon', 0, 1, step=0.1)\n",
    "        loss = trial.suggest_categorical('loss', ['epsilon_insensitive', 'squared_epsilon_insensitive'])\n",
    "        c_regularizaion = trial.suggest_float('C', 1, 100)\n",
    "        \n",
    "        # TODO: mit eurem Modell ersetzen\n",
    "        # setup and train model\n",
    "        LinearSVR_reg = LinearSVR(\n",
    "            epsilon=epsilon,\n",
    "            loss=loss,\n",
    "            C=c_regularizaion,\n",
    "            random_state=1\n",
    "        )\n",
    "        LinearSVR_reg.fit(X_train, y_train)\n",
    "        \n",
    "        # make predictions\n",
    "        y_val_pred = LinearSVR_reg.predict(X_val)\n",
    "        \n",
    "        # evaluate predictions\n",
    "        r_squared = r2_score(y_val, y_val_pred)\n",
    "        rmse = mean_squared_error(y_val, y_val_pred) ** 0.5\n",
    "        \n",
    "        # TODO: mit euren Hyperparametern ersetzen\n",
    "        # insert results in dataframe\n",
    "        global hyperparameters_df\n",
    "        hyperparameters_df = hyperparameters_df.append(\n",
    "            { 'epsilon': epsilon,\n",
    "            'loss': loss,\n",
    "             'C': c_regularizaion,\n",
    "             'r_squared': r_squared,\n",
    "             'rmse': rmse},\n",
    "            ignore_index=True\n",
    "        )\n",
    "        \n",
    "        # return rmse -> optuna will optimize rmse\n",
    "        return rmse\n",
    "        \n",
    "        \n",
    "    study = optuna.create_study()\n",
    "    # start optimization\n",
    "    study.optimize(objective, n_trials=25)\n",
    "    \n",
    "    # TODO: evtl. müsst ihr auch noch mal die Datentypen anpassen\n",
    "    # convert to correct data types\n",
    "    hyperparameters_df['epsilon'] = hyperparameters_df['epsilon'].astype('float')\n",
    "    hyperparameters_df['C'] = hyperparameters_df['C'].astype('int')\n",
    "    \n",
    "    # sort hyperparameter tuning results and save file\n",
    "    hyperparameters_df = hyperparameters_df.sort_values('rmse', ascending=True)\n",
    "    hyperparameters_df = hyperparameters_df.reset_index(drop=True)\n",
    "    hyperparameters_df.to_csv('data/hyperparameter_tuning/linearSVR.csv', index=False)"
   ]
  },
  {
   "cell_type": "code",
   "execution_count": 10,
   "id": "607e8ce6",
   "metadata": {},
   "outputs": [
    {
     "data": {
      "text/html": [
       "<div>\n",
       "<style scoped>\n",
       "    .dataframe tbody tr th:only-of-type {\n",
       "        vertical-align: middle;\n",
       "    }\n",
       "\n",
       "    .dataframe tbody tr th {\n",
       "        vertical-align: top;\n",
       "    }\n",
       "\n",
       "    .dataframe thead th {\n",
       "        text-align: right;\n",
       "    }\n",
       "</style>\n",
       "<table border=\"1\" class=\"dataframe\">\n",
       "  <thead>\n",
       "    <tr style=\"text-align: right;\">\n",
       "      <th></th>\n",
       "      <th>epsilon</th>\n",
       "      <th>loss</th>\n",
       "      <th>C</th>\n",
       "      <th>r_squared</th>\n",
       "      <th>rmse</th>\n",
       "    </tr>\n",
       "  </thead>\n",
       "  <tbody>\n",
       "    <tr>\n",
       "      <th>0</th>\n",
       "      <td>1.0</td>\n",
       "      <td>squared_epsilon_insensitive</td>\n",
       "      <td>42</td>\n",
       "      <td>0.336076</td>\n",
       "      <td>21.384576</td>\n",
       "    </tr>\n",
       "    <tr>\n",
       "      <th>1</th>\n",
       "      <td>0.9</td>\n",
       "      <td>squared_epsilon_insensitive</td>\n",
       "      <td>40</td>\n",
       "      <td>0.336042</td>\n",
       "      <td>21.385113</td>\n",
       "    </tr>\n",
       "    <tr>\n",
       "      <th>2</th>\n",
       "      <td>0.9</td>\n",
       "      <td>squared_epsilon_insensitive</td>\n",
       "      <td>41</td>\n",
       "      <td>0.336032</td>\n",
       "      <td>21.385280</td>\n",
       "    </tr>\n",
       "    <tr>\n",
       "      <th>3</th>\n",
       "      <td>0.9</td>\n",
       "      <td>squared_epsilon_insensitive</td>\n",
       "      <td>34</td>\n",
       "      <td>0.336029</td>\n",
       "      <td>21.385331</td>\n",
       "    </tr>\n",
       "    <tr>\n",
       "      <th>4</th>\n",
       "      <td>0.9</td>\n",
       "      <td>squared_epsilon_insensitive</td>\n",
       "      <td>43</td>\n",
       "      <td>0.336005</td>\n",
       "      <td>21.385714</td>\n",
       "    </tr>\n",
       "  </tbody>\n",
       "</table>\n",
       "</div>"
      ],
      "text/plain": [
       "   epsilon                         loss   C  r_squared       rmse\n",
       "0      1.0  squared_epsilon_insensitive  42   0.336076  21.384576\n",
       "1      0.9  squared_epsilon_insensitive  40   0.336042  21.385113\n",
       "2      0.9  squared_epsilon_insensitive  41   0.336032  21.385280\n",
       "3      0.9  squared_epsilon_insensitive  34   0.336029  21.385331\n",
       "4      0.9  squared_epsilon_insensitive  43   0.336005  21.385714"
      ]
     },
     "execution_count": 10,
     "metadata": {},
     "output_type": "execute_result"
    }
   ],
   "source": [
    "hyperparameters_df.head()"
   ]
  },
  {
   "cell_type": "code",
   "execution_count": 11,
   "id": "2f252acc",
   "metadata": {},
   "outputs": [],
   "source": [
    "# build final model on test and validation data\n",
    "\n",
    "X_final_train = pd.concat([X_train, X_val], ignore_index=True)\n",
    "y_final_train = pd.concat([y_train, y_val], ignore_index=True)"
   ]
  },
  {
   "cell_type": "code",
   "execution_count": 12,
   "id": "3ac8df42",
   "metadata": {},
   "outputs": [
    {
     "name": "stdout",
     "output_type": "stream",
     "text": [
      "R^2:\t0.33742155216490244\n",
      "RMSE:\t21.646914705258805\n"
     ]
    },
    {
     "name": "stderr",
     "output_type": "stream",
     "text": [
      "c:\\anaconda\\envs\\data-mining-bixi\\lib\\site-packages\\sklearn\\svm\\_base.py:1225: ConvergenceWarning: Liblinear failed to converge, increase the number of iterations.\n",
      "  warnings.warn(\n"
     ]
    }
   ],
   "source": [
    "# final model evaluation\n",
    "\n",
    "# TODO: mit eurem Modell und Hyperparametern ersetzen\n",
    "# build and train model using the most successful hyperparameters\n",
    "LinearSVR_reg = LinearSVR(\n",
    "            epsilon=hyperparameters_df.loc[0, 'epsilon'],\n",
    "            loss=hyperparameters_df.loc[0, 'loss'],\n",
    "            C=hyperparameters_df.loc[0, 'C'],\n",
    "            random_state=1\n",
    ")\n",
    "\n",
    "LinearSVR_reg.fit(X_final_train, y_final_train)\n",
    "\n",
    "# make predictions\n",
    "y_test_pred = LinearSVR_reg.predict(X_test)\n",
    "\n",
    "# evaluate predictions\n",
    "r_squared = r2_score(y_test, y_test_pred)\n",
    "rmse = mean_squared_error(y_test, y_test_pred) ** 0.5\n",
    "\n",
    "print(f'R^2:\\t{r_squared}')\n",
    "print(f'RMSE:\\t{rmse}')"
   ]
  },
  {
   "cell_type": "code",
   "execution_count": 13,
   "id": "a252c4b9",
   "metadata": {},
   "outputs": [
    {
     "name": "stdout",
     "output_type": "stream",
     "text": [
      "R^2:\t-0.7257191821687019\n",
      "RMSE:\t20.565436901352967\n"
     ]
    }
   ],
   "source": [
    "# predictions on corona year 2020\n",
    "\n",
    "# make predictions\n",
    "y_corona_pred = LinearSVR_reg.predict(X_corona)\n",
    "\n",
    "# evaluate predictions\n",
    "r_squared_c = r2_score(y_corona, y_corona_pred)\n",
    "rmse_c = mean_squared_error(y_corona, y_corona_pred) ** 0.5\n",
    "\n",
    "print(f'R^2:\\t{r_squared_c}')\n",
    "print(f'RMSE:\\t{rmse_c}')"
   ]
  },
  {
   "cell_type": "code",
   "execution_count": null,
   "id": "303df955",
   "metadata": {},
   "outputs": [],
   "source": [
    "# from sklearn.feature_selection import RFECV"
   ]
  },
  {
   "cell_type": "markdown",
   "id": "d340018d",
   "metadata": {},
   "source": [
    "# SGD Regressor"
   ]
  },
  {
   "cell_type": "code",
   "execution_count": null,
   "id": "29aecf1f",
   "metadata": {},
   "outputs": [],
   "source": [
    "# hyperparameter tuning\n",
    "\n",
    "try:\n",
    "    # TODO: file-name ersetzen (in diesem File werden die Ergebnisse des Hyperparameter Tuning gespeichert)\n",
    "    hyperparameters_df = pd.read_csv('data/hyperparameter_tuning/SGD_SVR.csv')\n",
    "    \n",
    "except FileNotFoundError:\n",
    "    \n",
    "    # df containing hyperparameters and evaluation metrics of each run\n",
    "    hyperparameters_df = pd.DataFrame()\n",
    "    \n",
    "    # this function is used by optuna to tune the hyperparameters\n",
    "    def objective(trial):\n",
    "        # TODO: die Hyperparameter mit denen eures Modells ersetzen\n",
    "        # - integers: trial.suggest_int(name, low, high)\n",
    "        # - floats: trial.suggest_int(name, low, high)\n",
    "        # - kategorisch: trial.suggest_categorical(name, choices)\n",
    "        # (https://optuna.readthedocs.io/en/v2.0.0/reference/generated/optuna.trial.Trial.html)\n",
    "        # define hyperparameters\n",
    "        epsilon = trial.suggest_float('epsilon', 0, 1, step=0.1)\n",
    "        loss = trial.suggest_categorical('loss', ['epsilon_insensitive', 'squared_epsilon_insensitive'])\n",
    "        c_regularizaion = trial.suggest_float('C', 1, 100)\n",
    "        \n",
    "        # TODO: mit eurem Modell ersetzen\n",
    "        # setup and train model\n",
    "        SGDRegressor = SGDRegressor(\n",
    "            epsilon=epsilon,\n",
    "            loss=loss,\n",
    "            C=c_regularizaion,\n",
    "            random_state=1\n",
    "        )\n",
    "        SGDRegressor.fit(X_train, y_train)\n",
    "        \n",
    "        # make predictions\n",
    "        y_val_pred = SGDRegressor.predict(X_val)\n",
    "        \n",
    "        # evaluate predictions\n",
    "        r_squared = r2_score(y_val, y_val_pred)\n",
    "        rmse = mean_squared_error(y_val, y_val_pred) ** 0.5\n",
    "        \n",
    "        # TODO: mit euren Hyperparametern ersetzen\n",
    "        # insert results in dataframe\n",
    "        global hyperparameters_df\n",
    "        hyperparameters_df = hyperparameters_df.append(\n",
    "            { 'epsilon': epsilon,\n",
    "            'loss': loss,\n",
    "             'C': c_regularizaion,\n",
    "             'r_squared': r_squared,\n",
    "             'rmse': rmse},\n",
    "            ignore_index=True\n",
    "        )\n",
    "        \n",
    "        # return rmse -> optuna will optimize rmse\n",
    "        return rmse\n",
    "        \n",
    "        \n",
    "    study = optuna.create_study()\n",
    "    # start optimization\n",
    "    study.optimize(objective, n_trials=25)\n",
    "    \n",
    "    # TODO: evtl. müsst ihr auch noch mal die Datentypen anpassen\n",
    "    # convert to correct data types\n",
    "    hyperparameters_df['epsilon'] = hyperparameters_df['epsilon'].astype('float')\n",
    "    hyperparameters_df['C'] = hyperparameters_df['C'].astype('int')\n",
    "    \n",
    "    # sort hyperparameter tuning results and save file\n",
    "    hyperparameters_df = hyperparameters_df.sort_values('rmse', ascending=True)\n",
    "    hyperparameters_df = hyperparameters_df.reset_index(drop=True)\n",
    "    hyperparameters_df.to_csv('data/hyperparameter_tuning/SGD_SVR.csv', index=False)"
   ]
  }
 ],
 "metadata": {
  "kernelspec": {
   "display_name": "Python 3 (ipykernel)",
   "language": "python",
   "name": "python3"
  },
  "language_info": {
   "codemirror_mode": {
    "name": "ipython",
    "version": 3
   },
   "file_extension": ".py",
   "mimetype": "text/x-python",
   "name": "python",
   "nbconvert_exporter": "python",
   "pygments_lexer": "ipython3",
   "version": "3.10.8"
  },
  "vscode": {
   "interpreter": {
    "hash": "96e673fa94a25c38f19d506dea23d01ecc2204c15434feb33c96a3bd0d805035"
   }
  }
 },
 "nbformat": 4,
 "nbformat_minor": 5
}
