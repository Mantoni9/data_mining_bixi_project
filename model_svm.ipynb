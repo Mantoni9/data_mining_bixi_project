{
 "cells": [
  {
   "cell_type": "markdown",
   "id": "2d13a369-99c5-4ab2-b8ab-b9bc4d58560b",
   "metadata": {},
   "source": [
    "# Model Template"
   ]
  },
  {
   "cell_type": "code",
   "execution_count": 18,
   "id": "370a2501-42c3-488b-9f8f-0f7baf8c8dac",
   "metadata": {},
   "outputs": [],
   "source": [
    "# import necessary packages\n",
    "\n",
    "import pandas as pd\n",
    "import optuna\n",
    "from sklearn.model_selection import train_test_split\n",
    "from sklearn.metrics import r2_score, mean_squared_error\n",
    "# TODO: modell mit eurem ersetzen\n",
    "from sklearn.svm import SVR\n",
    "\n",
    "# Empfohlen von sklearn als Alternative zu SVR, da besser skalierbar auf größere Datensätze\n",
    "from sklearn.svm import LinearSVR\n",
    "from sklearn.linear_model import SGDRegressor"
   ]
  },
  {
   "cell_type": "code",
   "execution_count": 19,
   "id": "851d13cc-d1db-48f1-aa8e-af9ffa985376",
   "metadata": {},
   "outputs": [],
   "source": [
    "# read data\n",
    "\n",
    "train_df = pd.read_csv('data/preprocessed_data/train.csv')\n",
    "test_df = pd.read_csv('data/preprocessed_data/test.csv')"
   ]
  },
  {
   "cell_type": "code",
   "execution_count": 20,
   "id": "49d09b66",
   "metadata": {},
   "outputs": [],
   "source": [
    "# drop start date for regression (is represented as month, day, pm) \n",
    "train_df = train_df.drop(columns='start_date')\n",
    "test_df = test_df.drop(columns='start_date')\n",
    "\n",
    "# drop null values\n",
    "train_df = train_df.dropna()\n",
    "test_df = test_df.dropna()"
   ]
  },
  {
   "cell_type": "code",
   "execution_count": 21,
   "id": "c69e98f4-0254-418a-9214-deea6d4bad7f",
   "metadata": {},
   "outputs": [],
   "source": [
    "# split data\n",
    "\n",
    "X_train = train_df.drop(columns='count')\n",
    "y_train = train_df['count']\n",
    "\n",
    "X_val, X_test, y_val, y_test = train_test_split(\n",
    "    test_df.drop(columns='count'),\n",
    "    test_df['count'],\n",
    "    test_size=0.5,\n",
    "    shuffle=True,\n",
    "    random_state=7\n",
    ")"
   ]
  },
  {
   "cell_type": "code",
   "execution_count": 22,
   "id": "baf1aa43-f423-4156-adf4-6e7b1a93db1b",
   "metadata": {},
   "outputs": [
    {
     "data": {
      "text/plain": [
       "count    402899.000000\n",
       "mean         23.192028\n",
       "std          26.375188\n",
       "min           1.000000\n",
       "25%           7.000000\n",
       "50%          15.000000\n",
       "75%          29.000000\n",
       "max         547.000000\n",
       "Name: count, dtype: float64"
      ]
     },
     "execution_count": 22,
     "metadata": {},
     "output_type": "execute_result"
    }
   ],
   "source": [
    "y_train.describe()"
   ]
  },
  {
   "cell_type": "code",
   "execution_count": 23,
   "id": "4d1a4193-d276-4a7a-9c73-1232ec73dd6d",
   "metadata": {
    "collapsed": true,
    "jupyter": {
     "outputs_hidden": true
    },
    "tags": []
   },
   "outputs": [],
   "source": [
    "# hyperparameter tuning\n",
    "\n",
    "try:\n",
    "    # TODO: file-name ersetzen (in diesem File werden die Ergebnisse des Hyperparameter Tuning gespeichert)\n",
    "    hyperparameters_df = pd.read_csv('data/hyperparameter_tuning/SVR.csv')\n",
    "    \n",
    "except FileNotFoundError:\n",
    "    \n",
    "    # df containing hyperparameters and evaluation metrics of each run\n",
    "    hyperparameters_df = pd.DataFrame()\n",
    "    \n",
    "    # this function is used by optuna to tune the hyperparameters\n",
    "    def objective(trial):\n",
    "        # TODO: die Hyperparameter mit denen eures Modells ersetzen\n",
    "        # - integers: trial.suggest_int(name, low, high)\n",
    "        # - floats: trial.suggest_int(name, low, high)\n",
    "        # - kategorisch: trial.suggest_categorical(name, choices)\n",
    "        # (https://optuna.readthedocs.io/en/v2.0.0/reference/generated/optuna.trial.Trial.html)\n",
    "        # define hyperparameters\n",
    "        kernel = trial.suggest_categorical('kernel', ['poly', 'rbf'])\n",
    "        gamma = trial.suggest_categorical('gamma', ['scale', 'auto'])\n",
    "        c_regularizaion = trial.suggest_float('C', 1, 100)\n",
    "        \n",
    "        # TODO: mit eurem Modell ersetzen\n",
    "        # setup and train model\n",
    "        SVR_reg = SVR(\n",
    "            kernel=kernel,\n",
    "            gamma=gamma,\n",
    "            C=c_regularizaion\n",
    "        )\n",
    "        SVR_reg.fit(X_train, y_train)\n",
    "        \n",
    "        # make predictions\n",
    "        y_val_pred = SVR_reg.predict(X_val)\n",
    "        \n",
    "        # evaluate predictions\n",
    "        r_squared = r2_score(y_val, y_val_pred)\n",
    "        rmse = mean_squared_error(y_val, y_val_pred) ** 0.5\n",
    "        \n",
    "        # TODO: mit euren Hyperparametern ersetzen\n",
    "        # insert results in dataframe\n",
    "        global hyperparameters_df\n",
    "        hyperparameters_df = hyperparameters_df.append(\n",
    "            {'kernel': kernel,\n",
    "             'gamma': gamma,\n",
    "             'C': c_regularizaion,\n",
    "             'r_squared': r_squared,\n",
    "             'rmse': rmse},\n",
    "            ignore_index=True\n",
    "        )\n",
    "        \n",
    "        # return rmse -> optuna will optimize rmse\n",
    "        return rmse\n",
    "        \n",
    "        \n",
    "    study = optuna.create_study()\n",
    "    # start optimization\n",
    "    study.optimize(objective, n_trials=25)\n",
    "    \n",
    "    # TODO: evtl. müsst ihr auch noch mal die Datentypen anpassen\n",
    "    # convert to correct data types\n",
    "    # hyperparameters_df[['n_estimators', 'max_depth']] = hyperparameters_df[['n_estimators', 'max_depth']].astype('int')\n",
    "    \n",
    "    # sort hyperparameter tuning results and save file\n",
    "    hyperparameters_df = hyperparameters_df.sort_values('rmse', ascending=True)\n",
    "    hyperparameters_df = hyperparameters_df.reset_index(drop=True)\n",
    "    hyperparameters_df.to_csv('data/hyperparameter_tuning/SVR.csv', index=False)"
   ]
  },
  {
   "cell_type": "code",
   "execution_count": 24,
   "id": "b1604c78-99a2-4ada-b6c2-3d46eadb92ac",
   "metadata": {},
   "outputs": [
    {
     "data": {
      "text/html": [
       "<div>\n",
       "<style scoped>\n",
       "    .dataframe tbody tr th:only-of-type {\n",
       "        vertical-align: middle;\n",
       "    }\n",
       "\n",
       "    .dataframe tbody tr th {\n",
       "        vertical-align: top;\n",
       "    }\n",
       "\n",
       "    .dataframe thead th {\n",
       "        text-align: right;\n",
       "    }\n",
       "</style>\n",
       "<table border=\"1\" class=\"dataframe\">\n",
       "  <thead>\n",
       "    <tr style=\"text-align: right;\">\n",
       "      <th></th>\n",
       "      <th>kernel</th>\n",
       "      <th>gamma</th>\n",
       "      <th>C</th>\n",
       "      <th>r_squared</th>\n",
       "      <th>rmse</th>\n",
       "    </tr>\n",
       "  </thead>\n",
       "  <tbody>\n",
       "  </tbody>\n",
       "</table>\n",
       "</div>"
      ],
      "text/plain": [
       "Empty DataFrame\n",
       "Columns: [kernel,  gamma,  C,  r_squared,  rmse]\n",
       "Index: []"
      ]
     },
     "execution_count": 24,
     "metadata": {},
     "output_type": "execute_result"
    }
   ],
   "source": [
    "hyperparameters_df.head()"
   ]
  },
  {
   "cell_type": "code",
   "execution_count": 25,
   "id": "00be0ae7-5b16-49fd-be21-c212ae88169a",
   "metadata": {},
   "outputs": [],
   "source": [
    "# final model evaluation\n",
    "\n",
    "# TODO: mit eurem Modell und Hyperparametern ersetzen\n",
    "# build and train model using the most successful hyperparameters\n",
    "SVR_reg = SVR()\n",
    "SVR_reg.fit(X_train, y_train)\n",
    "\n",
    "# make predictions\n",
    "y_test_pred = SVR_reg.predict(X_test)\n",
    "\n",
    "# evaluate predictions\n",
    "r_squared = r2_score(y_test, y_test_pred)\n",
    "rmse = mean_squared_error(y_test, y_test_pred) ** 0.5\n",
    "\n",
    "print(f'R^2:\\t{r_squared}')\n",
    "print(f'RMSE:\\t{rmse}')"
   ]
  }
 ],
 "metadata": {
  "kernelspec": {
   "display_name": "Python 3.10.8 ('data-mining-bixi')",
   "language": "python",
   "name": "python3"
  },
  "language_info": {
   "codemirror_mode": {
    "name": "ipython",
    "version": 3
   },
   "file_extension": ".py",
   "mimetype": "text/x-python",
   "name": "python",
   "nbconvert_exporter": "python",
   "pygments_lexer": "ipython3",
   "version": "3.10.8"
  },
  "vscode": {
   "interpreter": {
    "hash": "96e673fa94a25c38f19d506dea23d01ecc2204c15434feb33c96a3bd0d805035"
   }
  }
 },
 "nbformat": 4,
 "nbformat_minor": 5
}
