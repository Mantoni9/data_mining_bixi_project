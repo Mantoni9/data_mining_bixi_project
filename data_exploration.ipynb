{
 "cells": [
  {
   "cell_type": "markdown",
   "id": "c3b28efc-aa18-4710-b56e-c49a2d970955",
   "metadata": {},
   "source": [
    "# Data Exploration"
   ]
  },
  {
   "cell_type": "code",
   "execution_count": 1,
   "id": "d03f0aab-5a38-40f1-a9d7-a6c56fc778ca",
   "metadata": {},
   "outputs": [],
   "source": [
    "import pandas as pd\n",
    "import matplotlib.pyplot as plt\n",
    "import numpy as np"
   ]
  },
  {
   "cell_type": "markdown",
   "id": "21b00f6f",
   "metadata": {},
   "source": [
    "# Mean rides am/pm"
   ]
  },
  {
   "cell_type": "code",
   "execution_count": 24,
   "id": "e9ddd9f0",
   "metadata": {},
   "outputs": [],
   "source": [
    "all = pd.read_csv('data/preprocessed_data/all.csv')"
   ]
  },
  {
   "cell_type": "code",
   "execution_count": 25,
   "id": "42cff5a5",
   "metadata": {},
   "outputs": [
    {
     "data": {
      "text/html": [
       "<div>\n",
       "<style scoped>\n",
       "    .dataframe tbody tr th:only-of-type {\n",
       "        vertical-align: middle;\n",
       "    }\n",
       "\n",
       "    .dataframe tbody tr th {\n",
       "        vertical-align: top;\n",
       "    }\n",
       "\n",
       "    .dataframe thead th {\n",
       "        text-align: right;\n",
       "    }\n",
       "</style>\n",
       "<table border=\"1\" class=\"dataframe\">\n",
       "  <thead>\n",
       "    <tr style=\"text-align: right;\">\n",
       "      <th></th>\n",
       "      <th>latitude</th>\n",
       "      <th>longitude</th>\n",
       "      <th>distance_to_center</th>\n",
       "      <th>year</th>\n",
       "      <th>month</th>\n",
       "      <th>weekday</th>\n",
       "      <th>pm</th>\n",
       "      <th>holiday</th>\n",
       "      <th>mean_temperature</th>\n",
       "      <th>total_precipitation</th>\n",
       "      <th>stations_count</th>\n",
       "      <th>elevation_meters</th>\n",
       "      <th>density</th>\n",
       "      <th>count</th>\n",
       "    </tr>\n",
       "  </thead>\n",
       "  <tbody>\n",
       "    <tr>\n",
       "      <th>0</th>\n",
       "      <td>45.523319</td>\n",
       "      <td>-73.520127</td>\n",
       "      <td>4.380002</td>\n",
       "      <td>2014</td>\n",
       "      <td>4</td>\n",
       "      <td>1</td>\n",
       "      <td>0</td>\n",
       "      <td>False</td>\n",
       "      <td>5.8</td>\n",
       "      <td>8.9</td>\n",
       "      <td>455</td>\n",
       "      <td>11</td>\n",
       "      <td>1</td>\n",
       "      <td>1</td>\n",
       "    </tr>\n",
       "    <tr>\n",
       "      <th>1</th>\n",
       "      <td>45.510351</td>\n",
       "      <td>-73.556508</td>\n",
       "      <td>1.219082</td>\n",
       "      <td>2014</td>\n",
       "      <td>4</td>\n",
       "      <td>1</td>\n",
       "      <td>0</td>\n",
       "      <td>False</td>\n",
       "      <td>5.8</td>\n",
       "      <td>8.9</td>\n",
       "      <td>455</td>\n",
       "      <td>13</td>\n",
       "      <td>25</td>\n",
       "      <td>2</td>\n",
       "    </tr>\n",
       "    <tr>\n",
       "      <th>2</th>\n",
       "      <td>45.510351</td>\n",
       "      <td>-73.556508</td>\n",
       "      <td>1.219082</td>\n",
       "      <td>2014</td>\n",
       "      <td>4</td>\n",
       "      <td>1</td>\n",
       "      <td>1</td>\n",
       "      <td>False</td>\n",
       "      <td>5.8</td>\n",
       "      <td>8.9</td>\n",
       "      <td>455</td>\n",
       "      <td>13</td>\n",
       "      <td>25</td>\n",
       "      <td>3</td>\n",
       "    </tr>\n",
       "    <tr>\n",
       "      <th>3</th>\n",
       "      <td>45.511007</td>\n",
       "      <td>-73.567602</td>\n",
       "      <td>0.834790</td>\n",
       "      <td>2014</td>\n",
       "      <td>4</td>\n",
       "      <td>1</td>\n",
       "      <td>0</td>\n",
       "      <td>False</td>\n",
       "      <td>5.8</td>\n",
       "      <td>8.9</td>\n",
       "      <td>455</td>\n",
       "      <td>34</td>\n",
       "      <td>45</td>\n",
       "      <td>1</td>\n",
       "    </tr>\n",
       "    <tr>\n",
       "      <th>4</th>\n",
       "      <td>45.498112</td>\n",
       "      <td>-73.577615</td>\n",
       "      <td>0.915128</td>\n",
       "      <td>2014</td>\n",
       "      <td>4</td>\n",
       "      <td>1</td>\n",
       "      <td>0</td>\n",
       "      <td>False</td>\n",
       "      <td>5.8</td>\n",
       "      <td>8.9</td>\n",
       "      <td>455</td>\n",
       "      <td>54</td>\n",
       "      <td>34</td>\n",
       "      <td>4</td>\n",
       "    </tr>\n",
       "    <tr>\n",
       "      <th>...</th>\n",
       "      <td>...</td>\n",
       "      <td>...</td>\n",
       "      <td>...</td>\n",
       "      <td>...</td>\n",
       "      <td>...</td>\n",
       "      <td>...</td>\n",
       "      <td>...</td>\n",
       "      <td>...</td>\n",
       "      <td>...</td>\n",
       "      <td>...</td>\n",
       "      <td>...</td>\n",
       "      <td>...</td>\n",
       "      <td>...</td>\n",
       "      <td>...</td>\n",
       "    </tr>\n",
       "    <tr>\n",
       "      <th>1163546</th>\n",
       "      <td>45.500451</td>\n",
       "      <td>-73.661428</td>\n",
       "      <td>7.224160</td>\n",
       "      <td>2019</td>\n",
       "      <td>10</td>\n",
       "      <td>3</td>\n",
       "      <td>1</td>\n",
       "      <td>False</td>\n",
       "      <td>12.1</td>\n",
       "      <td>59.7</td>\n",
       "      <td>609</td>\n",
       "      <td>44</td>\n",
       "      <td>2</td>\n",
       "      <td>2</td>\n",
       "    </tr>\n",
       "    <tr>\n",
       "      <th>1163547</th>\n",
       "      <td>45.434987</td>\n",
       "      <td>-73.670799</td>\n",
       "      <td>11.011012</td>\n",
       "      <td>2019</td>\n",
       "      <td>10</td>\n",
       "      <td>3</td>\n",
       "      <td>0</td>\n",
       "      <td>False</td>\n",
       "      <td>12.1</td>\n",
       "      <td>59.7</td>\n",
       "      <td>609</td>\n",
       "      <td>25</td>\n",
       "      <td>3</td>\n",
       "      <td>1</td>\n",
       "    </tr>\n",
       "    <tr>\n",
       "      <th>1163548</th>\n",
       "      <td>45.560030</td>\n",
       "      <td>-73.681336</td>\n",
       "      <td>10.778511</td>\n",
       "      <td>2019</td>\n",
       "      <td>10</td>\n",
       "      <td>3</td>\n",
       "      <td>0</td>\n",
       "      <td>False</td>\n",
       "      <td>12.1</td>\n",
       "      <td>59.7</td>\n",
       "      <td>609</td>\n",
       "      <td>17</td>\n",
       "      <td>1</td>\n",
       "      <td>1</td>\n",
       "    </tr>\n",
       "    <tr>\n",
       "      <th>1163549</th>\n",
       "      <td>45.532265</td>\n",
       "      <td>-73.611063</td>\n",
       "      <td>4.585683</td>\n",
       "      <td>2019</td>\n",
       "      <td>10</td>\n",
       "      <td>3</td>\n",
       "      <td>0</td>\n",
       "      <td>False</td>\n",
       "      <td>12.1</td>\n",
       "      <td>59.7</td>\n",
       "      <td>609</td>\n",
       "      <td>67</td>\n",
       "      <td>31</td>\n",
       "      <td>15</td>\n",
       "    </tr>\n",
       "    <tr>\n",
       "      <th>1163550</th>\n",
       "      <td>45.532265</td>\n",
       "      <td>-73.611063</td>\n",
       "      <td>4.585683</td>\n",
       "      <td>2019</td>\n",
       "      <td>10</td>\n",
       "      <td>3</td>\n",
       "      <td>1</td>\n",
       "      <td>False</td>\n",
       "      <td>12.1</td>\n",
       "      <td>59.7</td>\n",
       "      <td>609</td>\n",
       "      <td>67</td>\n",
       "      <td>31</td>\n",
       "      <td>6</td>\n",
       "    </tr>\n",
       "  </tbody>\n",
       "</table>\n",
       "<p>1163551 rows × 14 columns</p>\n",
       "</div>"
      ],
      "text/plain": [
       "          latitude  longitude  distance_to_center  year  month  weekday  pm  \\\n",
       "0        45.523319 -73.520127            4.380002  2014      4        1   0   \n",
       "1        45.510351 -73.556508            1.219082  2014      4        1   0   \n",
       "2        45.510351 -73.556508            1.219082  2014      4        1   1   \n",
       "3        45.511007 -73.567602            0.834790  2014      4        1   0   \n",
       "4        45.498112 -73.577615            0.915128  2014      4        1   0   \n",
       "...            ...        ...                 ...   ...    ...      ...  ..   \n",
       "1163546  45.500451 -73.661428            7.224160  2019     10        3   1   \n",
       "1163547  45.434987 -73.670799           11.011012  2019     10        3   0   \n",
       "1163548  45.560030 -73.681336           10.778511  2019     10        3   0   \n",
       "1163549  45.532265 -73.611063            4.585683  2019     10        3   0   \n",
       "1163550  45.532265 -73.611063            4.585683  2019     10        3   1   \n",
       "\n",
       "         holiday  mean_temperature  total_precipitation  stations_count  \\\n",
       "0          False               5.8                  8.9             455   \n",
       "1          False               5.8                  8.9             455   \n",
       "2          False               5.8                  8.9             455   \n",
       "3          False               5.8                  8.9             455   \n",
       "4          False               5.8                  8.9             455   \n",
       "...          ...               ...                  ...             ...   \n",
       "1163546    False              12.1                 59.7             609   \n",
       "1163547    False              12.1                 59.7             609   \n",
       "1163548    False              12.1                 59.7             609   \n",
       "1163549    False              12.1                 59.7             609   \n",
       "1163550    False              12.1                 59.7             609   \n",
       "\n",
       "         elevation_meters  density  count  \n",
       "0                      11        1      1  \n",
       "1                      13       25      2  \n",
       "2                      13       25      3  \n",
       "3                      34       45      1  \n",
       "4                      54       34      4  \n",
       "...                   ...      ...    ...  \n",
       "1163546                44        2      2  \n",
       "1163547                25        3      1  \n",
       "1163548                17        1      1  \n",
       "1163549                67       31     15  \n",
       "1163550                67       31      6  \n",
       "\n",
       "[1163551 rows x 14 columns]"
      ]
     },
     "execution_count": 25,
     "metadata": {},
     "output_type": "execute_result"
    }
   ],
   "source": [
    "all"
   ]
  },
  {
   "cell_type": "code",
   "execution_count": 26,
   "id": "d982902a",
   "metadata": {},
   "outputs": [],
   "source": [
    "am_rides = all[all['pm']==0]\n",
    "pm_rides = all[all['pm']==1]"
   ]
  },
  {
   "cell_type": "code",
   "execution_count": 27,
   "id": "809831c5",
   "metadata": {},
   "outputs": [
    {
     "name": "stdout",
     "output_type": "stream",
     "text": [
      "13.4\n"
     ]
    }
   ],
   "source": [
    "am_rides_mean = am_rides['count'].mean()\n",
    "print(round(am_rides_mean,2))"
   ]
  },
  {
   "cell_type": "code",
   "execution_count": 28,
   "id": "fb29df56",
   "metadata": {},
   "outputs": [
    {
     "name": "stdout",
     "output_type": "stream",
     "text": [
      "29.96\n"
     ]
    }
   ],
   "source": [
    "pm_rides_mean = pm_rides['count'].mean()\n",
    "print(round(pm_rides_mean,2))"
   ]
  },
  {
   "cell_type": "markdown",
   "id": "ca74b44d-504e-4cb4-9bfa-c79bf786dd35",
   "metadata": {},
   "source": [
    "### 1) Load data and investigate data types"
   ]
  },
  {
   "cell_type": "code",
   "execution_count": 2,
   "id": "45818503-962a-4fbe-9d92-c9fc6eb1a4ac",
   "metadata": {},
   "outputs": [
    {
     "name": "stderr",
     "output_type": "stream",
     "text": [
      "/var/folders/m7/5lh2dbhn42d0kn6456wh8m9h0000gn/T/ipykernel_76932/3023297135.py:9: DtypeWarning: Columns (1,3) have mixed types. Specify dtype option on import or set low_memory=False.\n",
      "  dfs[month] = pd.read_csv(file_path, parse_dates=[0, 2])\n"
     ]
    },
    {
     "name": "stdout",
     "output_type": "stream",
     "text": [
      "\n",
      " 4\n",
      "<class 'pandas.core.frame.DataFrame'>\n",
      "RangeIndex: 237542 entries, 0 to 237541\n",
      "Data columns (total 6 columns):\n",
      " #   Column              Non-Null Count   Dtype         \n",
      "---  ------              --------------   -----         \n",
      " 0   start_date          237542 non-null  datetime64[ns]\n",
      " 1   start_station_code  237542 non-null  int64         \n",
      " 2   end_date            237542 non-null  datetime64[ns]\n",
      " 3   end_station_code    237542 non-null  int64         \n",
      " 4   duration_sec        237542 non-null  int64         \n",
      " 5   is_member           237542 non-null  int64         \n",
      "dtypes: datetime64[ns](2), int64(4)\n",
      "memory usage: 10.9 MB\n"
     ]
    },
    {
     "data": {
      "text/plain": [
       "None"
      ]
     },
     "metadata": {},
     "output_type": "display_data"
    },
    {
     "name": "stdout",
     "output_type": "stream",
     "text": [
      "\n",
      " 5\n",
      "<class 'pandas.core.frame.DataFrame'>\n",
      "RangeIndex: 790323 entries, 0 to 790322\n",
      "Data columns (total 6 columns):\n",
      " #   Column              Non-Null Count   Dtype         \n",
      "---  ------              --------------   -----         \n",
      " 0   start_date          790323 non-null  datetime64[ns]\n",
      " 1   start_station_code  790323 non-null  int64         \n",
      " 2   end_date            790323 non-null  datetime64[ns]\n",
      " 3   end_station_code    790323 non-null  int64         \n",
      " 4   duration_sec        790323 non-null  int64         \n",
      " 5   is_member           790323 non-null  int64         \n",
      "dtypes: datetime64[ns](2), int64(4)\n",
      "memory usage: 36.2 MB\n"
     ]
    },
    {
     "data": {
      "text/plain": [
       "None"
      ]
     },
     "metadata": {},
     "output_type": "display_data"
    },
    {
     "name": "stdout",
     "output_type": "stream",
     "text": [
      "\n",
      " 6\n",
      "<class 'pandas.core.frame.DataFrame'>\n",
      "RangeIndex: 933409 entries, 0 to 933408\n",
      "Data columns (total 6 columns):\n",
      " #   Column              Non-Null Count   Dtype         \n",
      "---  ------              --------------   -----         \n",
      " 0   start_date          933409 non-null  datetime64[ns]\n",
      " 1   start_station_code  933409 non-null  int64         \n",
      " 2   end_date            933409 non-null  datetime64[ns]\n",
      " 3   end_station_code    933409 non-null  int64         \n",
      " 4   duration_sec        933409 non-null  int64         \n",
      " 5   is_member           933409 non-null  int64         \n",
      "dtypes: datetime64[ns](2), int64(4)\n",
      "memory usage: 42.7 MB\n"
     ]
    },
    {
     "data": {
      "text/plain": [
       "None"
      ]
     },
     "metadata": {},
     "output_type": "display_data"
    },
    {
     "name": "stdout",
     "output_type": "stream",
     "text": [
      "\n",
      " 7\n",
      "<class 'pandas.core.frame.DataFrame'>\n",
      "RangeIndex: 1102846 entries, 0 to 1102845\n",
      "Data columns (total 6 columns):\n",
      " #   Column              Non-Null Count    Dtype         \n",
      "---  ------              --------------    -----         \n",
      " 0   start_date          1102846 non-null  datetime64[ns]\n",
      " 1   start_station_code  1102846 non-null  int64         \n",
      " 2   end_date            1102846 non-null  datetime64[ns]\n",
      " 3   end_station_code    1102846 non-null  int64         \n",
      " 4   duration_sec        1102846 non-null  int64         \n",
      " 5   is_member           1102846 non-null  int64         \n",
      "dtypes: datetime64[ns](2), int64(4)\n",
      "memory usage: 50.5 MB\n"
     ]
    },
    {
     "data": {
      "text/plain": [
       "None"
      ]
     },
     "metadata": {},
     "output_type": "display_data"
    },
    {
     "name": "stdout",
     "output_type": "stream",
     "text": [
      "\n",
      " 8\n",
      "<class 'pandas.core.frame.DataFrame'>\n",
      "RangeIndex: 1045585 entries, 0 to 1045584\n",
      "Data columns (total 6 columns):\n",
      " #   Column              Non-Null Count    Dtype         \n",
      "---  ------              --------------    -----         \n",
      " 0   start_date          1045585 non-null  datetime64[ns]\n",
      " 1   start_station_code  1045585 non-null  object        \n",
      " 2   end_date            1045585 non-null  datetime64[ns]\n",
      " 3   end_station_code    1045585 non-null  object        \n",
      " 4   duration_sec        1045585 non-null  int64         \n",
      " 5   is_member           1045585 non-null  int64         \n",
      "dtypes: datetime64[ns](2), int64(2), object(2)\n",
      "memory usage: 47.9+ MB\n"
     ]
    },
    {
     "data": {
      "text/plain": [
       "None"
      ]
     },
     "metadata": {},
     "output_type": "display_data"
    },
    {
     "name": "stdout",
     "output_type": "stream",
     "text": [
      "\n",
      " 9\n",
      "<class 'pandas.core.frame.DataFrame'>\n",
      "RangeIndex: 870945 entries, 0 to 870944\n",
      "Data columns (total 6 columns):\n",
      " #   Column              Non-Null Count   Dtype         \n",
      "---  ------              --------------   -----         \n",
      " 0   start_date          870945 non-null  datetime64[ns]\n",
      " 1   start_station_code  870945 non-null  int64         \n",
      " 2   end_date            870945 non-null  datetime64[ns]\n",
      " 3   end_station_code    870945 non-null  int64         \n",
      " 4   duration_sec        870945 non-null  int64         \n",
      " 5   is_member           870945 non-null  int64         \n",
      "dtypes: datetime64[ns](2), int64(4)\n",
      "memory usage: 39.9 MB\n"
     ]
    },
    {
     "data": {
      "text/plain": [
       "None"
      ]
     },
     "metadata": {},
     "output_type": "display_data"
    },
    {
     "name": "stdout",
     "output_type": "stream",
     "text": [
      "\n",
      " 10\n",
      "<class 'pandas.core.frame.DataFrame'>\n",
      "RangeIndex: 617195 entries, 0 to 617194\n",
      "Data columns (total 6 columns):\n",
      " #   Column              Non-Null Count   Dtype         \n",
      "---  ------              --------------   -----         \n",
      " 0   start_date          617195 non-null  datetime64[ns]\n",
      " 1   start_station_code  617195 non-null  int64         \n",
      " 2   end_date            617195 non-null  datetime64[ns]\n",
      " 3   end_station_code    617195 non-null  int64         \n",
      " 4   duration_sec        617195 non-null  int64         \n",
      " 5   is_member           617195 non-null  int64         \n",
      "dtypes: datetime64[ns](2), int64(4)\n",
      "memory usage: 28.3 MB\n"
     ]
    },
    {
     "data": {
      "text/plain": [
       "None"
      ]
     },
     "metadata": {},
     "output_type": "display_data"
    }
   ],
   "source": [
    "# read rides data\n",
    "\n",
    "# dict to hold each month's dataframe\n",
    "dfs = {}\n",
    "\n",
    "for month in range(4, 11):\n",
    "    file_path = f'data/2019/OD_2019-{month:02d}.csv'\n",
    "    # read dataframe and add to dict\n",
    "    dfs[month] = pd.read_csv(file_path, parse_dates=[0, 2])\n",
    "\n",
    "# investigate each month's dataframe\n",
    "for month, df in dfs.items():\n",
    "    print('\\n', month)\n",
    "    display(df.info())"
   ]
  },
  {
   "cell_type": "markdown",
   "id": "4c350d65-e632-4306-b124-9ca6a0153f75",
   "metadata": {},
   "source": [
    "Columns **\"start_station_code\"** and **\"end_station_code\"** in the dataframe of **August** were not recognized as integer values. These columns might contain strings."
   ]
  },
  {
   "cell_type": "code",
   "execution_count": 3,
   "id": "a03665cb-e356-4ba0-8803-8eecfb937567",
   "metadata": {},
   "outputs": [
    {
     "data": {
      "text/plain": [
       "7085             1\n",
       "7086             2\n",
       "MTL-ECO5.1-01    3\n",
       "7087             3\n",
       "7088             3\n",
       "7104             7\n",
       "5002             7\n",
       "7132             7\n",
       "6271             7\n",
       "7135             7\n",
       "Name: start_station_code, dtype: int64"
      ]
     },
     "execution_count": 3,
     "metadata": {},
     "output_type": "execute_result"
    }
   ],
   "source": [
    "# investigate values of start_station_code\n",
    "dfs[8]['start_station_code'].value_counts(ascending=True)[:10]"
   ]
  },
  {
   "cell_type": "code",
   "execution_count": 4,
   "id": "31d6f240-654a-4150-aa10-c2824add3bbd",
   "metadata": {},
   "outputs": [
    {
     "name": "stdout",
     "output_type": "stream",
     "text": [
      "<class 'pandas.core.frame.DataFrame'>\n",
      "RangeIndex: 1045585 entries, 0 to 1045584\n",
      "Data columns (total 8 columns):\n",
      " #   Column                  Non-Null Count    Dtype         \n",
      "---  ------                  --------------    -----         \n",
      " 0   start_date              1045585 non-null  datetime64[ns]\n",
      " 1   start_station_code      1045585 non-null  object        \n",
      " 2   end_date                1045585 non-null  datetime64[ns]\n",
      " 3   end_station_code        1045585 non-null  object        \n",
      " 4   duration_sec            1045585 non-null  int64         \n",
      " 5   is_member               1045585 non-null  int64         \n",
      " 6   start_station_code_int  1045582 non-null  float64       \n",
      " 7   end_station_code_int    1045582 non-null  float64       \n",
      "dtypes: datetime64[ns](2), float64(2), int64(2), object(2)\n",
      "memory usage: 63.8+ MB\n"
     ]
    }
   ],
   "source": [
    "# add column for integer values, insert None when a value can not be converted\n",
    "\n",
    "def to_int_or_none(val):\n",
    "    try:\n",
    "        return(int(val))\n",
    "    except ValueError:\n",
    "        return None\n",
    "\n",
    "dfs[8]['start_station_code_int'] = dfs[8]['start_station_code'].apply(to_int_or_none)\n",
    "dfs[8]['end_station_code_int'] = dfs[8]['end_station_code'].apply(to_int_or_none)\n",
    "\n",
    "dfs[8].info()"
   ]
  },
  {
   "cell_type": "code",
   "execution_count": 5,
   "id": "df5972b4-78df-456c-b994-743d30f34397",
   "metadata": {},
   "outputs": [
    {
     "data": {
      "text/html": [
       "<div>\n",
       "<style scoped>\n",
       "    .dataframe tbody tr th:only-of-type {\n",
       "        vertical-align: middle;\n",
       "    }\n",
       "\n",
       "    .dataframe tbody tr th {\n",
       "        vertical-align: top;\n",
       "    }\n",
       "\n",
       "    .dataframe thead th {\n",
       "        text-align: right;\n",
       "    }\n",
       "</style>\n",
       "<table border=\"1\" class=\"dataframe\">\n",
       "  <thead>\n",
       "    <tr style=\"text-align: right;\">\n",
       "      <th></th>\n",
       "      <th>start_date</th>\n",
       "      <th>start_station_code</th>\n",
       "      <th>end_date</th>\n",
       "      <th>end_station_code</th>\n",
       "      <th>duration_sec</th>\n",
       "      <th>is_member</th>\n",
       "      <th>start_station_code_int</th>\n",
       "      <th>end_station_code_int</th>\n",
       "    </tr>\n",
       "  </thead>\n",
       "  <tbody>\n",
       "    <tr>\n",
       "      <th>723939</th>\n",
       "      <td>2019-08-22 10:02:48</td>\n",
       "      <td>MTL-ECO5.1-01</td>\n",
       "      <td>2019-08-22 10:07:38</td>\n",
       "      <td>MTL-ECO5.1-01</td>\n",
       "      <td>289</td>\n",
       "      <td>1</td>\n",
       "      <td>NaN</td>\n",
       "      <td>NaN</td>\n",
       "    </tr>\n",
       "    <tr>\n",
       "      <th>725071</th>\n",
       "      <td>2019-08-22 11:01:53</td>\n",
       "      <td>MTL-ECO5.1-01</td>\n",
       "      <td>2019-08-22 11:07:23</td>\n",
       "      <td>MTL-ECO5.1-01</td>\n",
       "      <td>330</td>\n",
       "      <td>1</td>\n",
       "      <td>NaN</td>\n",
       "      <td>NaN</td>\n",
       "    </tr>\n",
       "    <tr>\n",
       "      <th>726467</th>\n",
       "      <td>2019-08-22 12:03:27</td>\n",
       "      <td>MTL-ECO5.1-01</td>\n",
       "      <td>2019-08-22 12:05:03</td>\n",
       "      <td>MTL-ECO5.1-01</td>\n",
       "      <td>95</td>\n",
       "      <td>1</td>\n",
       "      <td>NaN</td>\n",
       "      <td>NaN</td>\n",
       "    </tr>\n",
       "  </tbody>\n",
       "</table>\n",
       "</div>"
      ],
      "text/plain": [
       "                start_date start_station_code            end_date  \\\n",
       "723939 2019-08-22 10:02:48      MTL-ECO5.1-01 2019-08-22 10:07:38   \n",
       "725071 2019-08-22 11:01:53      MTL-ECO5.1-01 2019-08-22 11:07:23   \n",
       "726467 2019-08-22 12:03:27      MTL-ECO5.1-01 2019-08-22 12:05:03   \n",
       "\n",
       "       end_station_code  duration_sec  is_member  start_station_code_int  \\\n",
       "723939    MTL-ECO5.1-01           289          1                     NaN   \n",
       "725071    MTL-ECO5.1-01           330          1                     NaN   \n",
       "726467    MTL-ECO5.1-01            95          1                     NaN   \n",
       "\n",
       "        end_station_code_int  \n",
       "723939                   NaN  \n",
       "725071                   NaN  \n",
       "726467                   NaN  "
      ]
     },
     "execution_count": 5,
     "metadata": {},
     "output_type": "execute_result"
    }
   ],
   "source": [
    "dfs[8][dfs[8]['start_station_code_int'].isna()]"
   ]
  },
  {
   "cell_type": "code",
   "execution_count": 6,
   "id": "a0b43a68-20c5-4ad7-a1ca-f96b2be5f93b",
   "metadata": {},
   "outputs": [
    {
     "data": {
      "text/html": [
       "<div>\n",
       "<style scoped>\n",
       "    .dataframe tbody tr th:only-of-type {\n",
       "        vertical-align: middle;\n",
       "    }\n",
       "\n",
       "    .dataframe tbody tr th {\n",
       "        vertical-align: top;\n",
       "    }\n",
       "\n",
       "    .dataframe thead th {\n",
       "        text-align: right;\n",
       "    }\n",
       "</style>\n",
       "<table border=\"1\" class=\"dataframe\">\n",
       "  <thead>\n",
       "    <tr style=\"text-align: right;\">\n",
       "      <th></th>\n",
       "      <th>start_date</th>\n",
       "      <th>start_station_code</th>\n",
       "      <th>end_date</th>\n",
       "      <th>end_station_code</th>\n",
       "      <th>duration_sec</th>\n",
       "      <th>is_member</th>\n",
       "      <th>start_station_code_int</th>\n",
       "      <th>end_station_code_int</th>\n",
       "    </tr>\n",
       "  </thead>\n",
       "  <tbody>\n",
       "    <tr>\n",
       "      <th>723939</th>\n",
       "      <td>2019-08-22 10:02:48</td>\n",
       "      <td>MTL-ECO5.1-01</td>\n",
       "      <td>2019-08-22 10:07:38</td>\n",
       "      <td>MTL-ECO5.1-01</td>\n",
       "      <td>289</td>\n",
       "      <td>1</td>\n",
       "      <td>NaN</td>\n",
       "      <td>NaN</td>\n",
       "    </tr>\n",
       "    <tr>\n",
       "      <th>725071</th>\n",
       "      <td>2019-08-22 11:01:53</td>\n",
       "      <td>MTL-ECO5.1-01</td>\n",
       "      <td>2019-08-22 11:07:23</td>\n",
       "      <td>MTL-ECO5.1-01</td>\n",
       "      <td>330</td>\n",
       "      <td>1</td>\n",
       "      <td>NaN</td>\n",
       "      <td>NaN</td>\n",
       "    </tr>\n",
       "    <tr>\n",
       "      <th>726467</th>\n",
       "      <td>2019-08-22 12:03:27</td>\n",
       "      <td>MTL-ECO5.1-01</td>\n",
       "      <td>2019-08-22 12:05:03</td>\n",
       "      <td>MTL-ECO5.1-01</td>\n",
       "      <td>95</td>\n",
       "      <td>1</td>\n",
       "      <td>NaN</td>\n",
       "      <td>NaN</td>\n",
       "    </tr>\n",
       "  </tbody>\n",
       "</table>\n",
       "</div>"
      ],
      "text/plain": [
       "                start_date start_station_code            end_date  \\\n",
       "723939 2019-08-22 10:02:48      MTL-ECO5.1-01 2019-08-22 10:07:38   \n",
       "725071 2019-08-22 11:01:53      MTL-ECO5.1-01 2019-08-22 11:07:23   \n",
       "726467 2019-08-22 12:03:27      MTL-ECO5.1-01 2019-08-22 12:05:03   \n",
       "\n",
       "       end_station_code  duration_sec  is_member  start_station_code_int  \\\n",
       "723939    MTL-ECO5.1-01           289          1                     NaN   \n",
       "725071    MTL-ECO5.1-01           330          1                     NaN   \n",
       "726467    MTL-ECO5.1-01            95          1                     NaN   \n",
       "\n",
       "        end_station_code_int  \n",
       "723939                   NaN  \n",
       "725071                   NaN  \n",
       "726467                   NaN  "
      ]
     },
     "execution_count": 6,
     "metadata": {},
     "output_type": "execute_result"
    }
   ],
   "source": [
    "dfs[8][dfs[8]['end_station_code_int'].isna()]"
   ]
  },
  {
   "cell_type": "markdown",
   "id": "f4b2930a-183f-4bce-9b9c-a458b7d7ce89",
   "metadata": {},
   "source": [
    "The only non-integer value seems to be \"MTL-ECO5.1-01\" which appears three times for start_station_code and end_station_code. These three rows are dropped."
   ]
  },
  {
   "cell_type": "code",
   "execution_count": 7,
   "id": "db4f21e9-4d08-484d-808b-1ba647d5da78",
   "metadata": {},
   "outputs": [
    {
     "name": "stdout",
     "output_type": "stream",
     "text": [
      "<class 'pandas.core.frame.DataFrame'>\n",
      "Int64Index: 1045582 entries, 0 to 1045584\n",
      "Data columns (total 6 columns):\n",
      " #   Column              Non-Null Count    Dtype         \n",
      "---  ------              --------------    -----         \n",
      " 0   start_date          1045582 non-null  datetime64[ns]\n",
      " 1   start_station_code  1045582 non-null  int64         \n",
      " 2   end_date            1045582 non-null  datetime64[ns]\n",
      " 3   end_station_code    1045582 non-null  int64         \n",
      " 4   duration_sec        1045582 non-null  int64         \n",
      " 5   is_member           1045582 non-null  int64         \n",
      "dtypes: datetime64[ns](2), int64(4)\n",
      "memory usage: 55.8 MB\n"
     ]
    },
    {
     "name": "stderr",
     "output_type": "stream",
     "text": [
      "/var/folders/m7/5lh2dbhn42d0kn6456wh8m9h0000gn/T/ipykernel_76932/2091520061.py:2: SettingWithCopyWarning: \n",
      "A value is trying to be set on a copy of a slice from a DataFrame.\n",
      "Try using .loc[row_indexer,col_indexer] = value instead\n",
      "\n",
      "See the caveats in the documentation: https://pandas.pydata.org/pandas-docs/stable/user_guide/indexing.html#returning-a-view-versus-a-copy\n",
      "  dfs[8]['start_station_code'] = dfs[8]['start_station_code_int'].astype('int')\n",
      "/var/folders/m7/5lh2dbhn42d0kn6456wh8m9h0000gn/T/ipykernel_76932/2091520061.py:3: SettingWithCopyWarning: \n",
      "A value is trying to be set on a copy of a slice from a DataFrame.\n",
      "Try using .loc[row_indexer,col_indexer] = value instead\n",
      "\n",
      "See the caveats in the documentation: https://pandas.pydata.org/pandas-docs/stable/user_guide/indexing.html#returning-a-view-versus-a-copy\n",
      "  dfs[8]['end_station_code'] = dfs[8]['end_station_code_int'].astype('int')\n"
     ]
    }
   ],
   "source": [
    "dfs[8] = dfs[8].dropna()\n",
    "dfs[8]['start_station_code'] = dfs[8]['start_station_code_int'].astype('int')\n",
    "dfs[8]['end_station_code'] = dfs[8]['end_station_code_int'].astype('int')\n",
    "dfs[8] = dfs[8].drop(columns=['start_station_code_int', 'end_station_code_int'])\n",
    "\n",
    "dfs[8].info()"
   ]
  },
  {
   "cell_type": "code",
   "execution_count": 8,
   "id": "32ce786f-5844-4d99-8cc7-2a0cd2117cac",
   "metadata": {},
   "outputs": [
    {
     "data": {
      "text/html": [
       "<div>\n",
       "<style scoped>\n",
       "    .dataframe tbody tr th:only-of-type {\n",
       "        vertical-align: middle;\n",
       "    }\n",
       "\n",
       "    .dataframe tbody tr th {\n",
       "        vertical-align: top;\n",
       "    }\n",
       "\n",
       "    .dataframe thead th {\n",
       "        text-align: right;\n",
       "    }\n",
       "</style>\n",
       "<table border=\"1\" class=\"dataframe\">\n",
       "  <thead>\n",
       "    <tr style=\"text-align: right;\">\n",
       "      <th></th>\n",
       "      <th>start_date</th>\n",
       "      <th>start_station_code</th>\n",
       "      <th>end_date</th>\n",
       "      <th>end_station_code</th>\n",
       "      <th>duration_sec</th>\n",
       "      <th>is_member</th>\n",
       "    </tr>\n",
       "  </thead>\n",
       "  <tbody>\n",
       "    <tr>\n",
       "      <th>0</th>\n",
       "      <td>2019-04-14 07:55:22</td>\n",
       "      <td>6001</td>\n",
       "      <td>2019-04-14 08:07:16</td>\n",
       "      <td>6132</td>\n",
       "      <td>713</td>\n",
       "      <td>1</td>\n",
       "    </tr>\n",
       "    <tr>\n",
       "      <th>1</th>\n",
       "      <td>2019-04-14 07:59:31</td>\n",
       "      <td>6411</td>\n",
       "      <td>2019-04-14 08:09:18</td>\n",
       "      <td>6411</td>\n",
       "      <td>587</td>\n",
       "      <td>1</td>\n",
       "    </tr>\n",
       "    <tr>\n",
       "      <th>2</th>\n",
       "      <td>2019-04-14 07:59:55</td>\n",
       "      <td>6097</td>\n",
       "      <td>2019-04-14 08:12:11</td>\n",
       "      <td>6036</td>\n",
       "      <td>736</td>\n",
       "      <td>1</td>\n",
       "    </tr>\n",
       "    <tr>\n",
       "      <th>3</th>\n",
       "      <td>2019-04-14 07:59:57</td>\n",
       "      <td>6310</td>\n",
       "      <td>2019-04-14 08:27:58</td>\n",
       "      <td>6345</td>\n",
       "      <td>1680</td>\n",
       "      <td>1</td>\n",
       "    </tr>\n",
       "    <tr>\n",
       "      <th>4</th>\n",
       "      <td>2019-04-14 08:00:37</td>\n",
       "      <td>7029</td>\n",
       "      <td>2019-04-14 08:14:12</td>\n",
       "      <td>6250</td>\n",
       "      <td>814</td>\n",
       "      <td>0</td>\n",
       "    </tr>\n",
       "  </tbody>\n",
       "</table>\n",
       "</div>"
      ],
      "text/plain": [
       "           start_date  start_station_code            end_date  \\\n",
       "0 2019-04-14 07:55:22                6001 2019-04-14 08:07:16   \n",
       "1 2019-04-14 07:59:31                6411 2019-04-14 08:09:18   \n",
       "2 2019-04-14 07:59:55                6097 2019-04-14 08:12:11   \n",
       "3 2019-04-14 07:59:57                6310 2019-04-14 08:27:58   \n",
       "4 2019-04-14 08:00:37                7029 2019-04-14 08:14:12   \n",
       "\n",
       "   end_station_code  duration_sec  is_member  \n",
       "0              6132           713          1  \n",
       "1              6411           587          1  \n",
       "2              6036           736          1  \n",
       "3              6345          1680          1  \n",
       "4              6250           814          0  "
      ]
     },
     "execution_count": 8,
     "metadata": {},
     "output_type": "execute_result"
    }
   ],
   "source": [
    "# combine all dataframes in one single dataframe\n",
    "df_2019 = pd.concat(dfs.values()).reset_index(drop=True)\n",
    "\n",
    "df_2019.head()"
   ]
  },
  {
   "cell_type": "code",
   "execution_count": 9,
   "id": "33aca965-8535-4dc3-bff1-7b6ab4067c8d",
   "metadata": {},
   "outputs": [
    {
     "data": {
      "text/html": [
       "<div>\n",
       "<style scoped>\n",
       "    .dataframe tbody tr th:only-of-type {\n",
       "        vertical-align: middle;\n",
       "    }\n",
       "\n",
       "    .dataframe tbody tr th {\n",
       "        vertical-align: top;\n",
       "    }\n",
       "\n",
       "    .dataframe thead th {\n",
       "        text-align: right;\n",
       "    }\n",
       "</style>\n",
       "<table border=\"1\" class=\"dataframe\">\n",
       "  <thead>\n",
       "    <tr style=\"text-align: right;\">\n",
       "      <th></th>\n",
       "      <th>Code</th>\n",
       "      <th>name</th>\n",
       "      <th>latitude</th>\n",
       "      <th>longitude</th>\n",
       "    </tr>\n",
       "  </thead>\n",
       "  <tbody>\n",
       "    <tr>\n",
       "      <th>0</th>\n",
       "      <td>10002</td>\n",
       "      <td>Métro Charlevoix (Centre / Charlevoix)</td>\n",
       "      <td>45.478228</td>\n",
       "      <td>-73.569651</td>\n",
       "    </tr>\n",
       "    <tr>\n",
       "      <th>1</th>\n",
       "      <td>4000</td>\n",
       "      <td>Jeanne-d'Arc / Ontario</td>\n",
       "      <td>45.549598</td>\n",
       "      <td>-73.541874</td>\n",
       "    </tr>\n",
       "    <tr>\n",
       "      <th>2</th>\n",
       "      <td>4001</td>\n",
       "      <td>Graham / Brookfield</td>\n",
       "      <td>45.520075</td>\n",
       "      <td>-73.629776</td>\n",
       "    </tr>\n",
       "    <tr>\n",
       "      <th>3</th>\n",
       "      <td>4002</td>\n",
       "      <td>Graham / Wicksteed</td>\n",
       "      <td>45.516937</td>\n",
       "      <td>-73.640483</td>\n",
       "    </tr>\n",
       "    <tr>\n",
       "      <th>4</th>\n",
       "      <td>5002</td>\n",
       "      <td>St-Charles / Montarville</td>\n",
       "      <td>45.533682</td>\n",
       "      <td>-73.515261</td>\n",
       "    </tr>\n",
       "  </tbody>\n",
       "</table>\n",
       "</div>"
      ],
      "text/plain": [
       "    Code                                    name   latitude  longitude\n",
       "0  10002  Métro Charlevoix (Centre / Charlevoix)  45.478228 -73.569651\n",
       "1   4000                  Jeanne-d'Arc / Ontario  45.549598 -73.541874\n",
       "2   4001                     Graham / Brookfield  45.520075 -73.629776\n",
       "3   4002                      Graham / Wicksteed  45.516937 -73.640483\n",
       "4   5002                St-Charles / Montarville  45.533682 -73.515261"
      ]
     },
     "metadata": {},
     "output_type": "display_data"
    },
    {
     "name": "stdout",
     "output_type": "stream",
     "text": [
      "<class 'pandas.core.frame.DataFrame'>\n",
      "RangeIndex: 619 entries, 0 to 618\n",
      "Data columns (total 4 columns):\n",
      " #   Column     Non-Null Count  Dtype  \n",
      "---  ------     --------------  -----  \n",
      " 0   Code       619 non-null    int64  \n",
      " 1   name       619 non-null    object \n",
      " 2   latitude   619 non-null    float64\n",
      " 3   longitude  619 non-null    float64\n",
      "dtypes: float64(2), int64(1), object(1)\n",
      "memory usage: 19.5+ KB\n"
     ]
    }
   ],
   "source": [
    "# read station data\n",
    "stations = pd.read_csv('data/2019/Stations_2019.csv')\n",
    "\n",
    "display(stations.head())\n",
    "stations.info()"
   ]
  },
  {
   "cell_type": "code",
   "execution_count": 10,
   "id": "8c689d89-4b99-49e9-8e91-6e4fc1d97270",
   "metadata": {},
   "outputs": [
    {
     "data": {
      "text/plain": [
       "621"
      ]
     },
     "execution_count": 10,
     "metadata": {},
     "output_type": "execute_result"
    }
   ],
   "source": [
    "len(df_2019['start_station_code'].unique())"
   ]
  },
  {
   "cell_type": "markdown",
   "id": "ced26df8-41f7-4d3f-8f8c-7966fc24f2b4",
   "metadata": {},
   "source": [
    "The rides dataframe contains 621 unique station codes while the stations dataframe only contains 619 unique station codes."
   ]
  },
  {
   "cell_type": "code",
   "execution_count": 11,
   "id": "f1b5104f-3452-4499-a5a9-dec3e788f15d",
   "metadata": {},
   "outputs": [
    {
     "data": {
      "text/plain": [
       "array([6034, 6708])"
      ]
     },
     "execution_count": 11,
     "metadata": {},
     "output_type": "execute_result"
    }
   ],
   "source": [
    "# difference between both sets\n",
    "np.setdiff1d(df_2019['start_station_code'].unique(), stations['Code'])"
   ]
  },
  {
   "cell_type": "code",
   "execution_count": 12,
   "id": "12852213-9cae-48d8-8b4b-f209adb0fc4d",
   "metadata": {},
   "outputs": [
    {
     "data": {
      "text/plain": [
       "24485"
      ]
     },
     "execution_count": 12,
     "metadata": {},
     "output_type": "execute_result"
    }
   ],
   "source": [
    "len(df_2019[(df_2019['start_station_code'].isin([6034, 6708])) | (df_2019['end_station_code'].isin([6034, 6708]))])"
   ]
  },
  {
   "cell_type": "code",
   "execution_count": 13,
   "id": "c60cf604-54b7-4c02-99ab-1d3523dbe739",
   "metadata": {},
   "outputs": [
    {
     "data": {
      "text/plain": [
       "0.02341757987417534"
      ]
     },
     "execution_count": 13,
     "metadata": {},
     "output_type": "execute_result"
    }
   ],
   "source": [
    "24485 / 1045582"
   ]
  },
  {
   "cell_type": "markdown",
   "id": "c11c4ce2-f58b-4af2-8c38-b4c77aa83925",
   "metadata": {},
   "source": [
    "The stations with station codes 6034 and 6708 are not available in the stations dataframe. There are 24485 rows containing these stations as start or end station, which is 2% of the data. It would make sense to remove this data in case any positional data of the stations is used in the models."
   ]
  },
  {
   "cell_type": "markdown",
   "id": "445d916f-41b1-4e41-b3e7-502d2cbfe7dc",
   "metadata": {},
   "source": [
    "### 2) Plot"
   ]
  },
  {
   "cell_type": "code",
   "execution_count": 14,
   "id": "402ae73c-b42a-4791-a2ca-02c618f94fdd",
   "metadata": {},
   "outputs": [
    {
     "data": {
      "image/png": "[encoded data removed]",
      "text/plain": [
       "<Figure size 576x288 with 1 Axes>"
      ]
     },
     "metadata": {
      "needs_background": "light"
     },
     "output_type": "display_data"
    }
   ],
   "source": [
    "# plot total bike rides per month\n",
    "\n",
    "rides_per_month = df_2019.groupby(pd.Grouper(key='start_date', freq='M'))['start_station_code'].count()\n",
    "\n",
    "fig, ax = plt.subplots(figsize=(8, 4))\n",
    "\n",
    "rides_per_month.plot(kind='bar', ax=ax)\n",
    "\n",
    "ax.set_title('Rides per month')\n",
    "\n",
    "plt.show()"
   ]
  },
  {
   "cell_type": "code",
   "execution_count": 15,
   "id": "bfec4722-34f9-4843-87c3-7cf43fa47344",
   "metadata": {},
   "outputs": [
    {
     "data": {
      "image/png": "[encoded data removed]",
      "text/plain": [
       "<Figure size 576x288 with 1 Axes>"
      ]
     },
     "metadata": {
      "needs_background": "light"
     },
     "output_type": "display_data"
    }
   ],
   "source": [
    "# plot histogram of total number of rides per station\n",
    "\n",
    "rides_per_station = df_2019.groupby('start_station_code')['start_date'].count()\n",
    "\n",
    "fig, ax = plt.subplots(figsize=(8, 4))\n",
    "\n",
    "rides_per_station.plot(kind='hist', ax=ax)\n",
    "\n",
    "ax.set_title('Frequency of number of rides per station')\n",
    "\n",
    "plt.show()"
   ]
  },
  {
   "cell_type": "code",
   "execution_count": null,
   "id": "210d7238-1195-45f0-af66-d40858142ac7",
   "metadata": {},
   "outputs": [],
   "source": []
  }
 ],
 "metadata": {
  "kernelspec": {
   "display_name": "Python 3.10.8 ('data-mining-bixi')",
   "language": "python",
   "name": "python3"
  },
  "language_info": {
   "codemirror_mode": {
    "name": "ipython",
    "version": 3
   },
   "file_extension": ".py",
   "mimetype": "text/x-python",
   "name": "python",
   "nbconvert_exporter": "python",
   "pygments_lexer": "ipython3",
   "version": "3.10.8"
  },
  "vscode": {
   "interpreter": {
    "hash": "96e673fa94a25c38f19d506dea23d01ecc2204c15434feb33c96a3bd0d805035"
   }
  }
 },
 "nbformat": 4,
 "nbformat_minor": 5
}
