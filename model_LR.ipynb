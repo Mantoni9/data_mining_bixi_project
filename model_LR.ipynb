{
 "cells": [
  {
   "cell_type": "markdown",
   "id": "2d13a369-99c5-4ab2-b8ab-b9bc4d58560b",
   "metadata": {},
   "source": [
    "# Linear Regression (OLS)"
   ]
  },
  {
   "cell_type": "code",
   "execution_count": 1,
   "id": "370a2501-42c3-488b-9f8f-0f7baf8c8dac",
   "metadata": {},
   "outputs": [],
   "source": [
    "# import necessary packages\n",
    "\n",
    "import pandas as pd\n",
    "import optuna\n",
    "from sklearn.model_selection import train_test_split\n",
    "from sklearn.metrics import r2_score, mean_squared_error\n",
    "# TODO: modell mit eurem ersetzen\n",
    "from sklearn.linear_model import LinearRegression"
   ]
  },
  {
   "cell_type": "code",
   "execution_count": 2,
   "id": "851d13cc-d1db-48f1-aa8e-af9ffa985376",
   "metadata": {},
   "outputs": [],
   "source": [
    "#################################\n",
    "# TODO: Diese Zelle austauschen #\n",
    "#################################\n",
    "\n",
    "# read data\n",
    "\n",
    "train_df = pd.read_csv('data/preprocessed_data/train.csv')\n",
    "val_df = pd.read_csv('data/preprocessed_data/validation.csv')\n",
    "test_df = pd.read_csv('data/preprocessed_data/test.csv')"
   ]
  },
  {
   "cell_type": "code",
   "execution_count": 3,
   "id": "75569ba4",
   "metadata": {},
   "outputs": [],
   "source": [
    "# drop null values\n",
    "train_df = train_df.dropna()\n",
    "val_df = val_df.dropna()\n",
    "test_df = test_df.dropna()\n",
    "\n",
    "X_train = train_df.drop(columns='count')\n",
    "y_train = train_df['count']\n",
    "\n",
    "X_val = val_df.drop(columns='count')\n",
    "y_val = val_df['count']\n",
    "\n",
    "X_test = test_df.drop(columns='count')\n",
    "y_test = test_df['count']"
   ]
  },
  {
   "cell_type": "code",
   "execution_count": 4,
   "id": "4d1a4193-d276-4a7a-9c73-1232ec73dd6d",
   "metadata": {
    "tags": []
   },
   "outputs": [],
   "source": [
    "# hyperparameter tuning\n",
    "\n",
    "# try:\n",
    "#     # TODO: file-name ersetzen (in diesem File werden die Ergebnisse des Hyperparameter Tuning gespeichert)\n",
    "#     hyperparameters_df = pd.read_csv('data/hyperparameter_tuning/LR.csv')\n",
    "    \n",
    "# except FileNotFoundError:\n",
    "    \n",
    "#     # df containing hyperparameters and evaluation metrics of each run\n",
    "#     hyperparameters_df = pd.DataFrame()\n",
    "    \n",
    "#     # this function is used by optuna to tune the hyperparameters\n",
    "#     def objective(trial):\n",
    "#         # TODO: die Hyperparameter mit denen eures Modells ersetzen\n",
    "#         # - integers: trial.suggest_int(name, low, high)\n",
    "#         # - floats: trial.suggest_int(name, low, high)\n",
    "#         # - kategorisch: trial.suggest_categorical(name, choices)\n",
    "#         # (https://optuna.readthedocs.io/en/v2.0.0/reference/generated/optuna.trial.Trial.html)\n",
    "#         # define hyperparameters\n",
    "\n",
    "        \n",
    "#         # TODO: mit eurem Modell ersetzen\n",
    "#         # setup and train model\n",
    "       \n",
    "#         LinearRegression.fit(X_train, y_train)\n",
    "        \n",
    "#         # make predictions\n",
    "#         y_val_pred = xgb_reg.predict(X_val)\n",
    "        \n",
    "#         # evaluate predictions\n",
    "#         r_squared = r2_score(y_val, y_val_pred)\n",
    "#         rmse = mean_squared_error(y_val, y_val_pred) ** 0.5\n",
    "        \n",
    "#         # TODO: mit euren Hyperparametern ersetzen\n",
    "#         # insert results in dataframe\n",
    "#         global hyperparameters_df\n",
    "#         hyperparameters_df = hyperparameters_df.append(\n",
    "#             {'r_squared': r_squared,\n",
    "#              'rmse': rmse},\n",
    "#             ignore_index=True\n",
    "#         )\n",
    "        \n",
    "#         # return rmse -> optuna will optimize rmse\n",
    "#         return rmse\n",
    "        \n",
    "        \n",
    "#     study = optuna.create_study()\n",
    "#     # start optimization\n",
    "#     study.optimize(objective, n_trials=25)\n",
    "    \n",
    "#     # TODO: evtl. müsst ihr auch noch mal die Datentypen anpassen\n",
    "#     # convert to correct data types\n",
    "#     hyperparameters_df[['n_estimators', 'max_depth']] = hyperparameters_df[['n_estimators', 'max_depth']].astype('int')\n",
    "    \n",
    "#     # sort hyperparameter tuning results and save file\n",
    "#     hyperparameters_df = hyperparameters_df.sort_values('rmse', ascending=True)\n",
    "#     hyperparameters_df = hyperparameters_df.reset_index(drop=True)\n",
    "#     hyperparameters_df.to_csv('data/hyperparameter_tuning/xgboost.csv', index=False)"
   ]
  },
  {
   "cell_type": "code",
   "execution_count": 5,
   "id": "b1604c78-99a2-4ada-b6c2-3d46eadb92ac",
   "metadata": {},
   "outputs": [],
   "source": [
    "# hyperparameters_df.head()"
   ]
  },
  {
   "cell_type": "code",
   "execution_count": 6,
   "id": "00be0ae7-5b16-49fd-be21-c212ae88169a",
   "metadata": {},
   "outputs": [
    {
     "name": "stdout",
     "output_type": "stream",
     "text": [
      "R^2:\t0.30829450123835656\n",
      "RMSE:\t22.093091869417385\n"
     ]
    }
   ],
   "source": [
    "# final model evaluation\n",
    "\n",
    "# TODO: mit eurem Modell und Hyperparametern ersetzen\n",
    "# build and train model using the most successful hyperparameters\n",
    "\n",
    "LR= LinearRegression()\n",
    "LR.fit(X_train, y_train)\n",
    "\n",
    "# make predictions\n",
    "y_test_pred = LR.predict(X_test)\n",
    "\n",
    "# evaluate predictions\n",
    "r_squared = r2_score(y_test, y_test_pred)\n",
    "rmse = mean_squared_error(y_test, y_test_pred) ** 0.5\n",
    "\n",
    "print(f'R^2:\\t{r_squared}')\n",
    "print(f'RMSE:\\t{rmse}')"
   ]
  }
 ],
 "metadata": {
  "kernelspec": {
   "display_name": "Python 3",
   "language": "python",
   "name": "python3"
  },
  "language_info": {
   "codemirror_mode": {
    "name": "ipython",
    "version": 3
   },
   "file_extension": ".py",
   "mimetype": "text/x-python",
   "name": "python",
   "nbconvert_exporter": "python",
   "pygments_lexer": "ipython3",
   "version": "3.8.8"
  }
 },
 "nbformat": 4,
 "nbformat_minor": 5
}
