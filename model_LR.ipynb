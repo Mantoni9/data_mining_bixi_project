{
 "cells": [
  {
   "cell_type": "markdown",
   "id": "2d13a369-99c5-4ab2-b8ab-b9bc4d58560b",
   "metadata": {},
   "source": [
    "# Linear Regression (OLS)"
   ]
  },
  {
   "cell_type": "code",
   "execution_count": 1,
   "id": "370a2501-42c3-488b-9f8f-0f7baf8c8dac",
   "metadata": {},
   "outputs": [],
   "source": [
    "# import necessary packages\n",
    "\n",
    "import pandas as pd\n",
    "import optuna\n",
    "from sklearn.model_selection import train_test_split\n",
    "from sklearn.metrics import r2_score, mean_squared_error\n",
    "# TODO: modell mit eurem ersetzen\n",
    "from sklearn.linear_model import LinearRegression"
   ]
  },
  {
   "cell_type": "code",
   "execution_count": 2,
   "id": "851d13cc-d1db-48f1-aa8e-af9ffa985376",
   "metadata": {},
   "outputs": [],
   "source": [
    "# read data\n",
    "\n",
    "train_df = pd.read_csv('data/preprocessed_data/train.csv')\n",
    "val_df = pd.read_csv('data/preprocessed_data/validation.csv')\n",
    "test_df = pd.read_csv('data/preprocessed_data/test.csv')\n",
    "corona_df = pd.read_csv('data/preprocessed_data/corona.csv')"
   ]
  },
  {
   "cell_type": "code",
   "execution_count": 3,
   "id": "75569ba4",
   "metadata": {},
   "outputs": [],
   "source": [
    "# split data\n",
    "\n",
    "X_train = train_df.drop(columns='count')\n",
    "y_train = train_df['count']\n",
    "\n",
    "X_val = val_df.drop(columns='count')\n",
    "y_val = val_df['count']\n",
    "\n",
    "X_test = test_df.drop(columns='count')\n",
    "y_test = test_df['count']\n",
    "\n",
    "X_corona = corona_df.drop(columns='count')\n",
    "y_corona = corona_df['count']"
   ]
  },
  {
   "cell_type": "code",
   "execution_count": 4,
   "id": "2edaf1c5",
   "metadata": {},
   "outputs": [],
   "source": [
    "# build final model on test and validation data\n",
    "\n",
    "X_final_train = pd.concat([X_train, X_val], ignore_index=True)\n",
    "y_final_train = pd.concat([y_train, y_val], ignore_index=True)"
   ]
  },
  {
   "cell_type": "code",
   "execution_count": 5,
   "id": "00be0ae7-5b16-49fd-be21-c212ae88169a",
   "metadata": {},
   "outputs": [
    {
     "name": "stdout",
     "output_type": "stream",
     "text": [
      "R^2:\t0.33241247941910035\n",
      "RMSE:\t21.72858564410151\n"
     ]
    }
   ],
   "source": [
    "# final model evaluation\n",
    "\n",
    "# build and train model\n",
    "LR= LinearRegression()\n",
    "LR.fit(X_final_train, y_final_train)\n",
    "\n",
    "# make predictions\n",
    "y_test_pred = LR.predict(X_test)\n",
    "\n",
    "# evaluate predictions\n",
    "r_squared = r2_score(y_test, y_test_pred)\n",
    "rmse = mean_squared_error(y_test, y_test_pred) ** 0.5\n",
    "\n",
    "print(f'R^2:\\t{r_squared}')\n",
    "print(f'RMSE:\\t{rmse}')"
   ]
  },
  {
   "cell_type": "code",
   "execution_count": 6,
   "id": "9401db66",
   "metadata": {},
   "outputs": [
    {
     "name": "stdout",
     "output_type": "stream",
     "text": [
      "R^2:\t-0.4031642944142857\n",
      "RMSE:\t18.544158878296884\n"
     ]
    }
   ],
   "source": [
    "# predictions on corona year 2020\n",
    "\n",
    "# make predictions\n",
    "y_corona_pred = LR.predict(X_corona)\n",
    "\n",
    "# evaluate predictions\n",
    "r_squared_c = r2_score(y_corona, y_corona_pred)\n",
    "rmse_c = mean_squared_error(y_corona, y_corona_pred) ** 0.5\n",
    "\n",
    "print(f'R^2:\\t{r_squared_c}')\n",
    "print(f'RMSE:\\t{rmse_c}')"
   ]
  }
 ],
 "metadata": {
  "kernelspec": {
   "display_name": "Python 3 (ipykernel)",
   "language": "python",
   "name": "python3"
  },
  "language_info": {
   "codemirror_mode": {
    "name": "ipython",
    "version": 3
   },
   "file_extension": ".py",
   "mimetype": "text/x-python",
   "name": "python",
   "nbconvert_exporter": "python",
   "pygments_lexer": "ipython3",
   "version": "3.9.12"
  }
 },
 "nbformat": 4,
 "nbformat_minor": 5
}
