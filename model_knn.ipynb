{
 "cells": [
  {
   "cell_type": "markdown",
   "id": "2d13a369-99c5-4ab2-b8ab-b9bc4d58560b",
   "metadata": {},
   "source": [
    "# KNN Regression Model"
   ]
  },
  {
   "cell_type": "code",
   "execution_count": 1,
   "id": "370a2501-42c3-488b-9f8f-0f7baf8c8dac",
   "metadata": {},
   "outputs": [],
   "source": [
    "# import necessary packages\n",
    "\n",
    "import pandas as pd\n",
    "import optuna\n",
    "from sklearn.model_selection import train_test_split\n",
    "from sklearn.metrics import r2_score, mean_squared_error\n",
    "# TODO: modell mit eurem ersetzen\n",
    "from sklearn.neighbors import KNeighborsRegressor"
   ]
  },
  {
   "cell_type": "code",
   "execution_count": 2,
   "id": "851d13cc-d1db-48f1-aa8e-af9ffa985376",
   "metadata": {},
   "outputs": [],
   "source": [
    "# read data\n",
    "\n",
    "train_df = pd.read_csv('data/preprocessed_data/train.csv')\n",
    "test_df = pd.read_csv('data/preprocessed_data/test.csv')"
   ]
  },
  {
   "cell_type": "code",
   "execution_count": 3,
   "id": "a90f6afd",
   "metadata": {},
   "outputs": [
    {
     "name": "stdout",
     "output_type": "stream",
     "text": [
      "<class 'pandas.core.frame.DataFrame'>\n",
      "RangeIndex: 419752 entries, 0 to 419751\n",
      "Data columns (total 9 columns):\n",
      " #   Column               Non-Null Count   Dtype  \n",
      "---  ------               --------------   -----  \n",
      " 0   start_date           419752 non-null  object \n",
      " 1   latitude             419752 non-null  float64\n",
      " 2   longitude            419752 non-null  float64\n",
      " 3   month                419752 non-null  int64  \n",
      " 4   weekday              419752 non-null  int64  \n",
      " 5   pm                   419752 non-null  int64  \n",
      " 6   mean_temperature     403958 non-null  float64\n",
      " 7   total_precipitation  402899 non-null  float64\n",
      " 8   count                419752 non-null  int64  \n",
      "dtypes: float64(4), int64(4), object(1)\n",
      "memory usage: 28.8+ MB\n"
     ]
    }
   ],
   "source": [
    "train_df.info()"
   ]
  },
  {
   "cell_type": "code",
   "execution_count": 4,
   "id": "e87d7870",
   "metadata": {},
   "outputs": [
    {
     "name": "stdout",
     "output_type": "stream",
     "text": [
      "<class 'pandas.core.frame.DataFrame'>\n",
      "RangeIndex: 214900 entries, 0 to 214899\n",
      "Data columns (total 9 columns):\n",
      " #   Column               Non-Null Count   Dtype  \n",
      "---  ------               --------------   -----  \n",
      " 0   start_date           214900 non-null  object \n",
      " 1   latitude             214900 non-null  float64\n",
      " 2   longitude            214900 non-null  float64\n",
      " 3   month                214900 non-null  int64  \n",
      " 4   weekday              214900 non-null  int64  \n",
      " 5   pm                   214900 non-null  int64  \n",
      " 6   mean_temperature     204306 non-null  float64\n",
      " 7   total_precipitation  203247 non-null  float64\n",
      " 8   count                214900 non-null  int64  \n",
      "dtypes: float64(4), int64(4), object(1)\n",
      "memory usage: 14.8+ MB\n"
     ]
    }
   ],
   "source": [
    "test_df.info()"
   ]
  },
  {
   "cell_type": "code",
   "execution_count": 5,
   "id": "94cfe324",
   "metadata": {},
   "outputs": [],
   "source": [
    "# drop start date for regression (is represented as month, day, pm) \n",
    "train_df = train_df.drop(columns='start_date')\n",
    "test_df = test_df.drop(columns='start_date')\n",
    "\n",
    "# drop null values\n",
    "train_df = train_df.dropna()\n",
    "test_df = test_df.dropna()"
   ]
  },
  {
   "cell_type": "code",
   "execution_count": 6,
   "id": "b3865e35",
   "metadata": {},
   "outputs": [
    {
     "name": "stdout",
     "output_type": "stream",
     "text": [
      "<class 'pandas.core.frame.DataFrame'>\n",
      "Int64Index: 402899 entries, 0 to 419751\n",
      "Data columns (total 8 columns):\n",
      " #   Column               Non-Null Count   Dtype  \n",
      "---  ------               --------------   -----  \n",
      " 0   latitude             402899 non-null  float64\n",
      " 1   longitude            402899 non-null  float64\n",
      " 2   month                402899 non-null  int64  \n",
      " 3   weekday              402899 non-null  int64  \n",
      " 4   pm                   402899 non-null  int64  \n",
      " 5   mean_temperature     402899 non-null  float64\n",
      " 6   total_precipitation  402899 non-null  float64\n",
      " 7   count                402899 non-null  int64  \n",
      "dtypes: float64(4), int64(4)\n",
      "memory usage: 27.7 MB\n"
     ]
    }
   ],
   "source": [
    "train_df.info()"
   ]
  },
  {
   "cell_type": "code",
   "execution_count": 7,
   "id": "d8c47273",
   "metadata": {},
   "outputs": [
    {
     "name": "stdout",
     "output_type": "stream",
     "text": [
      "<class 'pandas.core.frame.DataFrame'>\n",
      "Int64Index: 203247 entries, 0 to 214899\n",
      "Data columns (total 8 columns):\n",
      " #   Column               Non-Null Count   Dtype  \n",
      "---  ------               --------------   -----  \n",
      " 0   latitude             203247 non-null  float64\n",
      " 1   longitude            203247 non-null  float64\n",
      " 2   month                203247 non-null  int64  \n",
      " 3   weekday              203247 non-null  int64  \n",
      " 4   pm                   203247 non-null  int64  \n",
      " 5   mean_temperature     203247 non-null  float64\n",
      " 6   total_precipitation  203247 non-null  float64\n",
      " 7   count                203247 non-null  int64  \n",
      "dtypes: float64(4), int64(4)\n",
      "memory usage: 14.0 MB\n"
     ]
    }
   ],
   "source": [
    "test_df.info()"
   ]
  },
  {
   "cell_type": "code",
   "execution_count": 8,
   "id": "c69e98f4-0254-418a-9214-deea6d4bad7f",
   "metadata": {},
   "outputs": [],
   "source": [
    "# split data\n",
    "\n",
    "X_train = train_df.drop(columns='count')\n",
    "y_train = train_df['count']\n",
    "\n",
    "X_val, X_test, y_val, y_test = train_test_split(\n",
    "    test_df.drop(columns='count'),\n",
    "    test_df['count'],\n",
    "    test_size=0.5,\n",
    "    shuffle=True,\n",
    "    random_state=7\n",
    ")"
   ]
  },
  {
   "cell_type": "code",
   "execution_count": 9,
   "id": "9213b03e",
   "metadata": {},
   "outputs": [
    {
     "data": {
      "text/html": [
       "<div>\n",
       "<style scoped>\n",
       "    .dataframe tbody tr th:only-of-type {\n",
       "        vertical-align: middle;\n",
       "    }\n",
       "\n",
       "    .dataframe tbody tr th {\n",
       "        vertical-align: top;\n",
       "    }\n",
       "\n",
       "    .dataframe thead th {\n",
       "        text-align: right;\n",
       "    }\n",
       "</style>\n",
       "<table border=\"1\" class=\"dataframe\">\n",
       "  <thead>\n",
       "    <tr style=\"text-align: right;\">\n",
       "      <th></th>\n",
       "      <th>latitude</th>\n",
       "      <th>longitude</th>\n",
       "      <th>month</th>\n",
       "      <th>weekday</th>\n",
       "      <th>pm</th>\n",
       "      <th>mean_temperature</th>\n",
       "      <th>total_precipitation</th>\n",
       "    </tr>\n",
       "  </thead>\n",
       "  <tbody>\n",
       "    <tr>\n",
       "      <th>0</th>\n",
       "      <td>45.533703</td>\n",
       "      <td>-73.515283</td>\n",
       "      <td>4</td>\n",
       "      <td>5</td>\n",
       "      <td>0</td>\n",
       "      <td>11.3</td>\n",
       "      <td>3.1</td>\n",
       "    </tr>\n",
       "    <tr>\n",
       "      <th>1</th>\n",
       "      <td>45.509328</td>\n",
       "      <td>-73.554347</td>\n",
       "      <td>4</td>\n",
       "      <td>5</td>\n",
       "      <td>0</td>\n",
       "      <td>11.3</td>\n",
       "      <td>3.1</td>\n",
       "    </tr>\n",
       "    <tr>\n",
       "      <th>2</th>\n",
       "      <td>45.509328</td>\n",
       "      <td>-73.554347</td>\n",
       "      <td>4</td>\n",
       "      <td>5</td>\n",
       "      <td>1</td>\n",
       "      <td>11.3</td>\n",
       "      <td>3.1</td>\n",
       "    </tr>\n",
       "    <tr>\n",
       "      <th>3</th>\n",
       "      <td>45.539292</td>\n",
       "      <td>-73.541031</td>\n",
       "      <td>4</td>\n",
       "      <td>5</td>\n",
       "      <td>0</td>\n",
       "      <td>11.3</td>\n",
       "      <td>3.1</td>\n",
       "    </tr>\n",
       "    <tr>\n",
       "      <th>4</th>\n",
       "      <td>45.539292</td>\n",
       "      <td>-73.541031</td>\n",
       "      <td>4</td>\n",
       "      <td>5</td>\n",
       "      <td>1</td>\n",
       "      <td>11.3</td>\n",
       "      <td>3.1</td>\n",
       "    </tr>\n",
       "  </tbody>\n",
       "</table>\n",
       "</div>"
      ],
      "text/plain": [
       "    latitude  longitude  month  weekday  pm  mean_temperature  \\\n",
       "0  45.533703 -73.515283      4        5   0              11.3   \n",
       "1  45.509328 -73.554347      4        5   0              11.3   \n",
       "2  45.509328 -73.554347      4        5   1              11.3   \n",
       "3  45.539292 -73.541031      4        5   0              11.3   \n",
       "4  45.539292 -73.541031      4        5   1              11.3   \n",
       "\n",
       "   total_precipitation  \n",
       "0                  3.1  \n",
       "1                  3.1  \n",
       "2                  3.1  \n",
       "3                  3.1  \n",
       "4                  3.1  "
      ]
     },
     "execution_count": 9,
     "metadata": {},
     "output_type": "execute_result"
    }
   ],
   "source": [
    "X_train.head()"
   ]
  },
  {
   "cell_type": "code",
   "execution_count": 10,
   "id": "4d1a4193-d276-4a7a-9c73-1232ec73dd6d",
   "metadata": {
    "jupyter": {
     "outputs_hidden": true
    },
    "tags": []
   },
   "outputs": [
    {
     "name": "stderr",
     "output_type": "stream",
     "text": [
      "\u001b[32m[I 2022-11-14 18:20:55,505]\u001b[0m A new study created in memory with name: no-name-61e72440-b63b-48a5-9a76-c5edaf34d07a\u001b[0m\n",
      "C:\\Users\\danie\\AppData\\Local\\Temp\\ipykernel_9392\\3261551569.py:48: FutureWarning: The frame.append method is deprecated and will be removed from pandas in a future version. Use pandas.concat instead.\n",
      "  hyperparameters_df = hyperparameters_df.append(\n",
      "\u001b[32m[I 2022-11-14 18:20:59,044]\u001b[0m Trial 0 finished with value: 17.29337765270503 and parameters: {'n_neighbors': 8}. Best is trial 0 with value: 17.29337765270503.\u001b[0m\n",
      "C:\\Users\\danie\\AppData\\Local\\Temp\\ipykernel_9392\\3261551569.py:48: FutureWarning: The frame.append method is deprecated and will be removed from pandas in a future version. Use pandas.concat instead.\n",
      "  hyperparameters_df = hyperparameters_df.append(\n",
      "\u001b[32m[I 2022-11-14 18:21:02,253]\u001b[0m Trial 1 finished with value: 17.9030367121702 and parameters: {'n_neighbors': 10}. Best is trial 0 with value: 17.29337765270503.\u001b[0m\n",
      "C:\\Users\\danie\\AppData\\Local\\Temp\\ipykernel_9392\\3261551569.py:48: FutureWarning: The frame.append method is deprecated and will be removed from pandas in a future version. Use pandas.concat instead.\n",
      "  hyperparameters_df = hyperparameters_df.append(\n",
      "\u001b[32m[I 2022-11-14 18:21:05,373]\u001b[0m Trial 2 finished with value: 17.29337765270503 and parameters: {'n_neighbors': 8}. Best is trial 0 with value: 17.29337765270503.\u001b[0m\n",
      "C:\\Users\\danie\\AppData\\Local\\Temp\\ipykernel_9392\\3261551569.py:48: FutureWarning: The frame.append method is deprecated and will be removed from pandas in a future version. Use pandas.concat instead.\n",
      "  hyperparameters_df = hyperparameters_df.append(\n",
      "\u001b[32m[I 2022-11-14 18:21:08,860]\u001b[0m Trial 3 finished with value: 18.333061743402354 and parameters: {'n_neighbors': 18}. Best is trial 0 with value: 17.29337765270503.\u001b[0m\n",
      "C:\\Users\\danie\\AppData\\Local\\Temp\\ipykernel_9392\\3261551569.py:48: FutureWarning: The frame.append method is deprecated and will be removed from pandas in a future version. Use pandas.concat instead.\n",
      "  hyperparameters_df = hyperparameters_df.append(\n",
      "\u001b[32m[I 2022-11-14 18:21:11,908]\u001b[0m Trial 4 finished with value: 16.952291044305532 and parameters: {'n_neighbors': 7}. Best is trial 4 with value: 16.952291044305532.\u001b[0m\n",
      "C:\\Users\\danie\\AppData\\Local\\Temp\\ipykernel_9392\\3261551569.py:48: FutureWarning: The frame.append method is deprecated and will be removed from pandas in a future version. Use pandas.concat instead.\n",
      "  hyperparameters_df = hyperparameters_df.append(\n",
      "\u001b[32m[I 2022-11-14 18:21:15,289]\u001b[0m Trial 5 finished with value: 18.24075788206265 and parameters: {'n_neighbors': 15}. Best is trial 4 with value: 16.952291044305532.\u001b[0m\n",
      "C:\\Users\\danie\\AppData\\Local\\Temp\\ipykernel_9392\\3261551569.py:48: FutureWarning: The frame.append method is deprecated and will be removed from pandas in a future version. Use pandas.concat instead.\n",
      "  hyperparameters_df = hyperparameters_df.append(\n",
      "\u001b[32m[I 2022-11-14 18:21:18,593]\u001b[0m Trial 6 finished with value: 18.1300114018555 and parameters: {'n_neighbors': 13}. Best is trial 4 with value: 16.952291044305532.\u001b[0m\n",
      "C:\\Users\\danie\\AppData\\Local\\Temp\\ipykernel_9392\\3261551569.py:48: FutureWarning: The frame.append method is deprecated and will be removed from pandas in a future version. Use pandas.concat instead.\n",
      "  hyperparameters_df = hyperparameters_df.append(\n",
      "\u001b[32m[I 2022-11-14 18:21:21,483]\u001b[0m Trial 7 finished with value: 11.515158712530349 and parameters: {'n_neighbors': 2}. Best is trial 7 with value: 11.515158712530349.\u001b[0m\n",
      "C:\\Users\\danie\\AppData\\Local\\Temp\\ipykernel_9392\\3261551569.py:48: FutureWarning: The frame.append method is deprecated and will be removed from pandas in a future version. Use pandas.concat instead.\n",
      "  hyperparameters_df = hyperparameters_df.append(\n",
      "\u001b[32m[I 2022-11-14 18:21:24,862]\u001b[0m Trial 8 finished with value: 17.9030367121702 and parameters: {'n_neighbors': 10}. Best is trial 7 with value: 11.515158712530349.\u001b[0m\n",
      "C:\\Users\\danie\\AppData\\Local\\Temp\\ipykernel_9392\\3261551569.py:48: FutureWarning: The frame.append method is deprecated and will be removed from pandas in a future version. Use pandas.concat instead.\n",
      "  hyperparameters_df = hyperparameters_df.append(\n",
      "\u001b[32m[I 2022-11-14 18:21:28,444]\u001b[0m Trial 9 finished with value: 18.39948311201297 and parameters: {'n_neighbors': 20}. Best is trial 7 with value: 11.515158712530349.\u001b[0m\n"
     ]
    }
   ],
   "source": [
    "# hyperparameter tuning\n",
    "\n",
    "try:\n",
    "    # TODO: file-name ersetzen (in diesem File werden die Ergebnisse des Hyperparameter Tuning gespeichert)\n",
    "    hyperparameters_df = pd.read_csv('data/hyperparameter_tuning/knn.csv')\n",
    "    pass\n",
    "    \n",
    "except FileNotFoundError:\n",
    "    \n",
    "    # df containing hyperparameters and evaluation metrics of each run\n",
    "    hyperparameters_df = pd.DataFrame()\n",
    "    \n",
    "    # this function is used by optuna to tune the hyperparameters\n",
    "    def objective(trial):\n",
    "        # TODO: die Hyperparameter mit denen eures Modells ersetzen\n",
    "        # - integers: trial.suggest_int(name, low, high)\n",
    "        # - floats: trial.suggest_int(name, low, high)\n",
    "        # - kategorisch: trial.suggest_categorical(name, choices)\n",
    "        # (https://optuna.readthedocs.io/en/v2.0.0/reference/generated/optuna.trial.Trial.html)\n",
    "        \n",
    "        # define hyperparameters\n",
    "        n_neighbors = trial.suggest_int('n_neighbors', 1, 20)\n",
    "        \n",
    "        #TODO: regression with weights=distance always returns rmse=0 ?\n",
    "        #weights = trial.suggest_categorical('weigths', ['uniform', 'distance'])\n",
    "        #metric = trial.suggest_categorical('metric', ['euclidean', 'manhattan'])\n",
    "        \n",
    "        \n",
    "        # TODO: mit eurem Modell ersetzen\n",
    "        # setup and train model\n",
    "        knn_reg = KNeighborsRegressor(\n",
    "            n_neighbors=n_neighbors,\n",
    "            #weights=weights,\n",
    "            #metric=metric\n",
    "        )\n",
    "        knn_reg.fit(X_train, y_train)\n",
    "        \n",
    "        # make predictions\n",
    "        y_val_pred = knn_reg.predict(X_val)\n",
    "        \n",
    "        # evaluate predictions\n",
    "        r_squared = r2_score(y_val, y_val_pred)\n",
    "        rmse = mean_squared_error(y_val, y_val_pred) ** 0.5\n",
    "        \n",
    "        # TODO: mit euren Hyperparametern ersetzen\n",
    "        # insert results in dataframe\n",
    "        global hyperparameters_df\n",
    "        hyperparameters_df = hyperparameters_df.append(\n",
    "            {'n_neighbors': n_neighbors,\n",
    "             #'weights': weights,\n",
    "             #'metric' : metric,\n",
    "             'r_squared': r_squared,\n",
    "             'rmse': rmse},\n",
    "            ignore_index=True\n",
    "        )\n",
    "        \n",
    "        # return rmse -> optuna will optimize rmse\n",
    "        return rmse\n",
    "        \n",
    "        \n",
    "    study = optuna.create_study()\n",
    "    # start optimization\n",
    "    study.optimize(objective, n_trials=10)\n",
    "    \n",
    "    # TODO: evtl. müsst ihr auch noch mal die Datentypen anpassen\n",
    "    # convert to correct data types\n",
    "    hyperparameters_df['n_neighbors'] = hyperparameters_df['n_neighbors'].astype('int')\n",
    "    \n",
    "    # sort hyperparameter tuning results and save file\n",
    "    hyperparameters_df = hyperparameters_df.sort_values('rmse', ascending=True)\n",
    "    hyperparameters_df = hyperparameters_df.reset_index(drop=True)\n",
    "    hyperparameters_df.to_csv('data/hyperparameter_tuning/knn.csv', index=False)"
   ]
  },
  {
   "cell_type": "code",
   "execution_count": 11,
   "id": "b1604c78-99a2-4ada-b6c2-3d46eadb92ac",
   "metadata": {},
   "outputs": [
    {
     "data": {
      "text/html": [
       "<div>\n",
       "<style scoped>\n",
       "    .dataframe tbody tr th:only-of-type {\n",
       "        vertical-align: middle;\n",
       "    }\n",
       "\n",
       "    .dataframe tbody tr th {\n",
       "        vertical-align: top;\n",
       "    }\n",
       "\n",
       "    .dataframe thead th {\n",
       "        text-align: right;\n",
       "    }\n",
       "</style>\n",
       "<table border=\"1\" class=\"dataframe\">\n",
       "  <thead>\n",
       "    <tr style=\"text-align: right;\">\n",
       "      <th></th>\n",
       "      <th>n_neighbors</th>\n",
       "      <th>r_squared</th>\n",
       "      <th>rmse</th>\n",
       "    </tr>\n",
       "  </thead>\n",
       "  <tbody>\n",
       "    <tr>\n",
       "      <th>0</th>\n",
       "      <td>2</td>\n",
       "      <td>0.811460</td>\n",
       "      <td>11.515159</td>\n",
       "    </tr>\n",
       "    <tr>\n",
       "      <th>1</th>\n",
       "      <td>7</td>\n",
       "      <td>0.591380</td>\n",
       "      <td>16.952291</td>\n",
       "    </tr>\n",
       "    <tr>\n",
       "      <th>2</th>\n",
       "      <td>8</td>\n",
       "      <td>0.574771</td>\n",
       "      <td>17.293378</td>\n",
       "    </tr>\n",
       "    <tr>\n",
       "      <th>3</th>\n",
       "      <td>8</td>\n",
       "      <td>0.574771</td>\n",
       "      <td>17.293378</td>\n",
       "    </tr>\n",
       "    <tr>\n",
       "      <th>4</th>\n",
       "      <td>10</td>\n",
       "      <td>0.544260</td>\n",
       "      <td>17.903037</td>\n",
       "    </tr>\n",
       "    <tr>\n",
       "      <th>5</th>\n",
       "      <td>10</td>\n",
       "      <td>0.544260</td>\n",
       "      <td>17.903037</td>\n",
       "    </tr>\n",
       "    <tr>\n",
       "      <th>6</th>\n",
       "      <td>13</td>\n",
       "      <td>0.532631</td>\n",
       "      <td>18.130011</td>\n",
       "    </tr>\n",
       "    <tr>\n",
       "      <th>7</th>\n",
       "      <td>15</td>\n",
       "      <td>0.526904</td>\n",
       "      <td>18.240758</td>\n",
       "    </tr>\n",
       "    <tr>\n",
       "      <th>8</th>\n",
       "      <td>18</td>\n",
       "      <td>0.522104</td>\n",
       "      <td>18.333062</td>\n",
       "    </tr>\n",
       "    <tr>\n",
       "      <th>9</th>\n",
       "      <td>20</td>\n",
       "      <td>0.518635</td>\n",
       "      <td>18.399483</td>\n",
       "    </tr>\n",
       "  </tbody>\n",
       "</table>\n",
       "</div>"
      ],
      "text/plain": [
       "   n_neighbors  r_squared       rmse\n",
       "0            2   0.811460  11.515159\n",
       "1            7   0.591380  16.952291\n",
       "2            8   0.574771  17.293378\n",
       "3            8   0.574771  17.293378\n",
       "4           10   0.544260  17.903037\n",
       "5           10   0.544260  17.903037\n",
       "6           13   0.532631  18.130011\n",
       "7           15   0.526904  18.240758\n",
       "8           18   0.522104  18.333062\n",
       "9           20   0.518635  18.399483"
      ]
     },
     "execution_count": 11,
     "metadata": {},
     "output_type": "execute_result"
    }
   ],
   "source": [
    "hyperparameters_df"
   ]
  },
  {
   "cell_type": "code",
   "execution_count": 12,
   "id": "8ab47fcb",
   "metadata": {},
   "outputs": [
    {
     "name": "stdout",
     "output_type": "stream",
     "text": [
      "<class 'pandas.core.frame.DataFrame'>\n",
      "RangeIndex: 10 entries, 0 to 9\n",
      "Data columns (total 3 columns):\n",
      " #   Column       Non-Null Count  Dtype  \n",
      "---  ------       --------------  -----  \n",
      " 0   n_neighbors  10 non-null     int32  \n",
      " 1   r_squared    10 non-null     float64\n",
      " 2   rmse         10 non-null     float64\n",
      "dtypes: float64(2), int32(1)\n",
      "memory usage: 328.0 bytes\n"
     ]
    }
   ],
   "source": [
    "hyperparameters_df.info()"
   ]
  },
  {
   "cell_type": "code",
   "execution_count": 13,
   "id": "00be0ae7-5b16-49fd-be21-c212ae88169a",
   "metadata": {},
   "outputs": [
    {
     "name": "stdout",
     "output_type": "stream",
     "text": [
      "R^2:\t0.812069998450133\n",
      "RMSE:\t11.38943349200627\n"
     ]
    }
   ],
   "source": [
    "# final model evaluation\n",
    "\n",
    "# TODO: mit eurem Modell und Hyperparametern ersetzen\n",
    "# build and train model using the most successful hyperparameters\n",
    "knn_reg = KNeighborsRegressor(\n",
    "    n_neighbors=hyperparameters_df.loc[0, 'n_neighbors'],\n",
    "    #weights=hyperparameters_df.loc[0, 'weights'],\n",
    "    #metric=hyperparameters_df.loc[0, 'metric']\n",
    ")\n",
    "knn_reg.fit(X_train, y_train)\n",
    "\n",
    "# make predictions\n",
    "y_test_pred = knn_reg.predict(X_test)\n",
    "\n",
    "# evaluate predictions\n",
    "r_squared = r2_score(y_test, y_test_pred)\n",
    "rmse = mean_squared_error(y_test, y_test_pred) ** 0.5\n",
    "\n",
    "print(f'R^2:\\t{r_squared}')\n",
    "print(f'RMSE:\\t{rmse}')"
   ]
  },
  {
   "cell_type": "code",
   "execution_count": null,
   "id": "501b297b",
   "metadata": {},
   "outputs": [],
   "source": []
  }
 ],
 "metadata": {
  "kernelspec": {
   "display_name": "Python 3 (ipykernel)",
   "language": "python",
   "name": "python3"
  },
  "language_info": {
   "codemirror_mode": {
    "name": "ipython",
    "version": 3
   },
   "file_extension": ".py",
   "mimetype": "text/x-python",
   "name": "python",
   "nbconvert_exporter": "python",
   "pygments_lexer": "ipython3",
   "version": "3.9.12"
  }
 },
 "nbformat": 4,
 "nbformat_minor": 5
}
