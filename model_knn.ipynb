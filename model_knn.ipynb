{
 "cells": [
  {
   "cell_type": "markdown",
   "id": "2d13a369-99c5-4ab2-b8ab-b9bc4d58560b",
   "metadata": {},
   "source": [
    "# KNN Regression Model"
   ]
  },
  {
   "cell_type": "code",
   "execution_count": 1,
   "id": "370a2501-42c3-488b-9f8f-0f7baf8c8dac",
   "metadata": {},
   "outputs": [],
   "source": [
    "# import necessary packages\n",
    "\n",
    "import pandas as pd\n",
    "import optuna\n",
    "from sklearn.model_selection import train_test_split\n",
    "from sklearn.metrics import r2_score, mean_squared_error\n",
    "\n",
    "from sklearn.neighbors import KNeighborsRegressor"
   ]
  },
  {
   "cell_type": "code",
   "execution_count": 2,
   "id": "851d13cc-d1db-48f1-aa8e-af9ffa985376",
   "metadata": {},
   "outputs": [],
   "source": [
    "# read data\n",
    "\n",
    "train_df = pd.read_csv('data/preprocessed_data/train.csv')\n",
    "val_df = pd.read_csv('data/preprocessed_data/validation.csv')\n",
    "test_df = pd.read_csv('data/preprocessed_data/test.csv')\n",
    "corona_df = pd.read_csv('data/preprocessed_data/corona.csv')"
   ]
  },
  {
   "cell_type": "code",
   "execution_count": 3,
   "id": "c69e98f4-0254-418a-9214-deea6d4bad7f",
   "metadata": {},
   "outputs": [],
   "source": [
    "# split data\n",
    "\n",
    "X_train = train_df.drop(columns='count')\n",
    "y_train = train_df['count']\n",
    "\n",
    "X_val = val_df.drop(columns='count')\n",
    "y_val = val_df['count']\n",
    "\n",
    "X_test = test_df.drop(columns='count')\n",
    "y_test = test_df['count']\n",
    "\n",
    "X_corona = corona_df.drop(columns='count')\n",
    "y_corona = corona_df['count']"
   ]
  },
  {
   "cell_type": "markdown",
   "id": "a480e246",
   "metadata": {},
   "source": [
    "## Hyperparameter Tuning"
   ]
  },
  {
   "cell_type": "code",
   "execution_count": 5,
   "id": "4d1a4193-d276-4a7a-9c73-1232ec73dd6d",
   "metadata": {
    "jupyter": {
     "outputs_hidden": true
    },
    "tags": []
   },
   "outputs": [
    {
     "name": "stderr",
     "output_type": "stream",
     "text": [
      "\u001b[32m[I 2022-11-27 11:06:50,665]\u001b[0m A new study created in memory with name: no-name-dc012c6f-5618-43ad-a594-c10b44ead81a\u001b[0m\n",
      "C:\\Users\\danie\\AppData\\Local\\Temp\\ipykernel_9772\\625804945.py:48: FutureWarning: The frame.append method is deprecated and will be removed from pandas in a future version. Use pandas.concat instead.\n",
      "  hyperparameters_df = hyperparameters_df.append(\n",
      "\u001b[32m[I 2022-11-27 11:07:20,408]\u001b[0m Trial 0 finished with value: 16.946509698834245 and parameters: {'n_neighbors': 14, 'weigths': 'distance', 'metric': 'manhattan'}. Best is trial 0 with value: 16.946509698834245.\u001b[0m\n",
      "C:\\Users\\danie\\AppData\\Local\\Temp\\ipykernel_9772\\625804945.py:48: FutureWarning: The frame.append method is deprecated and will be removed from pandas in a future version. Use pandas.concat instead.\n",
      "  hyperparameters_df = hyperparameters_df.append(\n",
      "\u001b[32m[I 2022-11-27 11:07:47,520]\u001b[0m Trial 1 finished with value: 16.878547011159398 and parameters: {'n_neighbors': 12, 'weigths': 'distance', 'metric': 'manhattan'}. Best is trial 1 with value: 16.878547011159398.\u001b[0m\n",
      "C:\\Users\\danie\\AppData\\Local\\Temp\\ipykernel_9772\\625804945.py:48: FutureWarning: The frame.append method is deprecated and will be removed from pandas in a future version. Use pandas.concat instead.\n",
      "  hyperparameters_df = hyperparameters_df.append(\n",
      "\u001b[32m[I 2022-11-27 11:08:23,973]\u001b[0m Trial 2 finished with value: 18.89721506582835 and parameters: {'n_neighbors': 14, 'weigths': 'uniform', 'metric': 'euclidean'}. Best is trial 1 with value: 16.878547011159398.\u001b[0m\n",
      "C:\\Users\\danie\\AppData\\Local\\Temp\\ipykernel_9772\\625804945.py:48: FutureWarning: The frame.append method is deprecated and will be removed from pandas in a future version. Use pandas.concat instead.\n",
      "  hyperparameters_df = hyperparameters_df.append(\n",
      "\u001b[32m[I 2022-11-27 11:08:48,630]\u001b[0m Trial 3 finished with value: 16.55111937943022 and parameters: {'n_neighbors': 7, 'weigths': 'distance', 'metric': 'manhattan'}. Best is trial 3 with value: 16.55111937943022.\u001b[0m\n",
      "C:\\Users\\danie\\AppData\\Local\\Temp\\ipykernel_9772\\625804945.py:48: FutureWarning: The frame.append method is deprecated and will be removed from pandas in a future version. Use pandas.concat instead.\n",
      "  hyperparameters_df = hyperparameters_df.append(\n",
      "\u001b[32m[I 2022-11-27 11:09:17,367]\u001b[0m Trial 4 finished with value: 17.04559394485317 and parameters: {'n_neighbors': 12, 'weigths': 'uniform', 'metric': 'manhattan'}. Best is trial 3 with value: 16.55111937943022.\u001b[0m\n",
      "C:\\Users\\danie\\AppData\\Local\\Temp\\ipykernel_9772\\625804945.py:48: FutureWarning: The frame.append method is deprecated and will be removed from pandas in a future version. Use pandas.concat instead.\n",
      "  hyperparameters_df = hyperparameters_df.append(\n",
      "\u001b[32m[I 2022-11-27 11:09:45,477]\u001b[0m Trial 5 finished with value: 16.833626236522143 and parameters: {'n_neighbors': 11, 'weigths': 'distance', 'metric': 'manhattan'}. Best is trial 3 with value: 16.55111937943022.\u001b[0m\n",
      "C:\\Users\\danie\\AppData\\Local\\Temp\\ipykernel_9772\\625804945.py:48: FutureWarning: The frame.append method is deprecated and will be removed from pandas in a future version. Use pandas.concat instead.\n",
      "  hyperparameters_df = hyperparameters_df.append(\n",
      "\u001b[32m[I 2022-11-27 11:10:17,633]\u001b[0m Trial 6 finished with value: 18.796467319363366 and parameters: {'n_neighbors': 11, 'weigths': 'uniform', 'metric': 'euclidean'}. Best is trial 3 with value: 16.55111937943022.\u001b[0m\n",
      "C:\\Users\\danie\\AppData\\Local\\Temp\\ipykernel_9772\\625804945.py:48: FutureWarning: The frame.append method is deprecated and will be removed from pandas in a future version. Use pandas.concat instead.\n",
      "  hyperparameters_df = hyperparameters_df.append(\n",
      "\u001b[32m[I 2022-11-27 11:10:48,489]\u001b[0m Trial 7 finished with value: 17.173808846277623 and parameters: {'n_neighbors': 16, 'weigths': 'uniform', 'metric': 'manhattan'}. Best is trial 3 with value: 16.55111937943022.\u001b[0m\n",
      "C:\\Users\\danie\\AppData\\Local\\Temp\\ipykernel_9772\\625804945.py:48: FutureWarning: The frame.append method is deprecated and will be removed from pandas in a future version. Use pandas.concat instead.\n",
      "  hyperparameters_df = hyperparameters_df.append(\n",
      "\u001b[32m[I 2022-11-27 11:11:16,284]\u001b[0m Trial 8 finished with value: 17.004453768743435 and parameters: {'n_neighbors': 11, 'weigths': 'uniform', 'metric': 'manhattan'}. Best is trial 3 with value: 16.55111937943022.\u001b[0m\n",
      "C:\\Users\\danie\\AppData\\Local\\Temp\\ipykernel_9772\\625804945.py:48: FutureWarning: The frame.append method is deprecated and will be removed from pandas in a future version. Use pandas.concat instead.\n",
      "  hyperparameters_df = hyperparameters_df.append(\n",
      "\u001b[32m[I 2022-11-27 11:11:33,423]\u001b[0m Trial 9 finished with value: 16.068240684018082 and parameters: {'n_neighbors': 2, 'weigths': 'uniform', 'metric': 'manhattan'}. Best is trial 9 with value: 16.068240684018082.\u001b[0m\n"
     ]
    }
   ],
   "source": [
    "# hyperparameter tuning\n",
    "\n",
    "try:\n",
    "    # file to save hyperparameters\n",
    "    hyperparameters_df = pd.read_csv('data/hyperparameter_tuning/knn.csv')\n",
    "    \n",
    "except FileNotFoundError:\n",
    "    \n",
    "    # df containing hyperparameters and evaluation metrics of each run\n",
    "    hyperparameters_df = pd.DataFrame()\n",
    "    \n",
    "    # this function is used by optuna to tune the hyperparameters\n",
    "    def objective(trial):\n",
    "\n",
    "        # define hyperparameters (https://optuna.readthedocs.io/en/v2.0.0/reference/generated/optuna.trial.Trial.html)\n",
    "        n_neighbors = trial.suggest_int('n_neighbors', 1, 20)\n",
    "        weights = trial.suggest_categorical('weigths', ['uniform', 'distance'])\n",
    "        metric = trial.suggest_categorical('metric', ['euclidean', 'manhattan'])\n",
    "        \n",
    "        # setup and train model\n",
    "        knn_reg = KNeighborsRegressor(\n",
    "            n_neighbors=n_neighbors,\n",
    "            weights=weights,\n",
    "            metric=metric\n",
    "        )\n",
    "        knn_reg.fit(X_train, y_train)\n",
    "        \n",
    "        # make predictions\n",
    "        y_val_pred = knn_reg.predict(X_val)\n",
    "        \n",
    "        # evaluate predictions\n",
    "        r_squared = r2_score(y_val, y_val_pred)\n",
    "        rmse = mean_squared_error(y_val, y_val_pred) ** 0.5\n",
    "        \n",
    "        # insert results in dataframe\n",
    "        global hyperparameters_df\n",
    "        hyperparameters_df = hyperparameters_df.append(\n",
    "            {'n_neighbors': n_neighbors,\n",
    "             'weights': weights,\n",
    "             'metric' : metric,\n",
    "             'r_squared': r_squared,\n",
    "             'rmse': rmse},\n",
    "            ignore_index=True\n",
    "        )\n",
    "        \n",
    "        # return rmse -> optuna will optimize rmse\n",
    "        return rmse\n",
    "        \n",
    "        \n",
    "    # start optimization\n",
    "    study = optuna.create_study()\n",
    "    study.optimize(objective, n_trials=25)\n",
    "    \n",
    "    # convert to correct data types\n",
    "    hyperparameters_df['n_neighbors'] = hyperparameters_df['n_neighbors'].astype('int')\n",
    "    \n",
    "    # sort hyperparameter tuning results and save file\n",
    "    hyperparameters_df = hyperparameters_df.sort_values('rmse', ascending=True)\n",
    "    hyperparameters_df = hyperparameters_df.reset_index(drop=True)\n",
    "    hyperparameters_df.to_csv('data/hyperparameter_tuning/knn.csv', index=False)"
   ]
  },
  {
   "cell_type": "code",
   "execution_count": 6,
   "id": "b1604c78-99a2-4ada-b6c2-3d46eadb92ac",
   "metadata": {},
   "outputs": [
    {
     "data": {
      "text/html": [
       "<div>\n",
       "<style scoped>\n",
       "    .dataframe tbody tr th:only-of-type {\n",
       "        vertical-align: middle;\n",
       "    }\n",
       "\n",
       "    .dataframe tbody tr th {\n",
       "        vertical-align: top;\n",
       "    }\n",
       "\n",
       "    .dataframe thead th {\n",
       "        text-align: right;\n",
       "    }\n",
       "</style>\n",
       "<table border=\"1\" class=\"dataframe\">\n",
       "  <thead>\n",
       "    <tr style=\"text-align: right;\">\n",
       "      <th></th>\n",
       "      <th>n_neighbors</th>\n",
       "      <th>weights</th>\n",
       "      <th>metric</th>\n",
       "      <th>r_squared</th>\n",
       "      <th>rmse</th>\n",
       "    </tr>\n",
       "  </thead>\n",
       "  <tbody>\n",
       "    <tr>\n",
       "      <th>0</th>\n",
       "      <td>2</td>\n",
       "      <td>uniform</td>\n",
       "      <td>manhattan</td>\n",
       "      <td>0.625153</td>\n",
       "      <td>16.068241</td>\n",
       "    </tr>\n",
       "    <tr>\n",
       "      <th>1</th>\n",
       "      <td>7</td>\n",
       "      <td>distance</td>\n",
       "      <td>manhattan</td>\n",
       "      <td>0.602285</td>\n",
       "      <td>16.551119</td>\n",
       "    </tr>\n",
       "    <tr>\n",
       "      <th>2</th>\n",
       "      <td>11</td>\n",
       "      <td>distance</td>\n",
       "      <td>manhattan</td>\n",
       "      <td>0.588592</td>\n",
       "      <td>16.833626</td>\n",
       "    </tr>\n",
       "    <tr>\n",
       "      <th>3</th>\n",
       "      <td>12</td>\n",
       "      <td>distance</td>\n",
       "      <td>manhattan</td>\n",
       "      <td>0.586394</td>\n",
       "      <td>16.878547</td>\n",
       "    </tr>\n",
       "    <tr>\n",
       "      <th>4</th>\n",
       "      <td>14</td>\n",
       "      <td>distance</td>\n",
       "      <td>manhattan</td>\n",
       "      <td>0.583056</td>\n",
       "      <td>16.946510</td>\n",
       "    </tr>\n",
       "    <tr>\n",
       "      <th>5</th>\n",
       "      <td>11</td>\n",
       "      <td>uniform</td>\n",
       "      <td>manhattan</td>\n",
       "      <td>0.580200</td>\n",
       "      <td>17.004454</td>\n",
       "    </tr>\n",
       "    <tr>\n",
       "      <th>6</th>\n",
       "      <td>12</td>\n",
       "      <td>uniform</td>\n",
       "      <td>manhattan</td>\n",
       "      <td>0.578166</td>\n",
       "      <td>17.045594</td>\n",
       "    </tr>\n",
       "    <tr>\n",
       "      <th>7</th>\n",
       "      <td>16</td>\n",
       "      <td>uniform</td>\n",
       "      <td>manhattan</td>\n",
       "      <td>0.571796</td>\n",
       "      <td>17.173809</td>\n",
       "    </tr>\n",
       "    <tr>\n",
       "      <th>8</th>\n",
       "      <td>11</td>\n",
       "      <td>uniform</td>\n",
       "      <td>euclidean</td>\n",
       "      <td>0.487056</td>\n",
       "      <td>18.796467</td>\n",
       "    </tr>\n",
       "    <tr>\n",
       "      <th>9</th>\n",
       "      <td>14</td>\n",
       "      <td>uniform</td>\n",
       "      <td>euclidean</td>\n",
       "      <td>0.481543</td>\n",
       "      <td>18.897215</td>\n",
       "    </tr>\n",
       "  </tbody>\n",
       "</table>\n",
       "</div>"
      ],
      "text/plain": [
       "   n_neighbors   weights     metric  r_squared       rmse\n",
       "0            2   uniform  manhattan   0.625153  16.068241\n",
       "1            7  distance  manhattan   0.602285  16.551119\n",
       "2           11  distance  manhattan   0.588592  16.833626\n",
       "3           12  distance  manhattan   0.586394  16.878547\n",
       "4           14  distance  manhattan   0.583056  16.946510\n",
       "5           11   uniform  manhattan   0.580200  17.004454\n",
       "6           12   uniform  manhattan   0.578166  17.045594\n",
       "7           16   uniform  manhattan   0.571796  17.173809\n",
       "8           11   uniform  euclidean   0.487056  18.796467\n",
       "9           14   uniform  euclidean   0.481543  18.897215"
      ]
     },
     "execution_count": 6,
     "metadata": {},
     "output_type": "execute_result"
    }
   ],
   "source": [
    "hyperparameters_df"
   ]
  },
  {
   "cell_type": "markdown",
   "id": "fbc81f54",
   "metadata": {},
   "source": [
    "## Final Model Evaluation"
   ]
  },
  {
   "cell_type": "code",
   "execution_count": null,
   "id": "63ae5334",
   "metadata": {},
   "outputs": [],
   "source": [
    "# build final model on test and validation data\n",
    "\n",
    "X_final_train = pd.concat([X_train, X_val], ignore_index=True)\n",
    "y_final_train = pd.concat([y_train, y_val], ignore_index=True)"
   ]
  },
  {
   "cell_type": "code",
   "execution_count": 8,
   "id": "00be0ae7-5b16-49fd-be21-c212ae88169a",
   "metadata": {},
   "outputs": [
    {
     "name": "stdout",
     "output_type": "stream",
     "text": [
      "R^2:\t0.5186334013905602\n",
      "RMSE:\t18.45080543699161\n"
     ]
    }
   ],
   "source": [
    "# final model evaluation\n",
    "\n",
    "# build and train model using the most successful hyperparameters\n",
    "knn_reg = KNeighborsRegressor(\n",
    "    n_neighbors=hyperparameters_df.loc[0, 'n_neighbors'],\n",
    "    weights=hyperparameters_df.loc[0, 'weights'],\n",
    "    metric=hyperparameters_df.loc[0, 'metric']\n",
    ")\n",
    "knn_reg.fit(X_final_train, y_final_train)\n",
    "\n",
    "# make predictions\n",
    "y_test_pred = knn_reg.predict(X_test)\n",
    "\n",
    "# evaluate predictions\n",
    "r_squared = r2_score(y_test, y_test_pred)\n",
    "rmse = mean_squared_error(y_test, y_test_pred) ** 0.5\n",
    "\n",
    "print(f'R^2:\\t{r_squared}')\n",
    "print(f'RMSE:\\t{rmse}')"
   ]
  },
  {
   "cell_type": "markdown",
   "id": "0dd060f2",
   "metadata": {},
   "source": [
    "## Corona Evaluation"
   ]
  },
  {
   "cell_type": "code",
   "execution_count": 10,
   "id": "501b297b",
   "metadata": {},
   "outputs": [
    {
     "name": "stdout",
     "output_type": "stream",
     "text": [
      "R^2:\t-0.7616299232449355\n",
      "RMSE:\t20.778309759299695\n"
     ]
    }
   ],
   "source": [
    "# predictions on corona year 2020\n",
    "\n",
    "# make predictions\n",
    "y_corona_pred = knn_reg.predict(X_corona)\n",
    "\n",
    "# evaluate predictions\n",
    "r_squared_c = r2_score(y_corona, y_corona_pred)\n",
    "rmse_c = mean_squared_error(y_corona, y_corona_pred) ** 0.5\n",
    "\n",
    "print(f'R^2:\\t{r_squared_c}')\n",
    "print(f'RMSE:\\t{rmse_c}')"
   ]
  }
 ],
 "metadata": {
  "kernelspec": {
   "display_name": "Python 3 (ipykernel)",
   "language": "python",
   "name": "python3"
  },
  "language_info": {
   "codemirror_mode": {
    "name": "ipython",
    "version": 3
   },
   "file_extension": ".py",
   "mimetype": "text/x-python",
   "name": "python",
   "nbconvert_exporter": "python",
   "pygments_lexer": "ipython3",
   "version": "3.9.12"
  }
 },
 "nbformat": 4,
 "nbformat_minor": 5
}
